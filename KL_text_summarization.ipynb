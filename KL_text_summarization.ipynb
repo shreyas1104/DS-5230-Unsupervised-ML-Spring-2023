{
  "nbformat": 4,
  "nbformat_minor": 0,
  "metadata": {
    "colab": {
      "provenance": []
    },
    "kernelspec": {
      "name": "python3",
      "display_name": "Python 3"
    },
    "language_info": {
      "name": "python"
    }
  },
  "cells": [
    {
      "cell_type": "code",
      "execution_count": 4,
      "metadata": {
        "id": "4BnQfGjl2r9r",
        "colab": {
          "base_uri": "https://localhost:8080/"
        },
        "outputId": "a88c4ee2-44f2-4158-c920-9e74c63d9234"
      },
      "outputs": [
        {
          "output_type": "stream",
          "name": "stderr",
          "text": [
            "[nltk_data] Downloading package punkt to /root/nltk_data...\n",
            "[nltk_data]   Package punkt is already up-to-date!\n"
          ]
        },
        {
          "output_type": "stream",
          "name": "stdout",
          "text": [
            "Looking in indexes: https://pypi.org/simple, https://us-python.pkg.dev/colab-wheels/public/simple/\n",
            "Requirement already satisfied: rouge-score in /usr/local/lib/python3.9/dist-packages (0.1.2)\n",
            "Requirement already satisfied: nltk in /usr/local/lib/python3.9/dist-packages (from rouge-score) (3.8.1)\n",
            "Requirement already satisfied: absl-py in /usr/local/lib/python3.9/dist-packages (from rouge-score) (1.4.0)\n",
            "Requirement already satisfied: six>=1.14.0 in /usr/local/lib/python3.9/dist-packages (from rouge-score) (1.16.0)\n",
            "Requirement already satisfied: numpy in /usr/local/lib/python3.9/dist-packages (from rouge-score) (1.22.4)\n",
            "Requirement already satisfied: regex>=2021.8.3 in /usr/local/lib/python3.9/dist-packages (from nltk->rouge-score) (2022.10.31)\n",
            "Requirement already satisfied: joblib in /usr/local/lib/python3.9/dist-packages (from nltk->rouge-score) (1.1.1)\n",
            "Requirement already satisfied: tqdm in /usr/local/lib/python3.9/dist-packages (from nltk->rouge-score) (4.65.0)\n",
            "Requirement already satisfied: click in /usr/local/lib/python3.9/dist-packages (from nltk->rouge-score) (8.1.3)\n"
          ]
        }
      ],
      "source": [
        "import pandas as pd\n",
        "import numpy as np\n",
        "from sklearn.datasets import fetch_20newsgroups\n",
        "from sklearn.feature_extraction.text import TfidfVectorizer, CountVectorizer\n",
        "from sklearn.decomposition import LatentDirichletAllocation\n",
        "import glob\n",
        "import os\n",
        "from gensim.parsing import strip_tags, strip_numeric, strip_multiple_whitespaces, stem_text, strip_punctuation, remove_stopwords\n",
        "from gensim.parsing import preprocess_string\n",
        "import re\n",
        "import nltk\n",
        "import math\n",
        "from nltk.tokenize import sent_tokenize\n",
        "nltk.download('punkt')\n",
        "! pip install rouge-score\n",
        "from rouge_score import rouge_scorer"
      ]
    },
    {
      "cell_type": "code",
      "source": [
        "from google.colab import drive\n",
        "drive.mount('/content/drive')"
      ],
      "metadata": {
        "colab": {
          "base_uri": "https://localhost:8080/"
        },
        "id": "MTDPIeuIs8L3",
        "outputId": "7fa630e2-1a9b-4294-87cf-6fc49c979560"
      },
      "execution_count": 3,
      "outputs": [
        {
          "output_type": "stream",
          "name": "stdout",
          "text": [
            "Mounted at /content/drive\n"
          ]
        }
      ]
    },
    {
      "cell_type": "code",
      "source": [
        "def kl_divergence(p, q):\n",
        "    kl = 0 \n",
        "    lambda_param = 0.01\n",
        "    for i in range(p.shape[0]): \n",
        "        p_i = p[i]\n",
        "        q_i = q[i]\n",
        "        kl += p_i * math.log((p_i + lambda_param) / (q_i + lambda_param ))\n",
        "\n",
        "    return kl\n",
        "\n",
        "\n",
        "def kl_summarize (cleaned_docs, num_of_sentences):\n",
        "\n",
        "    summaries = []\n",
        "\n",
        "    for cleaned_doc in cleaned_docs:\n",
        "\n",
        "      vectorizer = TfidfVectorizer(stop_words='english')\n",
        "      doc_term_matrix = vectorizer.fit_transform([cleaned_doc])\n",
        "\n",
        "      summary = []\n",
        "      picked_sentences = set()\n",
        "\n",
        "      for _ in range(num_of_sentences):\n",
        "\n",
        "          curr_sentence = ''\n",
        "          curr_sentence_score = float('-inf')\n",
        "          curr_sentence_index = 0\n",
        "\n",
        "          for sentence in nltk.sent_tokenize(cleaned_doc):\n",
        "            \n",
        "              if curr_sentence_index not in picked_sentences: \n",
        "                  new_sentences = list(map(lambda x:x[0], summary))\n",
        "                  new_sentences.append(sentence)\n",
        "                  kl_score = kl_divergence(doc_term_matrix.T.toarray(), vectorizer.transform([' '.join(new_sentences)]).T.toarray())\n",
        "                  if kl_score > curr_sentence_score:\n",
        "                    curr_sentence_score = kl_score\n",
        "                    curr_sentence = (sentence, curr_sentence_index)\n",
        "                  curr_sentence_index += 1\n",
        "\n",
        "          if curr_sentence != '':\n",
        "              summary.append(curr_sentence)\n",
        "              picked_sentences.add(curr_sentence[1])\n",
        "\n",
        "      summary = sorted(summary, key = lambda x: x[1]) \n",
        "      summaries.append(' '.join(list(map(lambda x: x[0], summary))))\n",
        "\n",
        "    return summaries"
      ],
      "metadata": {
        "id": "Aipot4PHNu9r"
      },
      "execution_count": 13,
      "outputs": []
    },
    {
      "cell_type": "code",
      "source": [
        "def lda_summarize(cleaned_docs, num_of_sentences, num_of_topics=1000, n_top_words=20):\n",
        "\n",
        "    summaries = []\n",
        "\n",
        "    for cleaned_doc in cleaned_docs:\n",
        "\n",
        "      vectorizer = TfidfVectorizer(stop_words='english')\n",
        "      doc_term_matrix = vectorizer.fit_transform([cleaned_doc])\n",
        "      \n",
        "      lda = LatentDirichletAllocation(n_components=num_of_topics, max_iter=20, random_state=42)\n",
        "      lda.fit(doc_term_matrix)\n",
        "\n",
        "      # Get the most probable words for each topic\n",
        "      feature_names = vectorizer.get_feature_names_out()\n",
        "      topic_words = []\n",
        "      for topic_idx, topic in enumerate(lda.components_):\n",
        "          top_features_ind = topic.argsort()[: -n_top_words - 1 : -1]\n",
        "          top_features = [feature_names[i] for i in top_features_ind]\n",
        "\n",
        "      # Get the topic distribution for each sentence\n",
        "      sentence_topics = []\n",
        "      for sentence in nltk.sent_tokenize(cleaned_doc):\n",
        "          sentence_model = vectorizer.transform([sentence])\n",
        "          sentence_topics.append(lda.transform(sentence_model)[0])\n",
        "\n",
        "      # Pick the top sentences based on the topic diversity\n",
        "      summary = []\n",
        "      picked_sentences = set()\n",
        "\n",
        "      for _ in range(num_of_sentences):\n",
        "\n",
        "          best_sentence = ''\n",
        "          best_score = 0\n",
        "\n",
        "          for i, sentence in enumerate(sentence_topics):\n",
        "              if i not in picked_sentences: \n",
        "                  sentence_score = sum([sentence[j]*sentence_topics[j][k] for j in range(len(sentence_topics)) for k in range(num_of_topics)])\n",
        "                  if sentence_score > best_score:\n",
        "                      best_sentence = i\n",
        "                      best_score = sentence_score\n",
        "\n",
        "          if best_sentence != '':\n",
        "              summary.append((nltk.sent_tokenize(cleaned_doc)[best_sentence], best_sentence))\n",
        "              picked_sentences.add(best_sentence)\n",
        "\n",
        "      summary = sorted(summary, key=lambda x: x[1])\n",
        "      summaries.append(' '.join(list(map(lambda x: x[0], summary))))\n",
        "\n",
        "    return summaries"
      ],
      "metadata": {
        "id": "RphQiTwZnGnS"
      },
      "execution_count": 20,
      "outputs": []
    },
    {
      "cell_type": "markdown",
      "source": [
        "### DUC"
      ],
      "metadata": {
        "id": "ShAuw-nDmrjG"
      }
    },
    {
      "cell_type": "code",
      "source": [
        "path = '/content/drive/MyDrive/UML/HW5A/DUC2001'\n",
        "\n",
        "contents = []\n",
        "summaries = []\n",
        "\n",
        "data = { 'Article' : [] , 'Content' : [] , 'Summary' : [] }\n",
        "\n",
        "for name in glob.glob(path + '/*'):\n",
        "    \n",
        "    filename  = os.path.basename(name)\n",
        "    contents = ''\n",
        "    summaries = ''\n",
        "\n",
        "    try:\n",
        "        if filename == 'annotations.txt' or filename in 'notes.txt':\n",
        "            continue\n",
        "            \n",
        "        with open(path + '/Summaries/{}.txt'.format(filename.lower())) as file:\n",
        "            f = file.read()\n",
        "            abs = f.find('Abstract:')\n",
        "            len_abs = len('Abstract:')\n",
        "            intr = f.find('Introduction:')\n",
        "            len_intr = len('Introduction:')\n",
        "            \n",
        "            summaries = f[(abs+len_abs):intr] \n",
        "            contents = f[(intr+len_intr):]\n",
        "            \n",
        "    except:\n",
        "        continue\n",
        "        \n",
        "    data['Article'].append(filename)\n",
        "    data['Summary'].append(summaries.strip().replace('\\n', ' '))\n",
        "    data['Content'].append(contents.strip().replace('\\n', ' ').replace('    ', ' ').replace(' \\x1a', ''))"
      ],
      "metadata": {
        "id": "OiJi_r2j-p9g"
      },
      "execution_count": 5,
      "outputs": []
    },
    {
      "cell_type": "code",
      "source": [
        "df = pd.DataFrame(data)"
      ],
      "metadata": {
        "id": "vcV4YRie_5pZ"
      },
      "execution_count": 6,
      "outputs": []
    },
    {
      "cell_type": "code",
      "source": [
        "df.head()"
      ],
      "metadata": {
        "colab": {
          "base_uri": "https://localhost:8080/",
          "height": 206
        },
        "id": "j18f4E6s_6Do",
        "outputId": "cf740c24-b4b0-4ddc-a869-3cef5c9c9d4a"
      },
      "execution_count": 7,
      "outputs": [
        {
          "output_type": "execute_result",
          "data": {
            "text/plain": [
              "      Article                                            Content  \\\n",
              "0  FT911-5176  Sir, Mr James Skinner (Letters, April 11) char...   \n",
              "1  FT943-4951  The Jwaneng mine, on the fringes of the Kalaha...   \n",
              "2  FT923-5835  GENERAL ACCIDENT, the leading British insurer,...   \n",
              "3  FT934-9116  THE FIGHT over the North American Free Trade A...   \n",
              "4  FT933-5709  THE MAN President Bill Clinton has chosen to h...   \n",
              "\n",
              "                                             Summary  \n",
              "0  Lord Bauer, House of Lords, makes the followin...  \n",
              "1  De Beers' 100-year old Kimberley diamond mines...  \n",
              "2  General Accident (GA), the leading British ins...  \n",
              "3  After Vice President Gore's debate victory ove...  \n",
              "4  President Clinton chose William Daley, son of ...  "
            ],
            "text/html": [
              "\n",
              "  <div id=\"df-c0586a09-cd35-496b-b746-c31b4e0dc8ad\">\n",
              "    <div class=\"colab-df-container\">\n",
              "      <div>\n",
              "<style scoped>\n",
              "    .dataframe tbody tr th:only-of-type {\n",
              "        vertical-align: middle;\n",
              "    }\n",
              "\n",
              "    .dataframe tbody tr th {\n",
              "        vertical-align: top;\n",
              "    }\n",
              "\n",
              "    .dataframe thead th {\n",
              "        text-align: right;\n",
              "    }\n",
              "</style>\n",
              "<table border=\"1\" class=\"dataframe\">\n",
              "  <thead>\n",
              "    <tr style=\"text-align: right;\">\n",
              "      <th></th>\n",
              "      <th>Article</th>\n",
              "      <th>Content</th>\n",
              "      <th>Summary</th>\n",
              "    </tr>\n",
              "  </thead>\n",
              "  <tbody>\n",
              "    <tr>\n",
              "      <th>0</th>\n",
              "      <td>FT911-5176</td>\n",
              "      <td>Sir, Mr James Skinner (Letters, April 11) char...</td>\n",
              "      <td>Lord Bauer, House of Lords, makes the followin...</td>\n",
              "    </tr>\n",
              "    <tr>\n",
              "      <th>1</th>\n",
              "      <td>FT943-4951</td>\n",
              "      <td>The Jwaneng mine, on the fringes of the Kalaha...</td>\n",
              "      <td>De Beers' 100-year old Kimberley diamond mines...</td>\n",
              "    </tr>\n",
              "    <tr>\n",
              "      <th>2</th>\n",
              "      <td>FT923-5835</td>\n",
              "      <td>GENERAL ACCIDENT, the leading British insurer,...</td>\n",
              "      <td>General Accident (GA), the leading British ins...</td>\n",
              "    </tr>\n",
              "    <tr>\n",
              "      <th>3</th>\n",
              "      <td>FT934-9116</td>\n",
              "      <td>THE FIGHT over the North American Free Trade A...</td>\n",
              "      <td>After Vice President Gore's debate victory ove...</td>\n",
              "    </tr>\n",
              "    <tr>\n",
              "      <th>4</th>\n",
              "      <td>FT933-5709</td>\n",
              "      <td>THE MAN President Bill Clinton has chosen to h...</td>\n",
              "      <td>President Clinton chose William Daley, son of ...</td>\n",
              "    </tr>\n",
              "  </tbody>\n",
              "</table>\n",
              "</div>\n",
              "      <button class=\"colab-df-convert\" onclick=\"convertToInteractive('df-c0586a09-cd35-496b-b746-c31b4e0dc8ad')\"\n",
              "              title=\"Convert this dataframe to an interactive table.\"\n",
              "              style=\"display:none;\">\n",
              "        \n",
              "  <svg xmlns=\"http://www.w3.org/2000/svg\" height=\"24px\"viewBox=\"0 0 24 24\"\n",
              "       width=\"24px\">\n",
              "    <path d=\"M0 0h24v24H0V0z\" fill=\"none\"/>\n",
              "    <path d=\"M18.56 5.44l.94 2.06.94-2.06 2.06-.94-2.06-.94-.94-2.06-.94 2.06-2.06.94zm-11 1L8.5 8.5l.94-2.06 2.06-.94-2.06-.94L8.5 2.5l-.94 2.06-2.06.94zm10 10l.94 2.06.94-2.06 2.06-.94-2.06-.94-.94-2.06-.94 2.06-2.06.94z\"/><path d=\"M17.41 7.96l-1.37-1.37c-.4-.4-.92-.59-1.43-.59-.52 0-1.04.2-1.43.59L10.3 9.45l-7.72 7.72c-.78.78-.78 2.05 0 2.83L4 21.41c.39.39.9.59 1.41.59.51 0 1.02-.2 1.41-.59l7.78-7.78 2.81-2.81c.8-.78.8-2.07 0-2.86zM5.41 20L4 18.59l7.72-7.72 1.47 1.35L5.41 20z\"/>\n",
              "  </svg>\n",
              "      </button>\n",
              "      \n",
              "  <style>\n",
              "    .colab-df-container {\n",
              "      display:flex;\n",
              "      flex-wrap:wrap;\n",
              "      gap: 12px;\n",
              "    }\n",
              "\n",
              "    .colab-df-convert {\n",
              "      background-color: #E8F0FE;\n",
              "      border: none;\n",
              "      border-radius: 50%;\n",
              "      cursor: pointer;\n",
              "      display: none;\n",
              "      fill: #1967D2;\n",
              "      height: 32px;\n",
              "      padding: 0 0 0 0;\n",
              "      width: 32px;\n",
              "    }\n",
              "\n",
              "    .colab-df-convert:hover {\n",
              "      background-color: #E2EBFA;\n",
              "      box-shadow: 0px 1px 2px rgba(60, 64, 67, 0.3), 0px 1px 3px 1px rgba(60, 64, 67, 0.15);\n",
              "      fill: #174EA6;\n",
              "    }\n",
              "\n",
              "    [theme=dark] .colab-df-convert {\n",
              "      background-color: #3B4455;\n",
              "      fill: #D2E3FC;\n",
              "    }\n",
              "\n",
              "    [theme=dark] .colab-df-convert:hover {\n",
              "      background-color: #434B5C;\n",
              "      box-shadow: 0px 1px 3px 1px rgba(0, 0, 0, 0.15);\n",
              "      filter: drop-shadow(0px 1px 2px rgba(0, 0, 0, 0.3));\n",
              "      fill: #FFFFFF;\n",
              "    }\n",
              "  </style>\n",
              "\n",
              "      <script>\n",
              "        const buttonEl =\n",
              "          document.querySelector('#df-c0586a09-cd35-496b-b746-c31b4e0dc8ad button.colab-df-convert');\n",
              "        buttonEl.style.display =\n",
              "          google.colab.kernel.accessAllowed ? 'block' : 'none';\n",
              "\n",
              "        async function convertToInteractive(key) {\n",
              "          const element = document.querySelector('#df-c0586a09-cd35-496b-b746-c31b4e0dc8ad');\n",
              "          const dataTable =\n",
              "            await google.colab.kernel.invokeFunction('convertToInteractive',\n",
              "                                                     [key], {});\n",
              "          if (!dataTable) return;\n",
              "\n",
              "          const docLinkHtml = 'Like what you see? Visit the ' +\n",
              "            '<a target=\"_blank\" href=https://colab.research.google.com/notebooks/data_table.ipynb>data table notebook</a>'\n",
              "            + ' to learn more about interactive tables.';\n",
              "          element.innerHTML = '';\n",
              "          dataTable['output_type'] = 'display_data';\n",
              "          await google.colab.output.renderOutput(dataTable, element);\n",
              "          const docLink = document.createElement('div');\n",
              "          docLink.innerHTML = docLinkHtml;\n",
              "          element.appendChild(docLink);\n",
              "        }\n",
              "      </script>\n",
              "    </div>\n",
              "  </div>\n",
              "  "
            ]
          },
          "metadata": {},
          "execution_count": 7
        }
      ]
    },
    {
      "cell_type": "code",
      "source": [
        "transform_to_lower = lambda s: re.sub(r'(?<=\\w)(\\w+)', lambda x: x.group().lower(), s)\n",
        "\n",
        "CLEAN_FILTERS = [strip_multiple_whitespaces, transform_to_lower]\n",
        "\n",
        "def preprocessingContent(document):\n",
        "    processed_words = preprocess_string(document, CLEAN_FILTERS)\n",
        "    return processed_words\n",
        "\n",
        "def joinList(processed_words):\n",
        "    return ' '.join(processed_words)"
      ],
      "metadata": {
        "id": "AzOmrcTbHuhc"
      },
      "execution_count": 60,
      "outputs": []
    },
    {
      "cell_type": "code",
      "source": [
        "df['cleanedContent'] = df['Content'].apply(preprocessingContent).apply(joinList)"
      ],
      "metadata": {
        "id": "wDV8J8DWIoSs"
      },
      "execution_count": 35,
      "outputs": []
    },
    {
      "cell_type": "code",
      "source": [
        "df.head()"
      ],
      "metadata": {
        "colab": {
          "base_uri": "https://localhost:8080/",
          "height": 206
        },
        "id": "wVn16yAnifor",
        "outputId": "841ef7f1-afa1-40da-a932-ee925c83e9b4"
      },
      "execution_count": 36,
      "outputs": [
        {
          "output_type": "execute_result",
          "data": {
            "text/plain": [
              "      Article                                            Content  \\\n",
              "0  FT911-5176  Sir, Mr James Skinner (Letters, April 11) char...   \n",
              "1  FT943-4951  The Jwaneng mine, on the fringes of the Kalaha...   \n",
              "2  FT923-5835  GENERAL ACCIDENT, the leading British insurer,...   \n",
              "3  FT934-9116  THE FIGHT over the North American Free Trade A...   \n",
              "4  FT933-5709  THE MAN President Bill Clinton has chosen to h...   \n",
              "\n",
              "                                             Summary  \\\n",
              "0  Lord Bauer, House of Lords, makes the followin...   \n",
              "1  De Beers' 100-year old Kimberley diamond mines...   \n",
              "2  General Accident (GA), the leading British ins...   \n",
              "3  After Vice President Gore's debate victory ove...   \n",
              "4  President Clinton chose William Daley, son of ...   \n",
              "\n",
              "                                      cleanedContent  \n",
              "0  Sir, Mr James Skinner (Letters, April 11) char...  \n",
              "1  The Jwaneng mine, on the fringes of the Kalaha...  \n",
              "2  General Accident, the leading British insurer,...  \n",
              "3  The Fight over the North American Free Trade A...  \n",
              "4  The Man President Bill Clinton has chosen to h...  "
            ],
            "text/html": [
              "\n",
              "  <div id=\"df-64e8bcb3-e578-4e5e-8fd4-c23ae3b47fcd\">\n",
              "    <div class=\"colab-df-container\">\n",
              "      <div>\n",
              "<style scoped>\n",
              "    .dataframe tbody tr th:only-of-type {\n",
              "        vertical-align: middle;\n",
              "    }\n",
              "\n",
              "    .dataframe tbody tr th {\n",
              "        vertical-align: top;\n",
              "    }\n",
              "\n",
              "    .dataframe thead th {\n",
              "        text-align: right;\n",
              "    }\n",
              "</style>\n",
              "<table border=\"1\" class=\"dataframe\">\n",
              "  <thead>\n",
              "    <tr style=\"text-align: right;\">\n",
              "      <th></th>\n",
              "      <th>Article</th>\n",
              "      <th>Content</th>\n",
              "      <th>Summary</th>\n",
              "      <th>cleanedContent</th>\n",
              "    </tr>\n",
              "  </thead>\n",
              "  <tbody>\n",
              "    <tr>\n",
              "      <th>0</th>\n",
              "      <td>FT911-5176</td>\n",
              "      <td>Sir, Mr James Skinner (Letters, April 11) char...</td>\n",
              "      <td>Lord Bauer, House of Lords, makes the followin...</td>\n",
              "      <td>Sir, Mr James Skinner (Letters, April 11) char...</td>\n",
              "    </tr>\n",
              "    <tr>\n",
              "      <th>1</th>\n",
              "      <td>FT943-4951</td>\n",
              "      <td>The Jwaneng mine, on the fringes of the Kalaha...</td>\n",
              "      <td>De Beers' 100-year old Kimberley diamond mines...</td>\n",
              "      <td>The Jwaneng mine, on the fringes of the Kalaha...</td>\n",
              "    </tr>\n",
              "    <tr>\n",
              "      <th>2</th>\n",
              "      <td>FT923-5835</td>\n",
              "      <td>GENERAL ACCIDENT, the leading British insurer,...</td>\n",
              "      <td>General Accident (GA), the leading British ins...</td>\n",
              "      <td>General Accident, the leading British insurer,...</td>\n",
              "    </tr>\n",
              "    <tr>\n",
              "      <th>3</th>\n",
              "      <td>FT934-9116</td>\n",
              "      <td>THE FIGHT over the North American Free Trade A...</td>\n",
              "      <td>After Vice President Gore's debate victory ove...</td>\n",
              "      <td>The Fight over the North American Free Trade A...</td>\n",
              "    </tr>\n",
              "    <tr>\n",
              "      <th>4</th>\n",
              "      <td>FT933-5709</td>\n",
              "      <td>THE MAN President Bill Clinton has chosen to h...</td>\n",
              "      <td>President Clinton chose William Daley, son of ...</td>\n",
              "      <td>The Man President Bill Clinton has chosen to h...</td>\n",
              "    </tr>\n",
              "  </tbody>\n",
              "</table>\n",
              "</div>\n",
              "      <button class=\"colab-df-convert\" onclick=\"convertToInteractive('df-64e8bcb3-e578-4e5e-8fd4-c23ae3b47fcd')\"\n",
              "              title=\"Convert this dataframe to an interactive table.\"\n",
              "              style=\"display:none;\">\n",
              "        \n",
              "  <svg xmlns=\"http://www.w3.org/2000/svg\" height=\"24px\"viewBox=\"0 0 24 24\"\n",
              "       width=\"24px\">\n",
              "    <path d=\"M0 0h24v24H0V0z\" fill=\"none\"/>\n",
              "    <path d=\"M18.56 5.44l.94 2.06.94-2.06 2.06-.94-2.06-.94-.94-2.06-.94 2.06-2.06.94zm-11 1L8.5 8.5l.94-2.06 2.06-.94-2.06-.94L8.5 2.5l-.94 2.06-2.06.94zm10 10l.94 2.06.94-2.06 2.06-.94-2.06-.94-.94-2.06-.94 2.06-2.06.94z\"/><path d=\"M17.41 7.96l-1.37-1.37c-.4-.4-.92-.59-1.43-.59-.52 0-1.04.2-1.43.59L10.3 9.45l-7.72 7.72c-.78.78-.78 2.05 0 2.83L4 21.41c.39.39.9.59 1.41.59.51 0 1.02-.2 1.41-.59l7.78-7.78 2.81-2.81c.8-.78.8-2.07 0-2.86zM5.41 20L4 18.59l7.72-7.72 1.47 1.35L5.41 20z\"/>\n",
              "  </svg>\n",
              "      </button>\n",
              "      \n",
              "  <style>\n",
              "    .colab-df-container {\n",
              "      display:flex;\n",
              "      flex-wrap:wrap;\n",
              "      gap: 12px;\n",
              "    }\n",
              "\n",
              "    .colab-df-convert {\n",
              "      background-color: #E8F0FE;\n",
              "      border: none;\n",
              "      border-radius: 50%;\n",
              "      cursor: pointer;\n",
              "      display: none;\n",
              "      fill: #1967D2;\n",
              "      height: 32px;\n",
              "      padding: 0 0 0 0;\n",
              "      width: 32px;\n",
              "    }\n",
              "\n",
              "    .colab-df-convert:hover {\n",
              "      background-color: #E2EBFA;\n",
              "      box-shadow: 0px 1px 2px rgba(60, 64, 67, 0.3), 0px 1px 3px 1px rgba(60, 64, 67, 0.15);\n",
              "      fill: #174EA6;\n",
              "    }\n",
              "\n",
              "    [theme=dark] .colab-df-convert {\n",
              "      background-color: #3B4455;\n",
              "      fill: #D2E3FC;\n",
              "    }\n",
              "\n",
              "    [theme=dark] .colab-df-convert:hover {\n",
              "      background-color: #434B5C;\n",
              "      box-shadow: 0px 1px 3px 1px rgba(0, 0, 0, 0.15);\n",
              "      filter: drop-shadow(0px 1px 2px rgba(0, 0, 0, 0.3));\n",
              "      fill: #FFFFFF;\n",
              "    }\n",
              "  </style>\n",
              "\n",
              "      <script>\n",
              "        const buttonEl =\n",
              "          document.querySelector('#df-64e8bcb3-e578-4e5e-8fd4-c23ae3b47fcd button.colab-df-convert');\n",
              "        buttonEl.style.display =\n",
              "          google.colab.kernel.accessAllowed ? 'block' : 'none';\n",
              "\n",
              "        async function convertToInteractive(key) {\n",
              "          const element = document.querySelector('#df-64e8bcb3-e578-4e5e-8fd4-c23ae3b47fcd');\n",
              "          const dataTable =\n",
              "            await google.colab.kernel.invokeFunction('convertToInteractive',\n",
              "                                                     [key], {});\n",
              "          if (!dataTable) return;\n",
              "\n",
              "          const docLinkHtml = 'Like what you see? Visit the ' +\n",
              "            '<a target=\"_blank\" href=https://colab.research.google.com/notebooks/data_table.ipynb>data table notebook</a>'\n",
              "            + ' to learn more about interactive tables.';\n",
              "          element.innerHTML = '';\n",
              "          dataTable['output_type'] = 'display_data';\n",
              "          await google.colab.output.renderOutput(dataTable, element);\n",
              "          const docLink = document.createElement('div');\n",
              "          docLink.innerHTML = docLinkHtml;\n",
              "          element.appendChild(docLink);\n",
              "        }\n",
              "      </script>\n",
              "    </div>\n",
              "  </div>\n",
              "  "
            ]
          },
          "metadata": {},
          "execution_count": 36
        }
      ]
    },
    {
      "cell_type": "markdown",
      "source": [
        "#### KL Divergence"
      ],
      "metadata": {
        "id": "WCQib7_cm-2c"
      }
    },
    {
      "cell_type": "code",
      "source": [
        "cleaned_docs = []\n",
        "documents = []\n",
        "for i in range(len(df)):\n",
        "    content = df.iloc[i,1]\n",
        "    cleanedContent = df.iloc[i,3]\n",
        "    if cleanedContent != '\\x1a':\n",
        "        documents.append(content)\n",
        "        cleaned_docs.append(cleanedContent)\n",
        "\n",
        "summaries = kl_summarize(cleaned_docs[:10], 15)\n",
        "\n",
        "for summary in summaries:\n",
        "    print(summary)\n",
        "    print('-'*100)"
      ],
      "metadata": {
        "colab": {
          "base_uri": "https://localhost:8080/"
        },
        "id": "hecs9SJyN06l",
        "outputId": "0c016565-fc3c-4e9e-c522-8df23bd0d108"
      },
      "execution_count": 44,
      "outputs": [
        {
          "output_type": "stream",
          "name": "stdout",
          "text": [
            "Sir, Mr James Skinner (Letters, April 11) charges me with misuse of statistics and understanding the debt burden of poor countries. He cites Africa to support his contention. Such considerations are reinforced by ubiquitous civil conflict. Bauer House of Lords, Westminster Sw1\n",
            "----------------------------------------------------------------------------------------------------\n",
            "The Jwaneng mine, on the fringes of the Kalahari desert in Botswana, is known as 'a gem in the world of gems' because it almost certainly is the richest diamond mine in the world - at least in terms of the value of the stones it yields. Jwaneng's position is being reinforced by a Usdollars 160m expansion programme at present being completed three months ahead of schedule and under budget. The value of Jwaneng to Botswana cannot be overstated. Now a so-called fourth stream is being completed which is adding one-third to processing capacity. Already it is 2kms long and 1km wide.\n",
            "----------------------------------------------------------------------------------------------------\n",
            "General Accident, the leading British insurer, said yesterday that insurance claims arising from Hurricane Andrew could 'cost it as much as Dollars 40m.' What this means is that Ga is able to pass on its losses to external reinsurers once a certain claims threshold has been breached. It believes this threshold may be breached in respect of Hurricane Andrew claims. It has a branch in Orlando.\n",
            "----------------------------------------------------------------------------------------------------\n",
            "The Fight over the North American Free Trade Agreement yesterday shifted outside Washington to the Congressional districts of members, sampling public opinion at home during this Veterans' Day holiday weekend. A Usa Today/Cnn poll of debate watchers found support for the trade pact between the Us, Canada and Mexico had shot up from 34 per cent before the debate to 57 per cent after it. Meanwhile in Mexico the country's Congress launched a fierce attack on Mr Perot and other critics of its political system yesterday, in a furious response to Mr Perot's comments in the debate. Mr Perot claimed Mexicans were treated worse than animals and livestock in the Us, were oppressed by the government, and enjoyed few if any labour and democratic rights. He said just 34 families owned half the country, and some 85m others lived in poverty. We condemn them as inadmissible and without foundation.'\n",
            "----------------------------------------------------------------------------------------------------\n",
            "The Man President Bill Clinton has chosen to head the task force to help get his free trade pact with Canada and Mexico ratified may lack experience in international trade arenas. But he comes to Washington well prepared for the kind of back-room political arm-twisting that will be required to persuade a divided Congress to pass it. He has never run for political office. You may not see him, but you'll see the results.'\n",
            "----------------------------------------------------------------------------------------------------\n",
            "The smoke has cleared a little.\n",
            "----------------------------------------------------------------------------------------------------\n",
            "Turbulence in the global diamond markets is being felt even here at Venetia, De Beers' newest diamond mine, 30km from South Africa's borders with Botswana and Zimbabwe. For a time Venetia, the first mine of any sort in South Africa to gain permission for seven-day working, moved to a five-day week. This year it has gone back to seven-day working as the quotas were eased so that the Cso is now accepting 85 per cent of the diamonds it contracted to take from producers. However, there is still turmoil in the diamond market, caused by uncertainty about Russian exports following 'leaks' of stones from that country outside its contract with the Cso. It is also mining an area of lower grade ore, which has fewer diamonds in each tonne. This year will be a time of consolidation. He insists that the quota is having no impact on employment. For example, there are no migrant workers at the mine.\n",
            "----------------------------------------------------------------------------------------------------\n",
            "In Virginia the North American Free Trade Agreement evokes a passionate opposition, but football, apparently, still is the reigning obsession. Only 115 demonstrators turned out amid the autumn foliage in the grounds of Virginia's capitol in Richmond. They came promptly at two in the afternoon and by three most were gone. 'The unions had gotten to everyone.\n",
            "----------------------------------------------------------------------------------------------------\n",
            "Summary A lengthy statement attributed to the imprisoned Shining Path leadership, published recently in a leading opposition newspaper, provides what appears to be a strategic rationale for the peace proposal made by the insurgents last fall. The paper claimed that the \"anonymous sources\" who supplied the \"secret\" document provided \"full authentication\" and that \"experts\" consulted by the paper also \"agreed\" that the document was the handiwork of imprisoned Shining Path leader Abimael Guzman (La Republica, 26 January). (See Note 1) (Note 1) La Republica did not assert that the document was actually signed by Guzman. (See Note 2) (Note 2) Among other objectives, the narrowly successful referendum was designed to allow the president to serve a second successive term. .\n",
            "----------------------------------------------------------------------------------------------------\n",
            "Just weeks ago, the prospects for the North American free trade agreement seemed assured. 'They have been contacted by their local churches, labour unions, farm groups, environmental or consumer organisations. There is a new awareness of its costs and that has come back to their representatives in Washington.'\n",
            "----------------------------------------------------------------------------------------------------\n"
          ]
        }
      ]
    },
    {
      "cell_type": "code",
      "source": [
        "scorer = rouge_scorer.RougeScorer(['rouge1', 'rouge2', 'rougeL'], use_stemmer=True)\n",
        "\n",
        "for i in range(10):\n",
        "    print('Document', i+1)\n",
        "    scores = scorer.score(df['Summary'][i], summaries[i])\n",
        "    for k,v in scores.items():\n",
        "        print(k,v)\n",
        "    print('-'*110)"
      ],
      "metadata": {
        "colab": {
          "base_uri": "https://localhost:8080/"
        },
        "id": "CeUQ1kXN0ZDr",
        "outputId": "bb6ada72-5ead-4060-d050-c5cf602557e8"
      },
      "execution_count": 50,
      "outputs": [
        {
          "output_type": "stream",
          "name": "stdout",
          "text": [
            "Document 1\n",
            "rouge1 Score(precision=0.5, recall=0.1926605504587156, fmeasure=0.27814569536423844)\n",
            "rouge2 Score(precision=0.1951219512195122, recall=0.07407407407407407, fmeasure=0.10738255033557047)\n",
            "rougeL Score(precision=0.3333333333333333, recall=0.12844036697247707, fmeasure=0.18543046357615894)\n",
            "--------------------------------------------------------------------------------------------------------------\n",
            "Document 2\n",
            "rouge1 Score(precision=0.3269230769230769, recall=0.3063063063063063, fmeasure=0.3162790697674419)\n",
            "rouge2 Score(precision=0.11650485436893204, recall=0.10909090909090909, fmeasure=0.11267605633802817)\n",
            "rougeL Score(precision=0.18269230769230768, recall=0.17117117117117117, fmeasure=0.17674418604651163)\n",
            "--------------------------------------------------------------------------------------------------------------\n",
            "Document 3\n",
            "rouge1 Score(precision=0.48484848484848486, recall=0.3018867924528302, fmeasure=0.37209302325581395)\n",
            "rouge2 Score(precision=0.23076923076923078, recall=0.14285714285714285, fmeasure=0.17647058823529413)\n",
            "rougeL Score(precision=0.3484848484848485, recall=0.2169811320754717, fmeasure=0.26744186046511637)\n",
            "--------------------------------------------------------------------------------------------------------------\n",
            "Document 4\n",
            "rouge1 Score(precision=0.3815789473684211, recall=0.5576923076923077, fmeasure=0.45312500000000006)\n",
            "rouge2 Score(precision=0.09933774834437085, recall=0.14563106796116504, fmeasure=0.11811023622047243)\n",
            "rougeL Score(precision=0.21710526315789475, recall=0.3173076923076923, fmeasure=0.2578125)\n",
            "--------------------------------------------------------------------------------------------------------------\n",
            "Document 5\n",
            "rouge1 Score(precision=0.4675324675324675, recall=0.33962264150943394, fmeasure=0.39344262295081966)\n",
            "rouge2 Score(precision=0.14473684210526316, recall=0.10476190476190476, fmeasure=0.12154696132596685)\n",
            "rougeL Score(precision=0.3246753246753247, recall=0.2358490566037736, fmeasure=0.27322404371584696)\n",
            "--------------------------------------------------------------------------------------------------------------\n",
            "Document 6\n",
            "rouge1 Score(precision=0.5, recall=0.031578947368421054, fmeasure=0.05940594059405941)\n",
            "rouge2 Score(precision=0.0, recall=0.0, fmeasure=0.0)\n",
            "rougeL Score(precision=0.5, recall=0.031578947368421054, fmeasure=0.05940594059405941)\n",
            "--------------------------------------------------------------------------------------------------------------\n",
            "Document 7\n",
            "rouge1 Score(precision=0.2839506172839506, recall=0.4423076923076923, fmeasure=0.3458646616541353)\n",
            "rouge2 Score(precision=0.043478260869565216, recall=0.06796116504854369, fmeasure=0.05303030303030303)\n",
            "rougeL Score(precision=0.12962962962962962, recall=0.20192307692307693, fmeasure=0.15789473684210528)\n",
            "--------------------------------------------------------------------------------------------------------------\n",
            "Document 8\n",
            "rouge1 Score(precision=0.2413793103448276, recall=0.1414141414141414, fmeasure=0.17834394904458598)\n",
            "rouge2 Score(precision=0.017543859649122806, recall=0.01020408163265306, fmeasure=0.012903225806451613)\n",
            "rougeL Score(precision=0.15517241379310345, recall=0.09090909090909091, fmeasure=0.11464968152866242)\n",
            "--------------------------------------------------------------------------------------------------------------\n",
            "Document 9\n",
            "rouge1 Score(precision=0.15966386554621848, recall=0.17272727272727273, fmeasure=0.16593886462882096)\n",
            "rouge2 Score(precision=0.01694915254237288, recall=0.01834862385321101, fmeasure=0.01762114537444934)\n",
            "rougeL Score(precision=0.08403361344537816, recall=0.09090909090909091, fmeasure=0.08733624454148473)\n",
            "--------------------------------------------------------------------------------------------------------------\n",
            "Document 10\n",
            "rouge1 Score(precision=0.2708333333333333, recall=0.13131313131313133, fmeasure=0.17687074829931973)\n",
            "rouge2 Score(precision=0.0, recall=0.0, fmeasure=0.0)\n",
            "rougeL Score(precision=0.125, recall=0.06060606060606061, fmeasure=0.0816326530612245)\n",
            "--------------------------------------------------------------------------------------------------------------\n"
          ]
        }
      ]
    },
    {
      "cell_type": "markdown",
      "source": [
        "#### LDA"
      ],
      "metadata": {
        "id": "Ixw1tCiOmx_Q"
      }
    },
    {
      "cell_type": "code",
      "source": [
        "cleaned_docs = []\n",
        "documents = []\n",
        "for i in range(len(df)):\n",
        "    content = df.iloc[i,1]\n",
        "    cleanedContent = df.iloc[i,3]\n",
        "    if cleanedContent != '\\x1a':\n",
        "        documents.append(content)\n",
        "        cleaned_docs.append(cleanedContent)\n",
        "\n",
        "summaries = lda_summarize(cleaned_docs[:10], 15)\n",
        "\n",
        "for summary in summaries:\n",
        "    print(summary)\n",
        "    print('-'*50)"
      ],
      "metadata": {
        "colab": {
          "base_uri": "https://localhost:8080/"
        },
        "id": "Kp-gOQTsCl5T",
        "outputId": "92f61e34-e3ca-4e2f-c59f-503d61f8de19"
      },
      "execution_count": 52,
      "outputs": [
        {
          "output_type": "stream",
          "name": "stderr",
          "text": [
            "/usr/local/lib/python3.9/dist-packages/sklearn/decomposition/_lda.py:891: RuntimeWarning: overflow encountered in exp\n",
            "  return np.exp(-1.0 * perword_bound)\n"
          ]
        },
        {
          "output_type": "stream",
          "name": "stdout",
          "text": [
            "Sir, Mr James Skinner (Letters, April 11) charges me with misuse of statistics and understanding the debt burden of poor countries. He cites Africa to support his contention. The statistics I used refer to Latin America, the principal thrust of the argument of the Bishop of Oxford, which focused largely on Brazil. The bulk of African debt is owed to official lenders under various aid agreements. The debts represent loans with a substantial grant element. The limiting case is the international development association loans, 50-year loans, unindexed for inflation, at zero interest. The debts of African countries have often been cancelled or rescheduled, frequently several times for the same country. To treat debt as necessarily burdensome also ignores the initial transfer of resources. This is like saying that banks, building societies, and governments issuing saving certificates are burdened when they pay interest. If the funds are used productively, debt service is not a burden in the critical sense that the debtors would be better off if they had not borrowed. I do not know what Mr Skinner has in mind in referring to institutions serving only western interests, and by clear implication inflict suffering on the poor. What I do know is that throughout Asia, Africa and Latin America the level of material achievement declines as we move away from the effect of western commerce. To harp on alleged external causes of Third World poverty diverts attention from the real factors behind this poverty which are domestic, and thereby from the possibilities of addressing these. These factors include, among others, government policies and extensive, often enforced, dependence on precarious subsistence production. It is pertinent also that the poorest are low among the priorities of the local rulers.\n",
            "--------------------------------------------------\n",
            "The Jwaneng mine, on the fringes of the Kalahari desert in Botswana, is known as 'a gem in the world of gems' because it almost certainly is the richest diamond mine in the world - at least in terms of the value of the stones it yields. Jwaneng's position is being reinforced by a Usdollars 160m expansion programme at present being completed three months ahead of schedule and under budget. Meanwhile, 160km west of Kimberley in the northern Cape Province of South Africa, another diamond mine, the Finsch, where operations started in 1964, has been given a new lease of life. Having dug an open pit 423 metres deep, miners have now gone underground. Mr Simon Webb, the general manager, says that the underground development has given it another 35 to 40 years of life. All this goes to show that De Beers, the South African group that dominates world trade in rough (uncut) diamonds, still has complete faith in its ability to maintain stability in the diamond market despite short-term difficulties such as those the company is experiencing with Russia. It also remains intent on maintaining its diamond output even though its 100-year-old mines at Kimberley are now running down. The South African group believes that its control of at least 50 per cent of world diamond production gives it a powerful base from which to negotiate with the other producers who have marketing contracts with De Beers' Central Selling Organisation, In Botswana De Beers controls half of Debswana, the company that owns the Jwaneng mine, with the government owning the rest. The value of Jwaneng to Botswana cannot be overstated. It, and the country's two other (smaller) diamond mines, between them account for 50 per cent of the government's revenue and 40 per cent of the country's gross domestic product. No wonder Jwaneng's company slogan is Re phtas imisa Botswana, which translates as 'We make Botswana sparkle'. Production started at Jwaneng in 1982. Now a so-called fourth stream is being completed which is adding one-third to processing capacity. In turn, this means a 21 per cent rise in the number of carats produced. Last year the mine treated 5.8m tonnes of ore which yielded 8.546m carats of diamonds, well below the 1992 output when the 5.77m tonnes treated gave up more than 9m carats.\n",
            "--------------------------------------------------\n",
            "General Accident, the leading British insurer, said yesterday that insurance claims arising from Hurricane Andrew could 'cost it as much as Dollars 40m.' Lord Airlie, the chairman who was addressing an extraordinary shareholders' meeting, said: 'On the basis of emerging information, General Accident advise that the losses to their Us operations arising from Hurricane Andrew, which struck Florida and Louisiana, might in total reach the level at which external catastrophe reinsurance covers would become exposed'. What this means is that Ga is able to pass on its losses to external reinsurers once a certain claims threshold has been breached. It believes this threshold may be breached in respect of Hurricane Andrew claims. However, if this happens, it would suffer a post-tax loss of Dollars 40m (Pounds 20m). Mr Nelson Robertson, Ga's chief general manager, explained later that the company has a 1/2 per cent share of the Florida market. It has a branch in Orlando. The company's loss adjusters are in the area trying to estimate the losses. Their guess is that losses to be faced by all insurers may total more than Dollars 8bn. Not all damaged property in the area is insured and there have been estimates that the storm caused more than Dollars 20bn of damage. However, other insurers have estimated that losses could be as low as Dollars 1bn in total. Mr Robertson said: 'No one knows at this time what the exact loss is'.\n",
            "--------------------------------------------------\n",
            "The Fight over the North American Free Trade Agreement yesterday shifted outside Washington to the Congressional districts of members, sampling public opinion at home during this Veterans' Day holiday weekend. The pro-Nafta forces, exulting over the debate victory of Vice President Al Gore over Texan billionaire Ross Perot, hoped they had finally captured the elusive momentum necessary to carry them to victory in the House vote next Wednesday. A Usa Today/Cnn poll of debate watchers found support for the trade pact between the Us, Canada and Mexico had shot up from 34 per cent before the debate to 57 per cent after it. Arthur Andersen &amp; Company yesterday released a survey, by its tax and business advisory service, which found that large majorities of executives of medium-sized companies in Canada, Mexico and the Us strongly support Nafta. Meanwhile in Mexico the country's Congress launched a fierce attack on Mr Perot and other critics of its political system yesterday, in a furious response to Mr Perot's comments in the debate. Mr Perot claimed Mexicans were treated worse than animals and livestock in the Us, were oppressed by the government, and enjoyed few if any labour and democratic rights. He said just 34 families owned half the country, and some 85m others lived in poverty. The Mexican Congress issued a statement, supported by most political parties, which said: 'We cannot ignore however, that certain judgments expressed, apart from showing a serious ignorance for our country, attack and offend Mexicans. We condemn them as inadmissible and without foundation.' Us opponents of Nafta believe that fear of job and investment losses to Mexico will outweigh any new-found enthusiasm for the pact. 'The only thing that matters is the economy,' said Mr Christopher Whalen, a Washington trade consultant. 'The political equation still is going to be that congressmen who vote for Nafta will have to look for other employment next year.' Trying to blunt any momentum for the administration, Congressman David Bonior, an anti-Nafta whip, on Wednesday announced that he had 219 of 434 members pledged to vote against the pact. However, he needs at least 10-12 votes more than the majority to prevent last-minute switches, as the Administration increases its pressure. The Administration this week has picked up 10 public endorsement votes, and claims to have a total of 192.\n",
            "--------------------------------------------------\n",
            "The Man President Bill Clinton has chosen to head the task force to help get his free trade pact with Canada and Mexico ratified may lack experience in international trade arenas. But he comes to Washington well prepared for the kind of back-room political arm-twisting that will be required to persuade a divided Congress to pass it. William Daley is younger brother and chief adviser to Chicago's mayor Richard M Daley and offspring of the legendary Democratic machine 'Boss', the late Richard J Daley. Unlike his hot-tempered and very public brother, 45-year-old Bill Daley is a smooth-talking behind-the-scenes operator with important connections in Washington and long-standing ties with organised labour. He has never run for political office. Mr Daley accepted the Nafta position after being passed over for a cabinet position and turning down an offer to be Mr Clinton's chief negotiator at the General Agreement on Tariffs and Trade in Geneva. He chaired Mr Clinton's election campaign in Illinois, where he delivered 48 per cent of the vote to Clinton, above the national average, and continues as a tangible supporter. Most recently, he arranged a posh Chicago dinner for the president that raised Dollars 1m (Pounds 670,000). However, Mr Daley's appointment to chair the White House's task force on the North America Free Trade Agreement is not a cosy political payoff. Recent polls show that as many as two-thirds of the American people do not support Nafta, and grassroots opposition fuelled by labour groups is growing. Mr Clinton himself reserved his support for the deal, negotiated under George Bush's administration, until side agreements dealing with environmental and labour issues were reached last month. Many Democrats in Congress, including some in the powerful Illinois delegation, are uncommitted. With the agreement fated to unravel if it is not ratified by January 1, the battle for congressional support will be fierce, fast, and visible. Mr Daley was chosen for the job, Chicago observers say, because he has proven he can sway votes and is willing to take the risk of losing a controversial battle. 'Bill Daley is no Washington neophyte.\n",
            "--------------------------------------------------\n",
            "The smoke has cleared a little. After seven long years, the Us Congress this week passed its first significant gun control law since the assassinations of Mr Robert Kennedy and Rev Martin Luther King Jr in 1968. The legislation - known as the Brady bill after Mr James Brady, the former White House press secretary severely wounded in an assassination attempt on President Ronald Reagan - would impose a five-day waiting period on purchases of handguns. It would give law enforcement authorities time to check the buyer's background. Advocates of tougher controls on guns were jubilant about their victory over stubborn resistance by Republican senators from western states such as Idaho and Alaska, who have long opposed any restriction on gun ownership in the Us. The Brady bill's opponents in Congress say it will inconvenience only law-abiding citizens, not criminals who buy or steal their weapons away from the government's prying eyes. They point to glaring failings in the federal government's policing of the 276,000 licensed gun dealers in the Us as evidence of the Brady bill's likely ineffectiveness. For instance, one newspaper reporter successfully obtained a dealer's licence for his dog by submitting a made-up social security number. Studies of state laws requiring some form of background check suggest, however, that at least some sales to convicted felons have been stopped, and some suspected criminals have been caught when they tried to buy a gun. But even the most ardent supporters of the Brady bill acknowledge that it will make no more than a dent in the estimated 7.5m legal sales each year of new or used firearms, let alone the approximately 200m guns in circulation; and will barely affect the more than 14,000 murders and 1,400 accidental deaths involving guns each year. 'The longest journey begins with a single step,' Mr Brady said after the bill's final passage in the Senate on Wednesday. Despite its uncertain effect, passage of the Brady bill is read by some as a sign that the tide has turned decisively in favour of gun control. Other initiatives in Congress and in state legislatures are under way: the Senate last week agreed in a separate bill to ban assault weapons, a measure already in force in California, New Jersey and Connecticut. Virginia has passed a law restricting people to one gun purchase a month. With the federal government considering the imposition of punitive taxes on some particularly devastating types of ammunition, the Winchester company recently decided to withdraw its Black Talon bullet.\n",
            "--------------------------------------------------\n",
            "Turbulence in the global diamond markets is being felt even here at Venetia, De Beers' newest diamond mine, 30km from South Africa's borders with Botswana and Zimbabwe. Only weeks before the mine came into production in July 1992 at a cost of Usdollars 400m, De Beers' Central Selling Organisation, which controls 80 per cent of world trade in rough (uncut) diamonds, imposed quotas on its producer-suppliers because of a flood of gem stones from Angola. For a time Venetia, the first mine of any sort in South Africa to gain permission for seven-day working, moved to a five-day week. This year it has gone back to seven-day working as the quotas were eased so that the Cso is now accepting 85 per cent of the diamonds it contracted to take from producers. However, there is still turmoil in the diamond market, caused by uncertainty about Russian exports following 'leaks' of stones from that country outside its contract with the Cso. Consequently, Mr Hans Gastrow, general manager, says that this year Venetia will process 4.3m tonnes of ore, 6.5 per cent below its capacity. It is also mining an area of lower grade ore, which has fewer diamonds in each tonne. Mr Gastrow is giving no forecasts but all this implies that output will be well below the 5.6m carats a year De Beers predicted Venetia would yield at full production. Last year the mine, building up rapidly, more than doubled output and processed 3.6m tonnes of ore to recover 4.96m carats. About 70 per cent of Venetia's diamonds are of gem quality and analysts suggest that at Dollars 100 a carat on average the mine is generating annual sales of about Dollars 500m. Mr Gastrow says that, apart from the imposition of the Cso quota, Venetia 'has made a remarkably smooth transition from construction to production'. This year will be a time of consolidation. He insists that the quota is having no impact on employment. Nevertheless, Venetia originally was to have employed 870 and it now has 764. A mine of Venetia's size in the past would have employed 2,000.\n",
            "--------------------------------------------------\n",
            "In Virginia the North American Free Trade Agreement evokes a passionate opposition, but football, apparently, still is the reigning obsession. A 'not this Nafta' rally on Saturday provided little competition for the college 'game of the century' - Florida State University against Notre Dame. Only 115 demonstrators turned out amid the autumn foliage in the grounds of Virginia's capitol in Richmond. They came promptly at two in the afternoon and by three most were gone. The organisers said they were sending a message to Virginia's three wavering congressmen that a 'yes' vote on Nafta in the House on Wednesday would be 'remembered in November'. That is, next November's mid-term elections, when those assembled - mostly followers of Texas billionaires of Mr Ross Perot and union members - would unite to throw the rascals out of office. 'We are absolutely for free trade,' says Mr Bill Diggitt, the state director of Mr Perot's United We Stand. 'But Nafta undermines our constitution. It puts decision-making in the hands of international panels, which undermines our judicial system.' He says he is concerned about the loss of Virginia's tax base as companies move production to Mexico and place continuous downward pressure on wages. 'The administration is selling everything it can to every congressman it can. That's wrong,' he says. Mr Josh Greenwood, owner of a small hydroelectric company, says: 'I might run against my congressman myself.' Mexican workers are treated like slaves, he claims. 'In Virginia there was slavery, but the slaves were expensive and the people who owned them valued them.\n",
            "--------------------------------------------------\n",
            "Summary A lengthy statement attributed to the imprisoned Shining Path leadership, published recently in a leading opposition newspaper, provides what appears to be a strategic rationale for the peace proposal made by the insurgents last fall. While the newspaper has accepted the document as an authentic call for peace by the Shining Path, the paper has also stressed that the peace called for in the statement is nothing more than a temporary tactical retreat by the Shining Path leaders and is not, as President Alberto Fujimori has contended, an implicit admission of defeat. End Summary Although La Republica, a prominent anti-Fujimori daily, provided little information on the origins of the \"important and unusual\" document that it published in a special 25 January supplement, it assured its readers that the lengthy ideological tract explaining the Shining Path's \"struggle for a peace agreement\" was a genuine Shining Path statement. The paper claimed that the \"anonymous sources\" who supplied the \"secret\" document provided \"full authentication\" and that \"experts\" consulted by the paper also \"agreed\" that the document was the handiwork of imprisoned Shining Path leader Abimael Guzman (La Republica, 26 January). (See Note 1) (Note 1) La Republica did not assert that the document was actually signed by Guzman. However, the paper did claim that the document was \"approved\" by imprisoned Shining Path Central Committee members Elena Iparraguirre Revoredo, Osman Morote Barrionuevo, Marta Huatay Ruiz, Maria Pantoja Sanchez and Rosa Angelica Salas de la Cruz (25 January). While the anti-Fujimori daily may have, at least in part, published the document to discredit President Fujimori, it contended that it was motivated by a desire to provide Peruvians with information on the peace proposal that had not been made available by the government. The paper declared that it was \"clearly\" its \"duty\" to publish the document \"given the mantle of silence that the government has cast\" over the peace negotiations (26 January). La Republica's publication of the Shining Path strategy statement follows by three months the October 1993 release by the Fujimori government of letters from Guzman calling for peace talks with the government (Radio Programs del Peru, 1 October 1993; Radio and Tv, 4 October 1993; Global de Television, 10 October 1993; Panamericana Television, 30 October 1993). The Shining Path leadership's sudden willingness to pursue peace talks with the government, just as the 31 October national referendum vote was approaching, raised questions in the media about whether the letters really represented authoritative Shining Path policy [see box]. (See Note 2) (Note 2) Among other objectives, the narrowly successful referendum was designed to allow the president to serve a second successive term. Tactical Retreat for Guzman Implicitly rejecting Fujimori's claim that the Shining Path's call for a negotiated peace represented an admission of political defeat by the insurgents, La Republica concluded that the movement's leadership saw its call for peace as nothing more than a \"temporary ceasefire\" (25 January). (See Note 3) According to the daily's 26 January editorial, the Shining Path tract \"makes it clear\" that in the eyes of Abimael Guzman a \"peace agreement\" is simply an \"armed truce\" until after the year 2ooo, at which time the Shining Path \"would resume its bloodbath.\" La Republica offered a possible explanation for the insurgents' tactical retreat in a 3o January interview with a \"military and subversion analyst,\" who suggested-that a temporary withdrawal may offer Guzman an opportunity to preserve his authority as political leader despite the obvious limitations of beings imprisoned. Thee analyst concluded, therefore, that the insurgents' peace strategy represents \"an ideological reaffirmation of Guzman's leadership\" and \"recognition that circumstances have changed.\"\n",
            "--------------------------------------------------\n",
            "Just weeks ago, the prospects for the North American free trade agreement seemed assured. The proposed pact between the Us, Canada and Mexico had the support of the Republican establishment, of Governor Bill Clinton, the prospective Democratic nominee, of the powerful Texas Democrats on Capitol Hill and most of the Democratic leadership in Congress. But the outpouring of public disaffection for 'politics as usual' has pushed to the forefront of many polls in the Us election campaign Mr Ross Perot, the Texas billionaire. His campaign for the presidency is stressing jobs, and he has said a Nafta pact would send jobs to Mexico. The White House has taken its own polls and remains convinced that President Bush's support for Nafta is a winning issue. Although many working class Hispanic Americans believe Nafta would cost jobs, the Latino business organisations cautiously support the pact. Under the tightly constrained fast-track procedure - which forces Congress to vote on a trade pact without amendment - it is too late to get Nafta approved by Congress this year. Between retirements and election defeats, one-quarter to a one-third of the House could change, and no one can foresee the prevailing sentiment on trade issues. The president is expected to stage a high profile initialing of the agreement at the most politically opportune time. Politically sophisticated trade lobbyists, like Mr Harry Freeman, executive director of the Mtn Coalition, believes the Democrats will use Nafta as a weapon against the president, arguing that he wants to divert jobs to Mexico. A centrepiece of the opposition will be a letter from the president to the Congress in May 1991, in which he committed himself to action on environmental issues, labour rights and worker adjustment assistance. 'Whatever the administration sends to Capitol Hill with Nafta, or if they don't send a complete package in these three areas, the Congressional Democrats will seize upon the deficiency - real or alleged, it doesn't matter,' said Mr Freeman. Governor Clinton is also likely to deem the pact the 'wrong kind of Nafta'. The environment/farm/ labour coalition opposed to the Nafta has prepared its ground well in the House. It now has 200 signatories to a resolution, introduced by Congressman Henry Waxman and majority leader Richard Gephardt, which warns that they will not support a Nafta that does not have strong environment or food safety provisions.\n",
            "--------------------------------------------------\n"
          ]
        }
      ]
    },
    {
      "cell_type": "code",
      "source": [
        "scorer = rouge_scorer.RougeScorer(['rouge1', 'rouge2', 'rougeL'], use_stemmer=True)\n",
        "\n",
        "for i in range(10):\n",
        "    print('Document', i+1)\n",
        "    scores = scorer.score(df['Summary'][i], summaries[i])\n",
        "    for k,v in scores.items():\n",
        "        print(k,v)\n",
        "    print('-'*110)"
      ],
      "metadata": {
        "colab": {
          "base_uri": "https://localhost:8080/"
        },
        "id": "3ufluHVbEFlc",
        "outputId": "1b84f30f-b42e-4df6-a475-f163176738e5"
      },
      "execution_count": 53,
      "outputs": [
        {
          "output_type": "stream",
          "name": "stdout",
          "text": [
            "Document 1\n",
            "rouge1 Score(precision=0.2465277777777778, recall=0.6513761467889908, fmeasure=0.35768261964735515)\n",
            "rouge2 Score(precision=0.06968641114982578, recall=0.18518518518518517, fmeasure=0.10126582278481014)\n",
            "rougeL Score(precision=0.1284722222222222, recall=0.3394495412844037, fmeasure=0.18639798488664985)\n",
            "--------------------------------------------------------------------------------------------------------------\n",
            "Document 2\n",
            "rouge1 Score(precision=0.20603015075376885, recall=0.7387387387387387, fmeasure=0.32220039292730845)\n",
            "rouge2 Score(precision=0.0654911838790932, recall=0.23636363636363636, fmeasure=0.10256410256410255)\n",
            "rougeL Score(precision=0.0829145728643216, recall=0.2972972972972973, fmeasure=0.12966601178781925)\n",
            "--------------------------------------------------------------------------------------------------------------\n",
            "Document 3\n",
            "rouge1 Score(precision=0.37037037037037035, recall=0.8490566037735849, fmeasure=0.5157593123209169)\n",
            "rouge2 Score(precision=0.25206611570247933, recall=0.580952380952381, fmeasure=0.35158501440922185)\n",
            "rougeL Score(precision=0.3374485596707819, recall=0.7735849056603774, fmeasure=0.46991404011461324)\n",
            "--------------------------------------------------------------------------------------------------------------\n",
            "Document 4\n",
            "rouge1 Score(precision=0.2379746835443038, recall=0.9038461538461539, fmeasure=0.37675350701402804)\n",
            "rouge2 Score(precision=0.11928934010152284, recall=0.4563106796116505, fmeasure=0.1891348088531187)\n",
            "rougeL Score(precision=0.1569620253164557, recall=0.5961538461538461, fmeasure=0.24849699398797592)\n",
            "--------------------------------------------------------------------------------------------------------------\n",
            "Document 5\n",
            "rouge1 Score(precision=0.25205479452054796, recall=0.8679245283018868, fmeasure=0.39065817409766457)\n",
            "rouge2 Score(precision=0.12637362637362637, recall=0.4380952380952381, fmeasure=0.19616204690831557)\n",
            "rougeL Score(precision=0.1780821917808219, recall=0.6132075471698113, fmeasure=0.2760084925690021)\n",
            "--------------------------------------------------------------------------------------------------------------\n",
            "Document 6\n",
            "rouge1 Score(precision=0.17209302325581396, recall=0.7789473684210526, fmeasure=0.2819047619047619)\n",
            "rouge2 Score(precision=0.05128205128205128, recall=0.23404255319148937, fmeasure=0.0841300191204589)\n",
            "rougeL Score(precision=0.09534883720930233, recall=0.43157894736842106, fmeasure=0.1561904761904762)\n",
            "--------------------------------------------------------------------------------------------------------------\n",
            "Document 7\n",
            "rouge1 Score(precision=0.19834710743801653, recall=0.6923076923076923, fmeasure=0.3083511777301927)\n",
            "rouge2 Score(precision=0.0718232044198895, recall=0.2524271844660194, fmeasure=0.11182795698924732)\n",
            "rougeL Score(precision=0.09366391184573003, recall=0.3269230769230769, fmeasure=0.145610278372591)\n",
            "--------------------------------------------------------------------------------------------------------------\n",
            "Document 8\n",
            "rouge1 Score(precision=0.12167300380228137, recall=0.32323232323232326, fmeasure=0.17679558011049726)\n",
            "rouge2 Score(precision=0.007633587786259542, recall=0.02040816326530612, fmeasure=0.011111111111111112)\n",
            "rougeL Score(precision=0.06463878326996197, recall=0.1717171717171717, fmeasure=0.09392265193370165)\n",
            "--------------------------------------------------------------------------------------------------------------\n",
            "Document 9\n",
            "rouge1 Score(precision=0.07377049180327869, recall=0.4090909090909091, fmeasure=0.12499999999999999)\n",
            "rouge2 Score(precision=0.008210180623973728, recall=0.045871559633027525, fmeasure=0.013927576601671309)\n",
            "rougeL Score(precision=0.040983606557377046, recall=0.22727272727272727, fmeasure=0.06944444444444443)\n",
            "--------------------------------------------------------------------------------------------------------------\n",
            "Document 10\n",
            "rouge1 Score(precision=0.11083123425692695, recall=0.4444444444444444, fmeasure=0.17741935483870966)\n",
            "rouge2 Score(precision=0.012626262626262626, recall=0.05102040816326531, fmeasure=0.020242914979757085)\n",
            "rougeL Score(precision=0.05793450881612091, recall=0.23232323232323232, fmeasure=0.09274193548387098)\n",
            "--------------------------------------------------------------------------------------------------------------\n"
          ]
        }
      ]
    },
    {
      "cell_type": "markdown",
      "source": [
        "### 20NG"
      ],
      "metadata": {
        "id": "3yHzB3g6MGNf"
      }
    },
    {
      "cell_type": "code",
      "source": [
        "data, _ = fetch_20newsgroups(shuffle=True, random_state=11, remove=(\"headers\", \"footers\", \"quotes\"), return_X_y=True)"
      ],
      "metadata": {
        "id": "ipPR4uqiMIVu"
      },
      "execution_count": 23,
      "outputs": []
    },
    {
      "cell_type": "code",
      "source": [
        "remove_emails = lambda s: re.sub(r'^[a-zA-Z0-9+_.-]+@[a-zA-Z0-9.-]+$', '', s)\n",
        "\n",
        "CLEAN_FILTERS = [remove_emails, strip_tags, strip_multiple_whitespaces]\n",
        "\n",
        "def preprocessing(document):\n",
        "    processed_words = preprocess_string(document, CLEAN_FILTERS)\n",
        "    \n",
        "    return processed_words\n",
        "\n",
        "def joinList(processed_words):\n",
        "    return ' '.join(processed_words)"
      ],
      "metadata": {
        "id": "PuAO1i5HNVJO"
      },
      "execution_count": 54,
      "outputs": []
    },
    {
      "cell_type": "code",
      "source": [
        "cleaned_data = []\n",
        "\n",
        "for d in data[:100]:\n",
        "    cleaned_d = joinList(preprocessing(d.replace('\\n', ' ')))\n",
        "    cleaned_data.append(cleaned_d)"
      ],
      "metadata": {
        "id": "YN_Sj-mnMcjc"
      },
      "execution_count": 58,
      "outputs": []
    },
    {
      "cell_type": "markdown",
      "source": [
        "#### KL Divergence"
      ],
      "metadata": {
        "id": "s2anHmkkRna5"
      }
    },
    {
      "cell_type": "code",
      "source": [
        "summaries = kl_summarize(cleaned_data[:10], 15)\n",
        "\n",
        "for summary in summaries:\n",
        "    print(summary)\n",
        "    print('-'*100)"
      ],
      "metadata": {
        "colab": {
          "base_uri": "https://localhost:8080/"
        },
        "outputId": "6b959181-e9ef-4ed6-c98c-aceac4e7dda7",
        "id": "eI2-8tSNRnbC"
      },
      "execution_count": 61,
      "outputs": [
        {
          "output_type": "stream",
          "name": "stdout",
          "text": [
            "--- Received from EEI.EEIIHY 353-1-2800455 93-04-26 12.28 -> VAX.XPERT..EXPO.LCS.MIT.EDU..INET -: - - - - - - - - - - > MAIL USER IN VAX AND INTERNET help\n",
            "----------------------------------------------------------------------------------------------------\n",
            "Now we have strong evidence of where the CPR really stands. Unbelievable and disgusting. !\n",
            "----------------------------------------------------------------------------------------------------\n",
            "But they can make you piss in a jar, and possibly provide DNA, semen, and hair samples or to undergo tests for gunpowder residues on your hand. I found it interesting the news reported his acts, but not his reasons).\n",
            "----------------------------------------------------------------------------------------------------\n",
            "Yes, that's true, but you have to be clear exactly what is an uninterpreted observation. We can agree that 'I perceive brightness' perhaps. Huh? That's up to you, I guess.\n",
            "----------------------------------------------------------------------------------------------------\n",
            "I agree entirely.\n",
            "----------------------------------------------------------------------------------------------------\n",
            "MY HOCKEY EDUCATION? What the f--- are you talking about? Was that a fluke? So what?\n",
            "----------------------------------------------------------------------------------------------------\n",
            "only appreciated.\n",
            "----------------------------------------------------------------------------------------------------\n",
            "After I have produced a schematic with PADS-LOGIC, how do I import it into PADS-PCB to create a PCB pattern? Is there another way of doing this? Any suggestions would be greatly appreciated. Thanks!\n",
            "----------------------------------------------------------------------------------------------------\n",
            "Mark Gregory Foster writes (concerning 1 Corinthians 16:2): > The idea was introduced to me once that the reason Paul wanted > the Corinthians to lay aside money for the collection on the > first day of the week was that this was when they received their > weekly wages. But the ancient Romans did not observe a seven-day week.\n",
            "----------------------------------------------------------------------------------------------------\n",
            "Is it possible to plug an ordinary ISA card into a VESA localbus slot? I am running out of slots and I have one spare localbus slot.\n",
            "----------------------------------------------------------------------------------------------------\n"
          ]
        }
      ]
    },
    {
      "cell_type": "markdown",
      "source": [
        "#### LDA"
      ],
      "metadata": {
        "id": "NwUu0l8nR5dC"
      }
    },
    {
      "cell_type": "code",
      "source": [
        "summaries = lda_summarize(cleaned_data[:10], 15)\n",
        "\n",
        "for summary in summaries:\n",
        "    print(summary)\n",
        "    print('-'*100)"
      ],
      "metadata": {
        "colab": {
          "base_uri": "https://localhost:8080/"
        },
        "outputId": "dff702c3-22a2-42ae-e477-6d99a370b2d3",
        "id": "LCEdSBHdR5dC"
      },
      "execution_count": 63,
      "outputs": [
        {
          "output_type": "stream",
          "name": "stdout",
          "text": [
            "--- Received from EEI.EEIIHY 353-1-2800455 93-04-26 12.28 -> VAX.XPERT..EXPO.LCS.MIT.EDU..INET -: - - - - - - - - - - > MAIL USER IN VAX AND INTERNET help\n",
            "----------------------------------------------------------------------------------------------------\n",
            "Now we have strong evidence of where the CPR really stands. Unbelievable and disgusting. It only proves that we must never forget... ! !!!!!!!!!!!!!!!!!!!!!!!!!!!!!!!!!!!!!!!!!!!!!!!!!!!!!!!!!!!!!!! Not so unconventional. Eugenic solutions to the Jewish Problem have been suggested by Northern Europeans in the past. Eugenics: a science that deals with the improvement (as by control of human mating) of hereditory qualities of race or breed. -- Webster's Ninth Collegiate Dictionary. This is nothing more than Feisal Husseini's statement that the Zionist entity must be disolved by forcing it to \"engage\" the surrounding \"normal\" Arab society. \"a strong mixed stock\", \"integration of Israeli society into the Middle East in a graceful manner,\" these are the phrases of Nazi racial engineering pure and simple. As if Israeli society has no right to exist per se! \"the continued existance of a specific Jewish People overrides any other consideration, be it human love, peace of human rights.\" Disolve the Jewish People and protect human values such as love and peace; yes ve have heard this before Her Himmler. Notice how the source of the problem seems to be accruing to the Jews in this analysis.\n",
            "----------------------------------------------------------------------------------------------------\n",
            "But they can make you piss in a jar, and possibly provide DNA, semen, and hair samples or to undergo tests for gunpowder residues on your hand. (BTW, that was why the chemical engineer arrested in the WTC explosion thrust his hands into a toilet filled with urine as the cops were breaking down the door -- the nitrogen in the urine would mask any residue from explosives. I found it interesting the news reported his acts, but not his reasons). Somewhere, perhaps a privacy group, they discussed the legal ramifications of using a password like I shot Jimmy Hoffa and his body is in a storage locker in Camden a while back. The impression I got was that real judges would dismiss arguments that this password is self-incrimination as first-year law school sophistry -- the fact that you use a statement for a password has no bearing on the veracity of that phrase. You are not being asked to incrimidate yourself (e.g., \"where did you bury the body? \"); you are being asked to provide information necessary to execute a legal search warrant. Refusing to provide the password is akin to refusing to provide a key to a storage locker... except that they could always _force_ their way into the locker. Of course, that doesn't mean you have to help them _understand_ what they find, or point out things they overlooked in their search!\n",
            "----------------------------------------------------------------------------------------------------\n",
            "Yes, that's true, but you have to be clear exactly what is an uninterpreted observation. It's pretty low level stuff. 'The sun shines' is already a LOT higher level than that. We can agree that 'I perceive brightness' perhaps. Huh? What do you mean 'all in the same situation?' Let's take me and Dennis Kriz as examples. We're in pretty different situations, but I think we can agree as to whether it's day or night. I don't think we can agree as to whether or not abortion is morally acceptable. Yet we are certainly in the same difference of situations with respect to each other. Looks like weasel-words to me, Frank. That's up to you, I guess. This 'different situations' stuff is pretty confusing, Frank. How do we decide if we are in the same situation? You mind explaining?\n",
            "----------------------------------------------------------------------------------------------------\n",
            "I agree entirely. Speaking as an atheist (heterosexual, for what it's worth), this is one of the least attractive parts of some varieties of Christianity. Although I'm sure it's possible to argue theologically that we shouldn't make analogies between discrimination on the basis of sex and race and discrimination on the basis of sexual orientation, morally the case looks unanswerable (for those outside religion): the three forms _are_ analogous; we shouldn't discriminate on the basis of sex, race or sexual orientation. I found the moderator's FAQs on the subject instructive, and recommend everyone to read them. There seem to be three different levels of acceptance: 1) Regard homosexual orientation as a sin (or evil, whatever) 2) Regard homosexual behaviour as a sin, but accept orientation (though presumably orientation is unfortunate) and dislike people who indulge 3) As 2, but \"love the sinner\" 4) Accept homosexuality altogether. My experience is that 3 is the most common attitude (I imagine 1 and 2 are limited to a few fundamentalist sects). I suppose I can go along with 3, except that I have this feeling that a 14--15 year old living in a community with this attitude, on discovering that they were more attracted to members of the same sex, would not feel the love of the community, but would rather feel the pressure not to exhibit their feelings. I'm not saying that the community (in particular the parents) would not love the child, but I suspect the child would not feel loved.\n",
            "----------------------------------------------------------------------------------------------------\n",
            "MY HOCKEY EDUCATION? What the f--- are you talking about? I'm not even going to try to refute this absolutely insane statement. \"I hate the Habs\" ?...you sound like a 10-year old. This statement is just further exemplifies your total inability to argue objectively about hockey. Don't give me this crap about \"cogent arguments\"...I've yet to read something of yours that is cogent. You consistently argue with: (1) emotion; (2) huge, sweeping statements Frankly, you have a very unconvincing style. I'm not defending Bob Gainey...frankly, I don't care for him all that much. But your dismissal of him as something less than an effective hockey player is tiresome...it has no basis in anything. How many Calders did he win? I think it was four (go ahead and refresh my memory). What about the Conn Smythe? Was that a fluke? Yeah, not the makings of a hockey superstar, I know, but try to have a reason, any reason, to shoot him down. Hey cowboy!\n",
            "----------------------------------------------------------------------------------------------------\n",
            "only appreciated. Paul Coffey of Detroit RedWings\n",
            "----------------------------------------------------------------------------------------------------\n",
            "After I have produced a schematic with PADS-LOGIC, how do I import it into PADS-PCB to create a PCB pattern? The only way I've gotten it to work is to output a FutureNet netlist, and then import this into PADS-PCB. Is there another way of doing this? I didn't see any information in the instructions provided, but I might have missed something. Any suggestions would be greatly appreciated. Thanks!\n",
            "----------------------------------------------------------------------------------------------------\n",
            "Mark Gregory Foster writes (concerning 1 Corinthians 16:2): > The idea was introduced to me once that the reason Paul wanted > the Corinthians to lay aside money for the collection on the > first day of the week was that this was when they received their > weekly wages. But the ancient Romans did not observe a seven-day week. Unless a man was working for a Jewish employer, he is unlikely to have been paid on the first day of a seven-day week. Nor would a Jewish employer have kept his wages over the week-end (see Lev 19:13; Dt 24:15).\n",
            "----------------------------------------------------------------------------------------------------\n",
            "Is it possible to plug an ordinary ISA card into a VESA localbus slot? I am running out of slots and I have one spare localbus slot.\n",
            "----------------------------------------------------------------------------------------------------\n"
          ]
        }
      ]
    }
  ]
}