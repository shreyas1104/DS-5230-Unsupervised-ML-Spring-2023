{
  "nbformat": 4,
  "nbformat_minor": 0,
  "metadata": {
    "colab": {
      "provenance": []
    },
    "kernelspec": {
      "name": "python3",
      "display_name": "Python 3"
    },
    "language_info": {
      "name": "python"
    }
  },
  "cells": [
    {
      "cell_type": "code",
      "execution_count": null,
      "metadata": {
        "id": "QB-71iNzvHou"
      },
      "outputs": [],
      "source": [
        "import warnings\n",
        "warnings.filterwarnings('ignore')\n",
        "import numpy as np\n",
        "import pandas as pd\n",
        "import seaborn as sns\n",
        "import matplotlib.pyplot as plt\n",
        "from sklearn.decomposition import PCA\n",
        "from sklearn.model_selection import train_test_split\n",
        "from sklearn.datasets import fetch_openml\n",
        "from sklearn.linear_model import LogisticRegression\n",
        "from sklearn.tree import DecisionTreeClassifier\n",
        "from sklearn.metrics import confusion_matrix, classification_report\n",
        "from sklearn.model_selection import KFold\n",
        "from sklearn.model_selection import cross_val_score\n",
        "from sklearn.preprocessing import StandardScaler"
      ]
    },
    {
      "cell_type": "code",
      "source": [
        "from google.colab import drive\n",
        "drive.mount('/content/drive')"
      ],
      "metadata": {
        "colab": {
          "base_uri": "https://localhost:8080/"
        },
        "id": "U-7M3nty-DM8",
        "outputId": "f757c258-822a-4f12-eb53-36256fe759be"
      },
      "execution_count": null,
      "outputs": [
        {
          "output_type": "stream",
          "name": "stdout",
          "text": [
            "Mounted at /content/drive\n"
          ]
        }
      ]
    },
    {
      "cell_type": "code",
      "source": [
        "def run_PCA(X_train, X_test, n):\n",
        "\n",
        "    pca = PCA(n_components=n).fit(X_train)\n",
        "    X_train_pca = pca.transform(X_train)\n",
        "    X_test_pca = pca.transform(X_test)\n",
        "\n",
        "    return pca, X_train_pca, X_test_pca"
      ],
      "metadata": {
        "id": "SrlDlFYK1NLA"
      },
      "execution_count": null,
      "outputs": []
    },
    {
      "cell_type": "code",
      "source": [
        "def run_LogisticRegression(X_train_pca, y_train, X_test_pca, y_test):\n",
        "\n",
        "    lr = LogisticRegression(penalty='l2').fit(X_train_pca, y_train)\n",
        "    y_pred = lr.predict(X_test_pca)\n",
        "    cm = confusion_matrix(y_test, y_pred)\n",
        "    cr = classification_report(y_test, y_pred)\n",
        "\n",
        "    return cm, cr"
      ],
      "metadata": {
        "id": "CbITG9xpzo_U"
      },
      "execution_count": null,
      "outputs": []
    },
    {
      "cell_type": "code",
      "source": [
        "def run_DecisionTreeClassifier(X_train_pca, y_train, X_test_pca, y_test):\n",
        "\n",
        "    lr = DecisionTreeClassifier().fit(X_train_pca, y_train)\n",
        "    y_pred = lr.predict(X_test_pca)\n",
        "    cm = confusion_matrix(y_test, y_pred)\n",
        "    cr = classification_report(y_test, y_pred)\n",
        "\n",
        "    return cm, cr"
      ],
      "metadata": {
        "id": "5gq7VEtG3Xy2"
      },
      "execution_count": null,
      "outputs": []
    },
    {
      "cell_type": "markdown",
      "source": [
        "### MNIST"
      ],
      "metadata": {
        "id": "L0_hWwvsv9C9"
      }
    },
    {
      "cell_type": "code",
      "source": [
        "mnist = fetch_openml('mnist_784')\n",
        "\n",
        "X = mnist.data\n",
        "y = mnist.target\n",
        "\n",
        "X_train, X_test, y_train, y_test = train_test_split(X, y, test_size=0.2, random_state=0)"
      ],
      "metadata": {
        "id": "Iv0upFn9yztL"
      },
      "execution_count": null,
      "outputs": []
    },
    {
      "cell_type": "markdown",
      "source": [
        "#### PCA with n=5"
      ],
      "metadata": {
        "id": "szKnz_Ksv6qP"
      }
    },
    {
      "cell_type": "markdown",
      "source": [
        "**PCA**"
      ],
      "metadata": {
        "id": "NwxqsMhmvJY3"
      }
    },
    {
      "cell_type": "code",
      "source": [
        "pca, X_train_pca, X_test_pca = run_PCA(X_train, X_test, n=5)"
      ],
      "metadata": {
        "id": "fFg4JpaCu_C2"
      },
      "execution_count": null,
      "outputs": []
    },
    {
      "cell_type": "markdown",
      "source": [
        "**Logistic Regression**"
      ],
      "metadata": {
        "id": "iKCbsRpBvDFt"
      }
    },
    {
      "cell_type": "code",
      "source": [
        "cm, cr = run_LogisticRegression(X_train_pca, y_train, X_test_pca, y_test)"
      ],
      "metadata": {
        "id": "D7Tn7b-izU9C"
      },
      "execution_count": null,
      "outputs": []
    },
    {
      "cell_type": "code",
      "source": [
        "print('Confusion Matrix: \\n\\n', cm) "
      ],
      "metadata": {
        "colab": {
          "base_uri": "https://localhost:8080/"
        },
        "id": "1kZWdEMA0s7k",
        "outputId": "79f26daf-d787-4bef-df5f-b807aaa8b654"
      },
      "execution_count": null,
      "outputs": [
        {
          "output_type": "stream",
          "name": "stdout",
          "text": [
            "Confusion Matrix: \n",
            "\n",
            " [[1201    0    5    2    2  103   24    2   46    2]\n",
            " [   0 1501   34    9    1   10    2    5   14    4]\n",
            " [  37   56  785   45   52   32  354    5   75    2]\n",
            " [  16   37   51  925   13  177    9    9  169   29]\n",
            " [   3   18    4    0  892    5   75   64   20  269]\n",
            " [  29   82   33  203   12  707   35   84   37    9]\n",
            " [  39   54  306    0   66   23  852    2   45    0]\n",
            " [  13   69    3    0   85   28    7 1066   52  135]\n",
            " [  11   76   60  136   18   82   22   11  886   66]\n",
            " [  17   30    1    8  309   26   25  264   48  633]]\n"
          ]
        }
      ]
    },
    {
      "cell_type": "code",
      "source": [
        "print('Classification Report: \\n\\n', cr)"
      ],
      "metadata": {
        "colab": {
          "base_uri": "https://localhost:8080/"
        },
        "id": "HhDJ5X220tUZ",
        "outputId": "92f70945-c7c1-41a5-89f1-b459b546018e"
      },
      "execution_count": null,
      "outputs": [
        {
          "output_type": "stream",
          "name": "stdout",
          "text": [
            "Classification Report: \n",
            "\n",
            "               precision    recall  f1-score   support\n",
            "\n",
            "           0       0.88      0.87      0.87      1387\n",
            "           1       0.78      0.95      0.86      1580\n",
            "           2       0.61      0.54      0.58      1443\n",
            "           3       0.70      0.64      0.67      1435\n",
            "           4       0.62      0.66      0.64      1350\n",
            "           5       0.59      0.57      0.58      1231\n",
            "           6       0.61      0.61      0.61      1387\n",
            "           7       0.71      0.73      0.72      1458\n",
            "           8       0.64      0.65      0.64      1368\n",
            "           9       0.55      0.47      0.50      1361\n",
            "\n",
            "    accuracy                           0.67     14000\n",
            "   macro avg       0.67      0.67      0.67     14000\n",
            "weighted avg       0.67      0.67      0.67     14000\n",
            "\n"
          ]
        }
      ]
    },
    {
      "cell_type": "markdown",
      "source": [
        "**Decision Tree**"
      ],
      "metadata": {
        "id": "g1ntbCScvQI6"
      }
    },
    {
      "cell_type": "code",
      "source": [
        "cm, cr = run_DecisionTreeClassifier(X_train_pca, y_train, X_test_pca, y_test)"
      ],
      "metadata": {
        "id": "7L5fSLx-6kc1"
      },
      "execution_count": null,
      "outputs": []
    },
    {
      "cell_type": "code",
      "source": [
        "print('Confusion Matrix: \\n\\n', cm) "
      ],
      "metadata": {
        "colab": {
          "base_uri": "https://localhost:8080/"
        },
        "outputId": "15155169-ad47-4725-d5b4-aca79974a4a0",
        "id": "C_vscg3a6kc2"
      },
      "execution_count": null,
      "outputs": [
        {
          "output_type": "stream",
          "name": "stdout",
          "text": [
            "Confusion Matrix: \n",
            "\n",
            " [[1175    0   36   16    6   58   35    5   42   14]\n",
            " [   0 1458   16   21   10    9   17   21   23    5]\n",
            " [  28   12  927   63   31   30  263    6   76    7]\n",
            " [  18   23   60  909   13  171   18   18  181   24]\n",
            " [   5    5   33   12  745   10   64   98   30  348]\n",
            " [  51    7   28  190   17  749   38   36   81   34]\n",
            " [  23   21  276   22   75   23  874    9   52   12]\n",
            " [   8   27   16   19  107   47    6  984   42  202]\n",
            " [  45   31   57  180   28   85   47   32  817   46]\n",
            " [  10    9    7   37  347   26   12  193   41  679]]\n"
          ]
        }
      ]
    },
    {
      "cell_type": "code",
      "source": [
        "print('Classification Report: \\n\\n', cr)"
      ],
      "metadata": {
        "colab": {
          "base_uri": "https://localhost:8080/"
        },
        "outputId": "3d43550d-97f1-499c-ce39-7382a89e4ae1",
        "id": "wrcxB5HD6kc2"
      },
      "execution_count": null,
      "outputs": [
        {
          "output_type": "stream",
          "name": "stdout",
          "text": [
            "Classification Report: \n",
            "\n",
            "               precision    recall  f1-score   support\n",
            "\n",
            "           0       0.86      0.85      0.85      1387\n",
            "           1       0.92      0.92      0.92      1580\n",
            "           2       0.64      0.64      0.64      1443\n",
            "           3       0.62      0.63      0.63      1435\n",
            "           4       0.54      0.55      0.55      1350\n",
            "           5       0.62      0.61      0.61      1231\n",
            "           6       0.64      0.63      0.63      1387\n",
            "           7       0.70      0.67      0.69      1458\n",
            "           8       0.59      0.60      0.59      1368\n",
            "           9       0.50      0.50      0.50      1361\n",
            "\n",
            "    accuracy                           0.67     14000\n",
            "   macro avg       0.66      0.66      0.66     14000\n",
            "weighted avg       0.67      0.67      0.67     14000\n",
            "\n"
          ]
        }
      ]
    },
    {
      "cell_type": "markdown",
      "source": [
        "#### PCA with n=20"
      ],
      "metadata": {
        "id": "yTN7zLmO2qvm"
      }
    },
    {
      "cell_type": "markdown",
      "source": [
        "**PCA**"
      ],
      "metadata": {
        "id": "7B48VJ84vump"
      }
    },
    {
      "cell_type": "code",
      "source": [
        "pca, X_train_pca, X_test_pca = run_PCA(X_train, X_test, n=20)"
      ],
      "metadata": {
        "id": "xJZ5GYnMvxt_"
      },
      "execution_count": null,
      "outputs": []
    },
    {
      "cell_type": "markdown",
      "source": [
        "**Logistic Regression**"
      ],
      "metadata": {
        "id": "ChYEIKpcv5EU"
      }
    },
    {
      "cell_type": "code",
      "source": [
        "cm, cr = run_LogisticRegression(X_train_pca, y_train, X_test_pca, y_test)"
      ],
      "metadata": {
        "id": "vhG5_fzp7INe"
      },
      "execution_count": null,
      "outputs": []
    },
    {
      "cell_type": "code",
      "source": [
        "print('Confusion Matrix: \\n\\n', cm) "
      ],
      "metadata": {
        "colab": {
          "base_uri": "https://localhost:8080/"
        },
        "outputId": "c98c75fa-87a9-4652-c3cf-849a3c83fa9b",
        "id": "_xnsbHB97INf"
      },
      "execution_count": null,
      "outputs": [
        {
          "output_type": "stream",
          "name": "stdout",
          "text": [
            "Confusion Matrix: \n",
            "\n",
            " [[1305    0    7    5    4   30   12    3   20    1]\n",
            " [   0 1530    8    3    2    7    3    3   23    1]\n",
            " [  16   30 1200   33   42    3   39   19   44   17]\n",
            " [   8   10   44 1175    1   80    5   34   54   24]\n",
            " [   2    5   14    1 1205    3   24   10   11   75]\n",
            " [  15   27   12   58   19  979   29   19   56   17]\n",
            " [  17    4   27    1   23   25 1279    1   10    0]\n",
            " [   7   14   38    4   26    9    0 1292    8   60]\n",
            " [   6   56   19   58    6   51   17    4 1119   32]\n",
            " [   8   11   17   22   76   24    2   66   23 1112]]\n"
          ]
        }
      ]
    },
    {
      "cell_type": "code",
      "source": [
        "print('Classification Report: \\n\\n', cr)"
      ],
      "metadata": {
        "colab": {
          "base_uri": "https://localhost:8080/"
        },
        "outputId": "8908bafc-cd17-4353-f85c-414f097d5360",
        "id": "Mc_TEbm87INf"
      },
      "execution_count": null,
      "outputs": [
        {
          "output_type": "stream",
          "name": "stdout",
          "text": [
            "Classification Report: \n",
            "\n",
            "               precision    recall  f1-score   support\n",
            "\n",
            "           0       0.94      0.94      0.94      1387\n",
            "           1       0.91      0.97      0.94      1580\n",
            "           2       0.87      0.83      0.85      1443\n",
            "           3       0.86      0.82      0.84      1435\n",
            "           4       0.86      0.89      0.88      1350\n",
            "           5       0.81      0.80      0.80      1231\n",
            "           6       0.91      0.92      0.91      1387\n",
            "           7       0.89      0.89      0.89      1458\n",
            "           8       0.82      0.82      0.82      1368\n",
            "           9       0.83      0.82      0.82      1361\n",
            "\n",
            "    accuracy                           0.87     14000\n",
            "   macro avg       0.87      0.87      0.87     14000\n",
            "weighted avg       0.87      0.87      0.87     14000\n",
            "\n"
          ]
        }
      ]
    },
    {
      "cell_type": "markdown",
      "source": [
        "**Decision Tree**"
      ],
      "metadata": {
        "id": "2Qzw9mkzxaJG"
      }
    },
    {
      "cell_type": "code",
      "source": [
        "cm, cr = run_DecisionTreeClassifier(X_train_pca, y_train, X_test_pca, y_test)"
      ],
      "metadata": {
        "id": "wCMridoc7INf"
      },
      "execution_count": null,
      "outputs": []
    },
    {
      "cell_type": "code",
      "source": [
        "print('Confusion Matrix: \\n\\n', cm) "
      ],
      "metadata": {
        "colab": {
          "base_uri": "https://localhost:8080/"
        },
        "outputId": "99fb3953-54b6-41a2-c928-c7a7f2291b06",
        "id": "K7RLyRkQ7INf"
      },
      "execution_count": null,
      "outputs": [
        {
          "output_type": "stream",
          "name": "stdout",
          "text": [
            "Confusion Matrix: \n",
            "\n",
            " [[1263    3   11   13    8   28   28    4   19   10]\n",
            " [   2 1512    7   10    5    1    8    9   17    9]\n",
            " [  19   14 1230   50   22   13   14   25   48    8]\n",
            " [  14    9   35 1155   12   68   12   23   80   27]\n",
            " [   8    4   15   10 1083   18   32   31   16  133]\n",
            " [  20    9   11   70   15  974   32   14   59   27]\n",
            " [  31    8   22    6   28   36 1232    7   13    4]\n",
            " [   6    5   25   18   30   17    0 1265   18   74]\n",
            " [   7   13   33   89   14   57    4   17 1090   44]\n",
            " [  10    8   20   21  133   27   13   71   26 1032]]\n"
          ]
        }
      ]
    },
    {
      "cell_type": "code",
      "source": [
        "print('Classification Report: \\n\\n', cr)"
      ],
      "metadata": {
        "colab": {
          "base_uri": "https://localhost:8080/"
        },
        "outputId": "e9a2362f-b3c0-4cc3-ef28-0c07198a0f69",
        "id": "JjJRn5Y07INf"
      },
      "execution_count": null,
      "outputs": [
        {
          "output_type": "stream",
          "name": "stdout",
          "text": [
            "Classification Report: \n",
            "\n",
            "               precision    recall  f1-score   support\n",
            "\n",
            "           0       0.92      0.91      0.91      1387\n",
            "           1       0.95      0.96      0.96      1580\n",
            "           2       0.87      0.85      0.86      1443\n",
            "           3       0.80      0.80      0.80      1435\n",
            "           4       0.80      0.80      0.80      1350\n",
            "           5       0.79      0.79      0.79      1231\n",
            "           6       0.90      0.89      0.89      1387\n",
            "           7       0.86      0.87      0.87      1458\n",
            "           8       0.79      0.80      0.79      1368\n",
            "           9       0.75      0.76      0.76      1361\n",
            "\n",
            "    accuracy                           0.85     14000\n",
            "   macro avg       0.84      0.84      0.84     14000\n",
            "weighted avg       0.85      0.85      0.85     14000\n",
            "\n"
          ]
        }
      ]
    },
    {
      "cell_type": "markdown",
      "source": [
        "### Spambase"
      ],
      "metadata": {
        "id": "h6iWiTb87u0T"
      }
    },
    {
      "cell_type": "code",
      "source": [
        "cols = [\n",
        "    'word_freq_make',\n",
        "    'word_freq_address',\n",
        "    'word_freq_all', \n",
        "    'word_freq_3d',  \n",
        "    'word_freq_our', \n",
        "    'word_freq_over',\n",
        "    'word_freq_remove', \n",
        "    'word_freq_internet',\n",
        "    'word_freq_order',  \n",
        "    'word_freq_mail',\n",
        "    'word_freq_receive',\n",
        "    'word_freq_will',\n",
        "    'word_freq_people', \n",
        "    'word_freq_report', \n",
        "    'word_freq_addresses',\n",
        "    'word_freq_free',\n",
        "    'word_freq_business',\n",
        "    'word_freq_email',  \n",
        "    'word_freq_you', \n",
        "    'word_freq_credit', \n",
        "    'word_freq_your',\n",
        "    'word_freq_font',\n",
        "    'word_freq_000', \n",
        "    'word_freq_money',  \n",
        "    'word_freq_hp',  \n",
        "    'word_freq_hpl', \n",
        "    'word_freq_george', \n",
        "    'word_freq_650', \n",
        "    'word_freq_lab', \n",
        "    'word_freq_labs',\n",
        "    'word_freq_telnet', \n",
        "    'word_freq_857', \n",
        "    'word_freq_data',\n",
        "    'word_freq_415', \n",
        "    'word_freq_85',  \n",
        "    'word_freq_technology',\n",
        "    'word_freq_1999',\n",
        "    'word_freq_parts',  \n",
        "    'word_freq_pm',  \n",
        "    'word_freq_direct', \n",
        "    'word_freq_cs',  \n",
        "    'word_freq_meeting',\n",
        "    'word_freq_original',\n",
        "    'word_freq_project',\n",
        "    'word_freq_re',  \n",
        "    'word_freq_edu', \n",
        "    'word_freq_table',  \n",
        "    'word_freq_conference',\n",
        "    'char_freq_;',   \n",
        "    'char_freq_(',   \n",
        "    'char_freq_[',   \n",
        "    'char_freq_!',   \n",
        "    'char_freq_$',   \n",
        "    'char_freq_#',   \n",
        "    'capital_run_length_average',\n",
        "    'capital_run_length_longest',\n",
        "    'capital_run_length_total',\n",
        "    'type'\n",
        "]\n",
        "\n",
        "spam_df = pd.read_csv('/content/drive/MyDrive/UML/HW3/spambase.csv', names=cols)\n",
        "\n",
        "# Stratified sampling\n",
        "\n",
        "# Taking 80% data for training\n",
        "spam_train = spam_df.groupby('type', group_keys=False).apply(lambda x: x.sample(frac=0.8))\n",
        "\n",
        "# Taking remaining 20% for testing\n",
        "spam_test = spam_df.drop(spam_train.index)\n",
        "\n",
        "# Random shuffling dataframe\n",
        "spam_train = spam_train.sample(frac=1)\n",
        "spam_test = spam_test.sample(frac=1)\n",
        "\n",
        "X_train = spam_train.loc[:, spam_train.columns != 'type']\n",
        "y_train = spam_train.loc[:, spam_train.columns == 'type']\n",
        "\n",
        "X_test = spam_test.loc[:, spam_test.columns != 'type']\n",
        "y_test = spam_test.loc[:, spam_test.columns == 'type']\n",
        "\n",
        "std = StandardScaler()\n",
        "X_train_std = std.fit_transform(X_train)\n",
        "X_test_std = std.transform(X_test)"
      ],
      "metadata": {
        "id": "QI9o6AImerER"
      },
      "execution_count": null,
      "outputs": []
    },
    {
      "cell_type": "markdown",
      "source": [
        "#### PCA with n=5"
      ],
      "metadata": {
        "id": "ySQ4vLQp_B9X"
      }
    },
    {
      "cell_type": "code",
      "source": [
        "pca, X_train_pca, X_test_pca = run_PCA(X_train_std, X_test_std, n=5)"
      ],
      "metadata": {
        "id": "B_t3uLNQwQm9"
      },
      "execution_count": null,
      "outputs": []
    },
    {
      "cell_type": "code",
      "source": [
        "cm, cr = run_LogisticRegression(X_train_pca, y_train, X_test_pca, y_test)"
      ],
      "metadata": {
        "id": "SftBErQZ_B9X"
      },
      "execution_count": null,
      "outputs": []
    },
    {
      "cell_type": "code",
      "source": [
        "print('Confusion Matrix: \\n\\n', cm) "
      ],
      "metadata": {
        "colab": {
          "base_uri": "https://localhost:8080/"
        },
        "outputId": "179b3999-beab-4ecd-cc58-b77f6a9cd0b6",
        "id": "nnJ1l0C-_B9X"
      },
      "execution_count": null,
      "outputs": [
        {
          "output_type": "stream",
          "name": "stdout",
          "text": [
            "Confusion Matrix: \n",
            "\n",
            " [[527  31]\n",
            " [ 77 286]]\n"
          ]
        }
      ]
    },
    {
      "cell_type": "code",
      "source": [
        "print('Classification Report: \\n\\n', cr)"
      ],
      "metadata": {
        "colab": {
          "base_uri": "https://localhost:8080/"
        },
        "outputId": "548c1fd2-e020-4b32-ff38-85c33050a197",
        "id": "030yT1p0_B9X"
      },
      "execution_count": null,
      "outputs": [
        {
          "output_type": "stream",
          "name": "stdout",
          "text": [
            "Classification Report: \n",
            "\n",
            "               precision    recall  f1-score   support\n",
            "\n",
            "           0       0.87      0.94      0.91       558\n",
            "           1       0.90      0.79      0.84       363\n",
            "\n",
            "    accuracy                           0.88       921\n",
            "   macro avg       0.89      0.87      0.87       921\n",
            "weighted avg       0.88      0.88      0.88       921\n",
            "\n"
          ]
        }
      ]
    },
    {
      "cell_type": "markdown",
      "source": [
        "#### Finding optimum value of components using Cross-Validation"
      ],
      "metadata": {
        "id": "8_l4KJrF_Kn1"
      }
    },
    {
      "cell_type": "code",
      "source": [
        "pca_reg_scores = {}\n",
        "\n",
        "for n in range(1,10):\n",
        "    p = PCA(n_components=n)\n",
        "    X_train_pca = p.fit_transform(X_train_std)\n",
        "    lr = LogisticRegression(penalty='l2')\n",
        "    kf = KFold(n_splits=5, random_state=0, shuffle=True)\n",
        "    scores = cross_val_score(lr, X_train_pca, y_train, cv=kf)\n",
        "    pca_reg_scores[n] = scores.mean()"
      ],
      "metadata": {
        "id": "-xyZcpvJ_Pss"
      },
      "execution_count": null,
      "outputs": []
    },
    {
      "cell_type": "code",
      "source": [
        "pca_comp = max(pca_reg_scores, key=pca_reg_scores.get)\n",
        "print('No. of components giving minimum error:', pca_comp)"
      ],
      "metadata": {
        "colab": {
          "base_uri": "https://localhost:8080/"
        },
        "id": "icOcgpJDAPGV",
        "outputId": "cadf6c48-69c8-41cf-8b29-9e115d7bcc43"
      },
      "execution_count": null,
      "outputs": [
        {
          "output_type": "stream",
          "name": "stdout",
          "text": [
            "No. of components giving minimum error: 9\n"
          ]
        }
      ]
    },
    {
      "cell_type": "code",
      "source": [
        "d_keys = list(pca_reg_scores.keys())\n",
        "d_values = list(pca_reg_scores.values())\n",
        "plt.figure(figsize = (20,6))\n",
        "plt.plot(d_keys, d_values, marker='o')\n",
        "plt.xlabel('No. of components')\n",
        "plt.ylabel('Cross-Validated Error')\n",
        "plt.show()"
      ],
      "metadata": {
        "colab": {
          "base_uri": "https://localhost:8080/",
          "height": 388
        },
        "id": "81Zs1kqcAfNz",
        "outputId": "a7c8b8df-f7bb-4337-a17d-80e07b955d76"
      },
      "execution_count": null,
      "outputs": [
        {
          "output_type": "display_data",
          "data": {
            "text/plain": [
              "<Figure size 1440x432 with 1 Axes>"
            ],
            "image/png": "[encoded data removed]"
          },
          "metadata": {
            "needs_background": "light"
          }
        }
      ]
    },
    {
      "cell_type": "markdown",
      "source": [
        "#### PCA with components obtained above"
      ],
      "metadata": {
        "id": "ELKbjlrKBRjD"
      }
    },
    {
      "cell_type": "code",
      "source": [
        "pca, X_train_pca, X_test_pca = run_PCA(X_train_std, X_test_std, n=pca_comp)"
      ],
      "metadata": {
        "id": "MZcNzHwTxQNE"
      },
      "execution_count": null,
      "outputs": []
    },
    {
      "cell_type": "code",
      "source": [
        "cm, cr = run_LogisticRegression(X_train_pca, y_train, X_test_pca, y_test)"
      ],
      "metadata": {
        "id": "_y8VRqo0BRjD"
      },
      "execution_count": null,
      "outputs": []
    },
    {
      "cell_type": "code",
      "source": [
        "print('Confusion Matrix: \\n\\n', cm) "
      ],
      "metadata": {
        "colab": {
          "base_uri": "https://localhost:8080/"
        },
        "outputId": "e2575831-22c8-45a8-b6f7-588c34be3d15",
        "id": "egFOjZAUBRjD"
      },
      "execution_count": null,
      "outputs": [
        {
          "output_type": "stream",
          "name": "stdout",
          "text": [
            "Confusion Matrix: \n",
            "\n",
            " [[533  25]\n",
            " [ 70 293]]\n"
          ]
        }
      ]
    },
    {
      "cell_type": "code",
      "source": [
        "print('Classification Report: \\n\\n', cr)"
      ],
      "metadata": {
        "colab": {
          "base_uri": "https://localhost:8080/"
        },
        "outputId": "f386669c-b0c7-4015-d8db-1a75b5d68b0a",
        "id": "mvaWdPkqBRjD"
      },
      "execution_count": null,
      "outputs": [
        {
          "output_type": "stream",
          "name": "stdout",
          "text": [
            "Classification Report: \n",
            "\n",
            "               precision    recall  f1-score   support\n",
            "\n",
            "           0       0.88      0.96      0.92       558\n",
            "           1       0.92      0.81      0.86       363\n",
            "\n",
            "    accuracy                           0.90       921\n",
            "   macro avg       0.90      0.88      0.89       921\n",
            "weighted avg       0.90      0.90      0.90       921\n",
            "\n"
          ]
        }
      ]
    }
  ]
}