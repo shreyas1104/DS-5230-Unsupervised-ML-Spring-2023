{
  "nbformat": 4,
  "nbformat_minor": 0,
  "metadata": {
    "colab": {
      "provenance": []
    },
    "kernelspec": {
      "name": "python3",
      "display_name": "Python 3"
    },
    "language_info": {
      "name": "python"
    }
  },
  "cells": [
    {
      "cell_type": "code",
      "execution_count": 1,
      "metadata": {
        "id": "KfgqTzkyvDsJ"
      },
      "outputs": [],
      "source": [
        "import numpy as np\n",
        "import matplotlib.pyplot as plt\n",
        "from scipy.stats import uniform, norm, multivariate_normal"
      ]
    },
    {
      "cell_type": "code",
      "source": [
        "def sample_x_given_y(y, mu, sigma):\n",
        "    return np.random.normal(mu[0] + sigma[0, 1]/sigma[1, 1] * (y - mu[1]), np.sqrt(sigma[0, 0] - sigma[0, 1]**2/sigma[1, 1]))\n",
        "\n",
        "def sample_y_given_x(x, mu, sigma):\n",
        "    return np.random.normal(mu[1] + sigma[1, 0]/sigma[0, 0] * (x - mu[0]), np.sqrt(sigma[1, 1] - sigma[1, 0]**2/sigma[0, 0]))\n",
        "\n",
        "def gibbs_sampler(y, mu, sigma, samples):\n",
        "    for t in range(1, num_iterations):\n",
        "        x = sample_x_given_y(y, mu, sigma)\n",
        "        y = sample_y_given_x(x, mu, sigma)\n",
        "        samples.append([x, y])\n",
        "    return samples"
      ],
      "metadata": {
        "id": "9FiwuOGdwhCD"
      },
      "execution_count": 29,
      "outputs": []
    },
    {
      "cell_type": "code",
      "source": [
        "mu = np.array([0, 0])\n",
        "sigma = np.array([[1, 0.5], [0.5, 1]])\n",
        "\n",
        "num_iterations = 100000\n",
        "\n",
        "initial_sample = []\n",
        "y = np.random.normal(mu[1], np.sqrt(sigma[1, 1]))\n",
        "initial_sample = [[0, y]]\n",
        "\n",
        "samples = gibbs_sampler(y, mu, sigma, initial_sample)\n",
        "\n",
        "print('Mean:', np.mean(np.array(samples), axis=0))\n",
        "print('Covariance Matrix:', np.cov(np.array(samples).T))"
      ],
      "metadata": {
        "colab": {
          "base_uri": "https://localhost:8080/"
        },
        "id": "uiprdGv7wYAn",
        "outputId": "58427741-3f2d-4837-dbbe-c4a96fe5b953"
      },
      "execution_count": 31,
      "outputs": [
        {
          "output_type": "stream",
          "name": "stdout",
          "text": [
            "Mean: [0.01101608 0.00723015]\n",
            "Covariance Matrix: [[0.98363825 0.48996411]\n",
            " [0.48996411 0.99301929]]\n"
          ]
        }
      ]
    }
  ]
}