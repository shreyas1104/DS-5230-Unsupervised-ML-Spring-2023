{
  "nbformat": 4,
  "nbformat_minor": 0,
  "metadata": {
    "colab": {
      "provenance": []
    },
    "kernelspec": {
      "name": "python3",
      "display_name": "Python 3"
    },
    "language_info": {
      "name": "python"
    }
  },
  "cells": [
    {
      "cell_type": "code",
      "execution_count": null,
      "metadata": {
        "id": "wms7XicAQHfn"
      },
      "outputs": [],
      "source": [
        "import numpy as np\n",
        "import pandas as pd\n",
        "import seaborn as sns\n",
        "import matplotlib.pyplot as plt\n",
        "from sklearn.datasets import fetch_20newsgroups\n",
        "from sklearn.feature_extraction.text import TfidfVectorizer\n",
        "from sklearn.linear_model import LogisticRegression\n",
        "from sklearn.tree import DecisionTreeClassifier\n",
        "from sklearn.metrics import confusion_matrix, classification_report\n",
        "from sklearn.feature_selection import SelectKBest\n",
        "from sklearn.feature_selection import chi2\n",
        "from sklearn.feature_selection import mutual_info_classif"
      ]
    },
    {
      "cell_type": "code",
      "source": [
        "def run_LogisticRegression(X_train_red, y_train, X_test_red, y_test):\n",
        "\n",
        "    lr = LogisticRegression(penalty='l2').fit(X_train_red, y_train)\n",
        "    y_pred = lr.predict(X_test_red)\n",
        "    cm = confusion_matrix(y_test, y_pred)\n",
        "    cr = classification_report(y_test, y_pred)\n",
        "\n",
        "    return cm, cr"
      ],
      "metadata": {
        "id": "CbITG9xpzo_U"
      },
      "execution_count": null,
      "outputs": []
    },
    {
      "cell_type": "code",
      "source": [
        "def run_DecisionTreeClassifier(X_train_red, y_train, X_test_red, y_test):\n",
        "\n",
        "    lr = DecisionTreeClassifier().fit(X_train_red, y_train)\n",
        "    y_pred = lr.predict(X_test_red)\n",
        "    cm = confusion_matrix(y_test, y_pred)\n",
        "    cr = classification_report(y_test, y_pred)\n",
        "\n",
        "    return cm, cr"
      ],
      "metadata": {
        "id": "5gq7VEtG3Xy2"
      },
      "execution_count": null,
      "outputs": []
    },
    {
      "cell_type": "code",
      "source": [
        "train_data = fetch_20newsgroups(subset='train')\n",
        "train_df = pd.DataFrame({\n",
        "    'Data': train_data.data,\n",
        "    'Group': train_data.target\n",
        "})\n",
        "\n",
        "test_data = fetch_20newsgroups(subset='test')\n",
        "test_df = pd.DataFrame({\n",
        "    'Data': test_data.data,\n",
        "    'Group': test_data.target\n",
        "})\n",
        "\n",
        "# Taking a sample of 100 articles for each group for train\n",
        "train_df = train_df.groupby('Group', group_keys=False).apply(pd.DataFrame.sample, n=50)\n",
        "\n",
        "# Taking a sample of 50 articles for each group for train\n",
        "test_df = test_df.groupby('Group', group_keys=False).apply(pd.DataFrame.sample, n=25)\n",
        "\n",
        "# Random shuffling dataframe\n",
        "train_df = train_df.sample(frac=1)\n",
        "test_df = test_df.sample(frac=1)\n",
        "\n",
        "# Vectorizing the articles\n",
        "vectorizer = TfidfVectorizer()\n",
        "vectors_train = vectorizer.fit_transform(train_df.Data)\n",
        "vectors_test = vectorizer.transform(test_df.Data)\n",
        "n = vectors_train.shape[1]\n",
        "\n",
        "vec_train = vectors_train.toarray()\n",
        "vec_test = vectors_test.toarray()\n",
        "\n",
        "vec_train = vec_train.tolist()\n",
        "X_train = pd.DataFrame(vec_train, columns=np.arange(0,n,1))\n",
        "y_train = train_df['Group']\n",
        "\n",
        "vec_test = vec_test.tolist()\n",
        "X_test = pd.DataFrame(vec_test, columns=np.arange(0,n,1))\n",
        "y_test = test_df['Group']"
      ],
      "metadata": {
        "id": "Iv0upFn9yztL"
      },
      "execution_count": null,
      "outputs": []
    },
    {
      "cell_type": "markdown",
      "source": [
        "### Chi-Square"
      ],
      "metadata": {
        "id": "4L5Ur3fBYUvZ"
      }
    },
    {
      "cell_type": "code",
      "source": [
        "ch = SelectKBest(score_func=chi2, k=200)\n",
        "X_train_red = ch.fit_transform(X_train, y_train)\n",
        "X_test_red = ch.transform(X_test)"
      ],
      "metadata": {
        "id": "q0SgBVjDYXs0"
      },
      "execution_count": null,
      "outputs": []
    },
    {
      "cell_type": "markdown",
      "source": [
        "#### Logistic Regression"
      ],
      "metadata": {
        "id": "Rj4xFiFdq609"
      }
    },
    {
      "cell_type": "code",
      "source": [
        "cm, cr = run_LogisticRegression(X_train_red, y_train, X_test_red, y_test)"
      ],
      "metadata": {
        "id": "hJ1DFP-nq609"
      },
      "execution_count": null,
      "outputs": []
    },
    {
      "cell_type": "code",
      "source": [
        "print('Confusion Matrix: \\n\\n', cm) "
      ],
      "metadata": {
        "colab": {
          "base_uri": "https://localhost:8080/"
        },
        "outputId": "0d2b85bc-588f-4b4d-90b3-282a68c3a236",
        "id": "oCh6vE5Lq60-"
      },
      "execution_count": null,
      "outputs": [
        {
          "output_type": "stream",
          "name": "stdout",
          "text": [
            "Confusion Matrix: \n",
            "\n",
            " [[11  0  0  0  0  0  0  0  0  2  1  0  2  0  0  8  0  0  0  1]\n",
            " [ 0 10  3  2  0  1  0  0  0  0  0  0  7  0  2  0  0  0  0  0]\n",
            " [ 0  0 19  0  1  0  0  0  0  0  0  0  5  0  0  0  0  0  0  0]\n",
            " [ 0  2  7 11  0  0  0  0  0  0  1  1  3  0  0  0  0  0  0  0]\n",
            " [ 0  0  1  4 13  1  1  0  0  1  0  0  3  0  1  0  0  0  0  0]\n",
            " [ 0  2  5  0  0 10  0  0  0  0  0  0  8  0  0  0  0  0  0  0]\n",
            " [ 0  1  0  4  0  0 15  1  0  0  1  1  2  0  0  0  0  0  0  0]\n",
            " [ 0  0  0  0  0  0  0 17  0  0  0  0  7  0  0  0  1  0  0  0]\n",
            " [ 0  0  0  1  0  0  2  1 15  2  0  0  2  0  0  2  0  0  0  0]\n",
            " [ 0  0  0  0  0  0  1  0  0 11 10  0  2  1  0  0  0  0  0  0]\n",
            " [ 0  0  0  0  0  0  0  0  0  1 22  0  0  0  0  1  1  0  0  0]\n",
            " [ 0  0  1  0  0  0  0  0  0  0  0 21  3  0  0  0  0  0  0  0]\n",
            " [ 0  0  0  3  0  0  1  1  1  1  1  4 12  0  0  1  0  0  0  0]\n",
            " [ 0  0  0  0  0  0  1  0  0  2  0  0 12  8  1  1  0  0  0  0]\n",
            " [ 0  0  0  0  0  0  0  0  0  0  0  0  6  0 19  0  0  0  0  0]\n",
            " [ 0  0  0  0  0  0  0  0  0  0  0  0  1  0  0 21  1  0  0  2]\n",
            " [ 0  0  0  0  1  0  0  0  0  3  0  0  6  0  2  0 12  0  0  1]\n",
            " [ 2  0  0  0  0  0  0  0  0  3  0  0  2  1  0  0  0 17  0  0]\n",
            " [ 0  0  0  0  0  0  0  0  0  4  0  0  8  0  0  1  7  0  3  2]\n",
            " [ 4  0  1  0  0  0  1  1  0  0  1  0  4  1  0  7  1  1  0  3]]\n"
          ]
        }
      ]
    },
    {
      "cell_type": "code",
      "source": [
        "print('Classification Report: \\n\\n', cr)"
      ],
      "metadata": {
        "colab": {
          "base_uri": "https://localhost:8080/"
        },
        "outputId": "259076fb-8589-4256-c9dd-7e0e9e3197c3",
        "id": "GtXHoD-Nq60-"
      },
      "execution_count": null,
      "outputs": [
        {
          "output_type": "stream",
          "name": "stdout",
          "text": [
            "Classification Report: \n",
            "\n",
            "               precision    recall  f1-score   support\n",
            "\n",
            "           0       0.65      0.44      0.52        25\n",
            "           1       0.67      0.40      0.50        25\n",
            "           2       0.51      0.76      0.61        25\n",
            "           3       0.44      0.44      0.44        25\n",
            "           4       0.87      0.52      0.65        25\n",
            "           5       0.83      0.40      0.54        25\n",
            "           6       0.68      0.60      0.64        25\n",
            "           7       0.81      0.68      0.74        25\n",
            "           8       0.94      0.60      0.73        25\n",
            "           9       0.37      0.44      0.40        25\n",
            "          10       0.59      0.88      0.71        25\n",
            "          11       0.78      0.84      0.81        25\n",
            "          12       0.13      0.48      0.20        25\n",
            "          13       0.73      0.32      0.44        25\n",
            "          14       0.76      0.76      0.76        25\n",
            "          15       0.50      0.84      0.63        25\n",
            "          16       0.52      0.48      0.50        25\n",
            "          17       0.94      0.68      0.79        25\n",
            "          18       1.00      0.12      0.21        25\n",
            "          19       0.33      0.12      0.18        25\n",
            "\n",
            "    accuracy                           0.54       500\n",
            "   macro avg       0.65      0.54      0.55       500\n",
            "weighted avg       0.65      0.54      0.55       500\n",
            "\n"
          ]
        }
      ]
    },
    {
      "cell_type": "markdown",
      "source": [
        "#### Decision Tree"
      ],
      "metadata": {
        "id": "QPJOPexfq60-"
      }
    },
    {
      "cell_type": "code",
      "source": [
        "cm, cr = run_DecisionTreeClassifier(X_train_red, y_train, X_test_red, y_test)"
      ],
      "metadata": {
        "id": "8xIlZQDMax2h"
      },
      "execution_count": null,
      "outputs": []
    },
    {
      "cell_type": "code",
      "source": [
        "print('Confusion Matrix: \\n\\n', cm) "
      ],
      "metadata": {
        "colab": {
          "base_uri": "https://localhost:8080/"
        },
        "outputId": "0290aa85-0154-478c-ed2f-f27a23218bd9",
        "id": "FWqNJ0Juax2h"
      },
      "execution_count": null,
      "outputs": [
        {
          "output_type": "stream",
          "name": "stdout",
          "text": [
            "Confusion Matrix: \n",
            "\n",
            " [[11  0  0  0  1  0  0  0  0  0  0  0  1  0  0  5  0  0  2  5]\n",
            " [ 0 11  1  0  1  1  0  0  0  0  0  0  8  0  3  0  0  0  0  0]\n",
            " [ 0  2 16  1  0  0  0  0  0  0  0  0  6  0  0  0  0  0  0  0]\n",
            " [ 0  2  4  8  3  0  1  0  0  0  0  0  6  0  1  0  0  0  0  0]\n",
            " [ 0  2  1  3 10  0  2  0  0  0  0  0  3  0  0  0  1  0  3  0]\n",
            " [ 0  1  6  0  0  8  0  0  0  0  0  0 10  0  0  0  0  0  0  0]\n",
            " [ 0  1  0  1  0  0 17  0  0  0  2  0  4  0  0  0  0  0  0  0]\n",
            " [ 0  0  0  0  0  0  1 13  0  0  0  0  7  0  0  0  1  2  1  0]\n",
            " [ 0  0  0  1  1  0  2  1 14  1  0  0  4  0  0  0  1  0  0  0]\n",
            " [ 0  0  1  0  0  0  3  0  0 11  1  0  2  1  0  0  0  0  2  4]\n",
            " [ 0  0  0  0  0  0  4  0  1  2 16  0  0  0  0  0  1  0  0  1]\n",
            " [ 0  1  0  0  0  0  0  0  0  0  0 17  6  0  0  0  0  0  1  0]\n",
            " [ 0  1  0  3  0  1  0  1  0  1  0  0 14  1  1  1  0  0  1  0]\n",
            " [ 0  0  1  0  0  2  2  0  0  0  0  0 12  7  0  0  0  0  1  0]\n",
            " [ 0  0  0  0  0  0  0  0  0  0  0  0  7  0 18  0  0  0  0  0]\n",
            " [ 4  0  0  0  0  0  0  0  2  0  0  0  0  0  0 12  0  4  2  1]\n",
            " [ 1  0  1  0  1  0  0  0  2  2  0  0  6  2  1  0  6  0  2  1]\n",
            " [ 0  0  0  0  0  0  1  0  0  3  0  0  2  1  1  0  1 13  3  0]\n",
            " [ 0  0  0  0  0  0  0  0  0  1  0  0 10  2  0  0  5  0  6  1]\n",
            " [ 4  1  1  0  2  0  0  1  0  0  0  0  4  1  0  4  2  1  0  4]]\n"
          ]
        }
      ]
    },
    {
      "cell_type": "code",
      "source": [
        "print('Classification Report: \\n\\n', cr)"
      ],
      "metadata": {
        "colab": {
          "base_uri": "https://localhost:8080/"
        },
        "outputId": "c4f8eb2c-70c9-4ce9-a4ff-e7a203614759",
        "id": "FynFqK4oax2h"
      },
      "execution_count": null,
      "outputs": [
        {
          "output_type": "stream",
          "name": "stdout",
          "text": [
            "Classification Report: \n",
            "\n",
            "               precision    recall  f1-score   support\n",
            "\n",
            "           0       0.55      0.44      0.49        25\n",
            "           1       0.50      0.44      0.47        25\n",
            "           2       0.50      0.64      0.56        25\n",
            "           3       0.47      0.32      0.38        25\n",
            "           4       0.53      0.40      0.45        25\n",
            "           5       0.67      0.32      0.43        25\n",
            "           6       0.52      0.68      0.59        25\n",
            "           7       0.81      0.52      0.63        25\n",
            "           8       0.74      0.56      0.64        25\n",
            "           9       0.52      0.44      0.48        25\n",
            "          10       0.84      0.64      0.73        25\n",
            "          11       1.00      0.68      0.81        25\n",
            "          12       0.12      0.56      0.20        25\n",
            "          13       0.47      0.28      0.35        25\n",
            "          14       0.72      0.72      0.72        25\n",
            "          15       0.55      0.48      0.51        25\n",
            "          16       0.33      0.24      0.28        25\n",
            "          17       0.65      0.52      0.58        25\n",
            "          18       0.25      0.24      0.24        25\n",
            "          19       0.24      0.16      0.19        25\n",
            "\n",
            "    accuracy                           0.46       500\n",
            "   macro avg       0.55      0.46      0.49       500\n",
            "weighted avg       0.55      0.46      0.49       500\n",
            "\n"
          ]
        }
      ]
    },
    {
      "cell_type": "markdown",
      "source": [
        "### Mutual Information"
      ],
      "metadata": {
        "id": "GafBjzNZceNi"
      }
    },
    {
      "cell_type": "code",
      "source": [
        "mi = SelectKBest(score_func=mutual_info_classif, k=200)\n",
        "X_train_red = mi.fit_transform(X_train, y_train)\n",
        "X_test_red = mi.transform(X_test)"
      ],
      "metadata": {
        "id": "Am7jWsduceNi"
      },
      "execution_count": null,
      "outputs": []
    },
    {
      "cell_type": "markdown",
      "source": [
        "#### Logistic Regression"
      ],
      "metadata": {
        "id": "Exk1xjEmceNi"
      }
    },
    {
      "cell_type": "code",
      "source": [
        "cm, cr = run_LogisticRegression(X_train_red, y_train, X_test_red, y_test)"
      ],
      "metadata": {
        "id": "vjzb4eaYceNi"
      },
      "execution_count": null,
      "outputs": []
    },
    {
      "cell_type": "code",
      "source": [
        "print('Confusion Matrix: \\n\\n', cm) "
      ],
      "metadata": {
        "colab": {
          "base_uri": "https://localhost:8080/"
        },
        "outputId": "0d2b85bc-588f-4b4d-90b3-282a68c3a236",
        "id": "wra2RgsvceNi"
      },
      "execution_count": null,
      "outputs": [
        {
          "output_type": "stream",
          "name": "stdout",
          "text": [
            "Confusion Matrix: \n",
            "\n",
            " [[11  0  0  0  0  0  0  0  0  2  1  0  2  0  0  8  0  0  0  1]\n",
            " [ 0 10  3  2  0  1  0  0  0  0  0  0  7  0  2  0  0  0  0  0]\n",
            " [ 0  0 19  0  1  0  0  0  0  0  0  0  5  0  0  0  0  0  0  0]\n",
            " [ 0  2  7 11  0  0  0  0  0  0  1  1  3  0  0  0  0  0  0  0]\n",
            " [ 0  0  1  4 13  1  1  0  0  1  0  0  3  0  1  0  0  0  0  0]\n",
            " [ 0  2  5  0  0 10  0  0  0  0  0  0  8  0  0  0  0  0  0  0]\n",
            " [ 0  1  0  4  0  0 15  1  0  0  1  1  2  0  0  0  0  0  0  0]\n",
            " [ 0  0  0  0  0  0  0 17  0  0  0  0  7  0  0  0  1  0  0  0]\n",
            " [ 0  0  0  1  0  0  2  1 15  2  0  0  2  0  0  2  0  0  0  0]\n",
            " [ 0  0  0  0  0  0  1  0  0 11 10  0  2  1  0  0  0  0  0  0]\n",
            " [ 0  0  0  0  0  0  0  0  0  1 22  0  0  0  0  1  1  0  0  0]\n",
            " [ 0  0  1  0  0  0  0  0  0  0  0 21  3  0  0  0  0  0  0  0]\n",
            " [ 0  0  0  3  0  0  1  1  1  1  1  4 12  0  0  1  0  0  0  0]\n",
            " [ 0  0  0  0  0  0  1  0  0  2  0  0 12  8  1  1  0  0  0  0]\n",
            " [ 0  0  0  0  0  0  0  0  0  0  0  0  6  0 19  0  0  0  0  0]\n",
            " [ 0  0  0  0  0  0  0  0  0  0  0  0  1  0  0 21  1  0  0  2]\n",
            " [ 0  0  0  0  1  0  0  0  0  3  0  0  6  0  2  0 12  0  0  1]\n",
            " [ 2  0  0  0  0  0  0  0  0  3  0  0  2  1  0  0  0 17  0  0]\n",
            " [ 0  0  0  0  0  0  0  0  0  4  0  0  8  0  0  1  7  0  3  2]\n",
            " [ 4  0  1  0  0  0  1  1  0  0  1  0  4  1  0  7  1  1  0  3]]\n"
          ]
        }
      ]
    },
    {
      "cell_type": "code",
      "source": [
        "print('Classification Report: \\n\\n', cr)"
      ],
      "metadata": {
        "colab": {
          "base_uri": "https://localhost:8080/"
        },
        "outputId": "259076fb-8589-4256-c9dd-7e0e9e3197c3",
        "id": "glvpLTXZceNj"
      },
      "execution_count": null,
      "outputs": [
        {
          "output_type": "stream",
          "name": "stdout",
          "text": [
            "Classification Report: \n",
            "\n",
            "               precision    recall  f1-score   support\n",
            "\n",
            "           0       0.65      0.44      0.52        25\n",
            "           1       0.67      0.40      0.50        25\n",
            "           2       0.51      0.76      0.61        25\n",
            "           3       0.44      0.44      0.44        25\n",
            "           4       0.87      0.52      0.65        25\n",
            "           5       0.83      0.40      0.54        25\n",
            "           6       0.68      0.60      0.64        25\n",
            "           7       0.81      0.68      0.74        25\n",
            "           8       0.94      0.60      0.73        25\n",
            "           9       0.37      0.44      0.40        25\n",
            "          10       0.59      0.88      0.71        25\n",
            "          11       0.78      0.84      0.81        25\n",
            "          12       0.13      0.48      0.20        25\n",
            "          13       0.73      0.32      0.44        25\n",
            "          14       0.76      0.76      0.76        25\n",
            "          15       0.50      0.84      0.63        25\n",
            "          16       0.52      0.48      0.50        25\n",
            "          17       0.94      0.68      0.79        25\n",
            "          18       1.00      0.12      0.21        25\n",
            "          19       0.33      0.12      0.18        25\n",
            "\n",
            "    accuracy                           0.54       500\n",
            "   macro avg       0.65      0.54      0.55       500\n",
            "weighted avg       0.65      0.54      0.55       500\n",
            "\n"
          ]
        }
      ]
    },
    {
      "cell_type": "markdown",
      "source": [
        "#### Decision Tree"
      ],
      "metadata": {
        "id": "in7hDLQzceNj"
      }
    },
    {
      "cell_type": "code",
      "source": [
        "cm, cr = run_DecisionTreeClassifier(X_train_red, y_train, X_test_red, y_test)"
      ],
      "metadata": {
        "id": "WrL3FhPEceNj"
      },
      "execution_count": null,
      "outputs": []
    },
    {
      "cell_type": "code",
      "source": [
        "print('Confusion Matrix: \\n\\n', cm) "
      ],
      "metadata": {
        "colab": {
          "base_uri": "https://localhost:8080/"
        },
        "outputId": "0290aa85-0154-478c-ed2f-f27a23218bd9",
        "id": "Kvx8FNePceNj"
      },
      "execution_count": null,
      "outputs": [
        {
          "output_type": "stream",
          "name": "stdout",
          "text": [
            "Confusion Matrix: \n",
            "\n",
            " [[11  0  0  0  1  0  0  0  0  0  0  0  1  0  0  5  0  0  2  5]\n",
            " [ 0 11  1  0  1  1  0  0  0  0  0  0  8  0  3  0  0  0  0  0]\n",
            " [ 0  2 16  1  0  0  0  0  0  0  0  0  6  0  0  0  0  0  0  0]\n",
            " [ 0  2  4  8  3  0  1  0  0  0  0  0  6  0  1  0  0  0  0  0]\n",
            " [ 0  2  1  3 10  0  2  0  0  0  0  0  3  0  0  0  1  0  3  0]\n",
            " [ 0  1  6  0  0  8  0  0  0  0  0  0 10  0  0  0  0  0  0  0]\n",
            " [ 0  1  0  1  0  0 17  0  0  0  2  0  4  0  0  0  0  0  0  0]\n",
            " [ 0  0  0  0  0  0  1 13  0  0  0  0  7  0  0  0  1  2  1  0]\n",
            " [ 0  0  0  1  1  0  2  1 14  1  0  0  4  0  0  0  1  0  0  0]\n",
            " [ 0  0  1  0  0  0  3  0  0 11  1  0  2  1  0  0  0  0  2  4]\n",
            " [ 0  0  0  0  0  0  4  0  1  2 16  0  0  0  0  0  1  0  0  1]\n",
            " [ 0  1  0  0  0  0  0  0  0  0  0 17  6  0  0  0  0  0  1  0]\n",
            " [ 0  1  0  3  0  1  0  1  0  1  0  0 14  1  1  1  0  0  1  0]\n",
            " [ 0  0  1  0  0  2  2  0  0  0  0  0 12  7  0  0  0  0  1  0]\n",
            " [ 0  0  0  0  0  0  0  0  0  0  0  0  7  0 18  0  0  0  0  0]\n",
            " [ 4  0  0  0  0  0  0  0  2  0  0  0  0  0  0 12  0  4  2  1]\n",
            " [ 1  0  1  0  1  0  0  0  2  2  0  0  6  2  1  0  6  0  2  1]\n",
            " [ 0  0  0  0  0  0  1  0  0  3  0  0  2  1  1  0  1 13  3  0]\n",
            " [ 0  0  0  0  0  0  0  0  0  1  0  0 10  2  0  0  5  0  6  1]\n",
            " [ 4  1  1  0  2  0  0  1  0  0  0  0  4  1  0  4  2  1  0  4]]\n"
          ]
        }
      ]
    },
    {
      "cell_type": "code",
      "source": [
        "print('Classification Report: \\n\\n', cr)"
      ],
      "metadata": {
        "colab": {
          "base_uri": "https://localhost:8080/"
        },
        "outputId": "c4f8eb2c-70c9-4ce9-a4ff-e7a203614759",
        "id": "6u9tF1k4ceNj"
      },
      "execution_count": null,
      "outputs": [
        {
          "output_type": "stream",
          "name": "stdout",
          "text": [
            "Classification Report: \n",
            "\n",
            "               precision    recall  f1-score   support\n",
            "\n",
            "           0       0.55      0.44      0.49        25\n",
            "           1       0.50      0.44      0.47        25\n",
            "           2       0.50      0.64      0.56        25\n",
            "           3       0.47      0.32      0.38        25\n",
            "           4       0.53      0.40      0.45        25\n",
            "           5       0.67      0.32      0.43        25\n",
            "           6       0.52      0.68      0.59        25\n",
            "           7       0.81      0.52      0.63        25\n",
            "           8       0.74      0.56      0.64        25\n",
            "           9       0.52      0.44      0.48        25\n",
            "          10       0.84      0.64      0.73        25\n",
            "          11       1.00      0.68      0.81        25\n",
            "          12       0.12      0.56      0.20        25\n",
            "          13       0.47      0.28      0.35        25\n",
            "          14       0.72      0.72      0.72        25\n",
            "          15       0.55      0.48      0.51        25\n",
            "          16       0.33      0.24      0.28        25\n",
            "          17       0.65      0.52      0.58        25\n",
            "          18       0.25      0.24      0.24        25\n",
            "          19       0.24      0.16      0.19        25\n",
            "\n",
            "    accuracy                           0.46       500\n",
            "   macro avg       0.55      0.46      0.49       500\n",
            "weighted avg       0.55      0.46      0.49       500\n",
            "\n"
          ]
        }
      ]
    }
  ]
}