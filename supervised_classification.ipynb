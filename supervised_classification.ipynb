{
  "nbformat": 4,
  "nbformat_minor": 0,
  "metadata": {
    "colab": {
      "provenance": []
    },
    "kernelspec": {
      "name": "python3",
      "display_name": "Python 3"
    },
    "language_info": {
      "name": "python"
    }
  },
  "cells": [
    {
      "cell_type": "code",
      "execution_count": 17,
      "metadata": {
        "id": "WsZ6iTfjKZ8W"
      },
      "outputs": [],
      "source": [
        "import numpy as np\n",
        "import pandas as pd\n",
        "from sklearn.model_selection import train_test_split \n",
        "import seaborn as sns\n",
        "import matplotlib.pyplot as plt\n",
        "from sklearn.linear_model import LogisticRegression\n",
        "from sklearn.tree import DecisionTreeClassifier\n",
        "from sklearn.metrics import confusion_matrix, classification_report\n",
        "from sklearn.datasets import fetch_openml\n",
        "from sklearn.datasets import fetch_20newsgroups\n",
        "from sklearn.feature_extraction.text import TfidfVectorizer\n",
        "from sklearn.preprocessing import StandardScaler"
      ]
    },
    {
      "cell_type": "code",
      "source": [
        "from google.colab import drive\n",
        "drive.mount('/content/drive')"
      ],
      "metadata": {
        "colab": {
          "base_uri": "https://localhost:8080/"
        },
        "id": "lmF4Wa2o1NPs",
        "outputId": "86fb2b81-6b26-4b2e-8a18-1986143ddfb3"
      },
      "execution_count": 15,
      "outputs": [
        {
          "output_type": "stream",
          "name": "stdout",
          "text": [
            "Mounted at /content/drive\n"
          ]
        }
      ]
    },
    {
      "cell_type": "markdown",
      "metadata": {
        "id": "LAL9DW2uqATq"
      },
      "source": [
        "### MNIST"
      ]
    },
    {
      "cell_type": "code",
      "source": [
        "mnist = fetch_openml('mnist_784')\n",
        "\n",
        "X = mnist.data\n",
        "y = mnist.target\n",
        "\n",
        "X_train, X_test, y_train, y_test = train_test_split(X, y, test_size=0.2, random_state=0)"
      ],
      "metadata": {
        "id": "RtaJYZHyUkcw"
      },
      "execution_count": null,
      "outputs": []
    },
    {
      "cell_type": "markdown",
      "source": [
        "#### Logistic Regression"
      ],
      "metadata": {
        "id": "apxfAGccMAjA"
      }
    },
    {
      "cell_type": "code",
      "source": [
        "lr = LogisticRegression(penalty='l2').fit(X_train, y_train)\n",
        "y_pred = lr.predict(X_test)"
      ],
      "metadata": {
        "id": "0A2Ci3g3L_T8",
        "colab": {
          "base_uri": "https://localhost:8080/"
        },
        "outputId": "38ceac8d-7c0a-4a9f-f9cb-dab457af8f63"
      },
      "execution_count": null,
      "outputs": [
        {
          "output_type": "stream",
          "name": "stderr",
          "text": [
            "/usr/local/lib/python3.8/dist-packages/sklearn/linear_model/_logistic.py:814: ConvergenceWarning: lbfgs failed to converge (status=1):\n",
            "STOP: TOTAL NO. of ITERATIONS REACHED LIMIT.\n",
            "\n",
            "Increase the number of iterations (max_iter) or scale the data as shown in:\n",
            "    https://scikit-learn.org/stable/modules/preprocessing.html\n",
            "Please also refer to the documentation for alternative solver options:\n",
            "    https://scikit-learn.org/stable/modules/linear_model.html#logistic-regression\n",
            "  n_iter_i = _check_optimize_result(\n"
          ]
        }
      ]
    },
    {
      "cell_type": "code",
      "source": [
        "cm = confusion_matrix(y_test, y_pred)\n",
        "print('Confusion Matrix: \\n\\n', cm) "
      ],
      "metadata": {
        "colab": {
          "base_uri": "https://localhost:8080/"
        },
        "id": "Jv69v8qjTnA6",
        "outputId": "0c23505e-e994-4d67-d752-25e7c0d0bcbb"
      },
      "execution_count": null,
      "outputs": [
        {
          "output_type": "stream",
          "name": "stdout",
          "text": [
            "Confusion Matrix: \n",
            "\n",
            " [[1348    0    3    2    2   11   14    1    6    0]\n",
            " [   0 1541    6    5    2    4    1    5   14    2]\n",
            " [   6   17 1294   19   20    4   16   13   50    4]\n",
            " [   5    5   50 1261    1   43    4   13   39   14]\n",
            " [   2    4    9    2 1259    2   15   11    6   40]\n",
            " [  11    5   12   46   13 1053   22    7   49   13]\n",
            " [  13    5   14    1   16   20 1310    3    5    0]\n",
            " [   3    6   21    6   15    1    1 1347    7   51]\n",
            " [   4   34   11   31    9   38   16    2 1210   13]\n",
            " [   4    4   10   16   49    7    1   39   13 1218]]\n"
          ]
        }
      ]
    },
    {
      "cell_type": "code",
      "source": [
        "cr = classification_report(y_test, y_pred)\n",
        "print('Classification Report: \\n\\n', cr)"
      ],
      "metadata": {
        "colab": {
          "base_uri": "https://localhost:8080/"
        },
        "id": "Dv71o-2tTniq",
        "outputId": "03cfc4ee-8250-4b76-e69a-1b140dae1d1a"
      },
      "execution_count": null,
      "outputs": [
        {
          "output_type": "stream",
          "name": "stdout",
          "text": [
            "Classification Report: \n",
            "\n",
            "               precision    recall  f1-score   support\n",
            "\n",
            "           0       0.97      0.97      0.97      1387\n",
            "           1       0.95      0.98      0.96      1580\n",
            "           2       0.90      0.90      0.90      1443\n",
            "           3       0.91      0.88      0.89      1435\n",
            "           4       0.91      0.93      0.92      1350\n",
            "           5       0.89      0.86      0.87      1231\n",
            "           6       0.94      0.94      0.94      1387\n",
            "           7       0.93      0.92      0.93      1458\n",
            "           8       0.86      0.88      0.87      1368\n",
            "           9       0.90      0.89      0.90      1361\n",
            "\n",
            "    accuracy                           0.92     14000\n",
            "   macro avg       0.92      0.92      0.92     14000\n",
            "weighted avg       0.92      0.92      0.92     14000\n",
            "\n"
          ]
        }
      ]
    },
    {
      "cell_type": "code",
      "source": [
        "importances = pd.DataFrame(data={\n",
        "    'Attribute': np.arange(0,784,1),\n",
        "    'Importance': lr.coef_[0]\n",
        "})\n",
        "\n",
        "importances = importances.sort_values(by='Importance', ascending=False)"
      ],
      "metadata": {
        "id": "3ZTliT4AW36f"
      },
      "execution_count": null,
      "outputs": []
    },
    {
      "cell_type": "code",
      "source": [
        "importances.head(30).reset_index().drop('index', axis=1)"
      ],
      "metadata": {
        "colab": {
          "base_uri": "https://localhost:8080/",
          "height": 989
        },
        "id": "WDXxPpzCXga9",
        "outputId": "98872fe5-d516-45df-cc1d-f4febe3a5762"
      },
      "execution_count": null,
      "outputs": [
        {
          "output_type": "execute_result",
          "data": {
            "text/plain": [
              "    Attribute  Importance\n",
              "0         629    0.004300\n",
              "1         360    0.004250\n",
              "2         240    0.003677\n",
              "3         388    0.003566\n",
              "4         416    0.003380\n",
              "5         275    0.003070\n",
              "6         276    0.002845\n",
              "7         190    0.002781\n",
              "8         247    0.002706\n",
              "9         387    0.002575\n",
              "10        513    0.002513\n",
              "11        444    0.002404\n",
              "12        404    0.002297\n",
              "13        399    0.002296\n",
              "14        329    0.002241\n",
              "15        303    0.002235\n",
              "16        443    0.002195\n",
              "17        158    0.002193\n",
              "18        401    0.002171\n",
              "19        514    0.002159\n",
              "20        565    0.002126\n",
              "21        482    0.002097\n",
              "22        415    0.002065\n",
              "23        397    0.002037\n",
              "24        453    0.002028\n",
              "25        481    0.002022\n",
              "26        371    0.001996\n",
              "27        370    0.001980\n",
              "28        573    0.001970\n",
              "29        297    0.001940"
            ],
            "text/html": [
              "\n",
              "  <div id=\"df-dbf2ccfc-eb09-4c14-8467-7ad056c0ec45\">\n",
              "    <div class=\"colab-df-container\">\n",
              "      <div>\n",
              "<style scoped>\n",
              "    .dataframe tbody tr th:only-of-type {\n",
              "        vertical-align: middle;\n",
              "    }\n",
              "\n",
              "    .dataframe tbody tr th {\n",
              "        vertical-align: top;\n",
              "    }\n",
              "\n",
              "    .dataframe thead th {\n",
              "        text-align: right;\n",
              "    }\n",
              "</style>\n",
              "<table border=\"1\" class=\"dataframe\">\n",
              "  <thead>\n",
              "    <tr style=\"text-align: right;\">\n",
              "      <th></th>\n",
              "      <th>Attribute</th>\n",
              "      <th>Importance</th>\n",
              "    </tr>\n",
              "  </thead>\n",
              "  <tbody>\n",
              "    <tr>\n",
              "      <th>0</th>\n",
              "      <td>629</td>\n",
              "      <td>0.004300</td>\n",
              "    </tr>\n",
              "    <tr>\n",
              "      <th>1</th>\n",
              "      <td>360</td>\n",
              "      <td>0.004250</td>\n",
              "    </tr>\n",
              "    <tr>\n",
              "      <th>2</th>\n",
              "      <td>240</td>\n",
              "      <td>0.003677</td>\n",
              "    </tr>\n",
              "    <tr>\n",
              "      <th>3</th>\n",
              "      <td>388</td>\n",
              "      <td>0.003566</td>\n",
              "    </tr>\n",
              "    <tr>\n",
              "      <th>4</th>\n",
              "      <td>416</td>\n",
              "      <td>0.003380</td>\n",
              "    </tr>\n",
              "    <tr>\n",
              "      <th>5</th>\n",
              "      <td>275</td>\n",
              "      <td>0.003070</td>\n",
              "    </tr>\n",
              "    <tr>\n",
              "      <th>6</th>\n",
              "      <td>276</td>\n",
              "      <td>0.002845</td>\n",
              "    </tr>\n",
              "    <tr>\n",
              "      <th>7</th>\n",
              "      <td>190</td>\n",
              "      <td>0.002781</td>\n",
              "    </tr>\n",
              "    <tr>\n",
              "      <th>8</th>\n",
              "      <td>247</td>\n",
              "      <td>0.002706</td>\n",
              "    </tr>\n",
              "    <tr>\n",
              "      <th>9</th>\n",
              "      <td>387</td>\n",
              "      <td>0.002575</td>\n",
              "    </tr>\n",
              "    <tr>\n",
              "      <th>10</th>\n",
              "      <td>513</td>\n",
              "      <td>0.002513</td>\n",
              "    </tr>\n",
              "    <tr>\n",
              "      <th>11</th>\n",
              "      <td>444</td>\n",
              "      <td>0.002404</td>\n",
              "    </tr>\n",
              "    <tr>\n",
              "      <th>12</th>\n",
              "      <td>404</td>\n",
              "      <td>0.002297</td>\n",
              "    </tr>\n",
              "    <tr>\n",
              "      <th>13</th>\n",
              "      <td>399</td>\n",
              "      <td>0.002296</td>\n",
              "    </tr>\n",
              "    <tr>\n",
              "      <th>14</th>\n",
              "      <td>329</td>\n",
              "      <td>0.002241</td>\n",
              "    </tr>\n",
              "    <tr>\n",
              "      <th>15</th>\n",
              "      <td>303</td>\n",
              "      <td>0.002235</td>\n",
              "    </tr>\n",
              "    <tr>\n",
              "      <th>16</th>\n",
              "      <td>443</td>\n",
              "      <td>0.002195</td>\n",
              "    </tr>\n",
              "    <tr>\n",
              "      <th>17</th>\n",
              "      <td>158</td>\n",
              "      <td>0.002193</td>\n",
              "    </tr>\n",
              "    <tr>\n",
              "      <th>18</th>\n",
              "      <td>401</td>\n",
              "      <td>0.002171</td>\n",
              "    </tr>\n",
              "    <tr>\n",
              "      <th>19</th>\n",
              "      <td>514</td>\n",
              "      <td>0.002159</td>\n",
              "    </tr>\n",
              "    <tr>\n",
              "      <th>20</th>\n",
              "      <td>565</td>\n",
              "      <td>0.002126</td>\n",
              "    </tr>\n",
              "    <tr>\n",
              "      <th>21</th>\n",
              "      <td>482</td>\n",
              "      <td>0.002097</td>\n",
              "    </tr>\n",
              "    <tr>\n",
              "      <th>22</th>\n",
              "      <td>415</td>\n",
              "      <td>0.002065</td>\n",
              "    </tr>\n",
              "    <tr>\n",
              "      <th>23</th>\n",
              "      <td>397</td>\n",
              "      <td>0.002037</td>\n",
              "    </tr>\n",
              "    <tr>\n",
              "      <th>24</th>\n",
              "      <td>453</td>\n",
              "      <td>0.002028</td>\n",
              "    </tr>\n",
              "    <tr>\n",
              "      <th>25</th>\n",
              "      <td>481</td>\n",
              "      <td>0.002022</td>\n",
              "    </tr>\n",
              "    <tr>\n",
              "      <th>26</th>\n",
              "      <td>371</td>\n",
              "      <td>0.001996</td>\n",
              "    </tr>\n",
              "    <tr>\n",
              "      <th>27</th>\n",
              "      <td>370</td>\n",
              "      <td>0.001980</td>\n",
              "    </tr>\n",
              "    <tr>\n",
              "      <th>28</th>\n",
              "      <td>573</td>\n",
              "      <td>0.001970</td>\n",
              "    </tr>\n",
              "    <tr>\n",
              "      <th>29</th>\n",
              "      <td>297</td>\n",
              "      <td>0.001940</td>\n",
              "    </tr>\n",
              "  </tbody>\n",
              "</table>\n",
              "</div>\n",
              "      <button class=\"colab-df-convert\" onclick=\"convertToInteractive('df-dbf2ccfc-eb09-4c14-8467-7ad056c0ec45')\"\n",
              "              title=\"Convert this dataframe to an interactive table.\"\n",
              "              style=\"display:none;\">\n",
              "        \n",
              "  <svg xmlns=\"http://www.w3.org/2000/svg\" height=\"24px\"viewBox=\"0 0 24 24\"\n",
              "       width=\"24px\">\n",
              "    <path d=\"M0 0h24v24H0V0z\" fill=\"none\"/>\n",
              "    <path d=\"M18.56 5.44l.94 2.06.94-2.06 2.06-.94-2.06-.94-.94-2.06-.94 2.06-2.06.94zm-11 1L8.5 8.5l.94-2.06 2.06-.94-2.06-.94L8.5 2.5l-.94 2.06-2.06.94zm10 10l.94 2.06.94-2.06 2.06-.94-2.06-.94-.94-2.06-.94 2.06-2.06.94z\"/><path d=\"M17.41 7.96l-1.37-1.37c-.4-.4-.92-.59-1.43-.59-.52 0-1.04.2-1.43.59L10.3 9.45l-7.72 7.72c-.78.78-.78 2.05 0 2.83L4 21.41c.39.39.9.59 1.41.59.51 0 1.02-.2 1.41-.59l7.78-7.78 2.81-2.81c.8-.78.8-2.07 0-2.86zM5.41 20L4 18.59l7.72-7.72 1.47 1.35L5.41 20z\"/>\n",
              "  </svg>\n",
              "      </button>\n",
              "      \n",
              "  <style>\n",
              "    .colab-df-container {\n",
              "      display:flex;\n",
              "      flex-wrap:wrap;\n",
              "      gap: 12px;\n",
              "    }\n",
              "\n",
              "    .colab-df-convert {\n",
              "      background-color: #E8F0FE;\n",
              "      border: none;\n",
              "      border-radius: 50%;\n",
              "      cursor: pointer;\n",
              "      display: none;\n",
              "      fill: #1967D2;\n",
              "      height: 32px;\n",
              "      padding: 0 0 0 0;\n",
              "      width: 32px;\n",
              "    }\n",
              "\n",
              "    .colab-df-convert:hover {\n",
              "      background-color: #E2EBFA;\n",
              "      box-shadow: 0px 1px 2px rgba(60, 64, 67, 0.3), 0px 1px 3px 1px rgba(60, 64, 67, 0.15);\n",
              "      fill: #174EA6;\n",
              "    }\n",
              "\n",
              "    [theme=dark] .colab-df-convert {\n",
              "      background-color: #3B4455;\n",
              "      fill: #D2E3FC;\n",
              "    }\n",
              "\n",
              "    [theme=dark] .colab-df-convert:hover {\n",
              "      background-color: #434B5C;\n",
              "      box-shadow: 0px 1px 3px 1px rgba(0, 0, 0, 0.15);\n",
              "      filter: drop-shadow(0px 1px 2px rgba(0, 0, 0, 0.3));\n",
              "      fill: #FFFFFF;\n",
              "    }\n",
              "  </style>\n",
              "\n",
              "      <script>\n",
              "        const buttonEl =\n",
              "          document.querySelector('#df-dbf2ccfc-eb09-4c14-8467-7ad056c0ec45 button.colab-df-convert');\n",
              "        buttonEl.style.display =\n",
              "          google.colab.kernel.accessAllowed ? 'block' : 'none';\n",
              "\n",
              "        async function convertToInteractive(key) {\n",
              "          const element = document.querySelector('#df-dbf2ccfc-eb09-4c14-8467-7ad056c0ec45');\n",
              "          const dataTable =\n",
              "            await google.colab.kernel.invokeFunction('convertToInteractive',\n",
              "                                                     [key], {});\n",
              "          if (!dataTable) return;\n",
              "\n",
              "          const docLinkHtml = 'Like what you see? Visit the ' +\n",
              "            '<a target=\"_blank\" href=https://colab.research.google.com/notebooks/data_table.ipynb>data table notebook</a>'\n",
              "            + ' to learn more about interactive tables.';\n",
              "          element.innerHTML = '';\n",
              "          dataTable['output_type'] = 'display_data';\n",
              "          await google.colab.output.renderOutput(dataTable, element);\n",
              "          const docLink = document.createElement('div');\n",
              "          docLink.innerHTML = docLinkHtml;\n",
              "          element.appendChild(docLink);\n",
              "        }\n",
              "      </script>\n",
              "    </div>\n",
              "  </div>\n",
              "  "
            ]
          },
          "metadata": {},
          "execution_count": 21
        }
      ]
    },
    {
      "cell_type": "markdown",
      "source": [
        "#### Decision Tree"
      ],
      "metadata": {
        "id": "XBmhL3TzUo8o"
      }
    },
    {
      "cell_type": "code",
      "source": [
        "dtc = DecisionTreeClassifier().fit(X_train, y_train)\n",
        "y_pred = dtc.predict(X_test)"
      ],
      "metadata": {
        "id": "2_1-hiH0UYPM"
      },
      "execution_count": null,
      "outputs": []
    },
    {
      "cell_type": "code",
      "source": [
        "cm = confusion_matrix(y_test, y_pred)\n",
        "print('Confusion Matrix: \\n\\n', cm) "
      ],
      "metadata": {
        "colab": {
          "base_uri": "https://localhost:8080/"
        },
        "outputId": "d3c924d6-4288-471c-edf0-026a28bc8e2f",
        "id": "XcyeFcOq4J4Z"
      },
      "execution_count": null,
      "outputs": [
        {
          "output_type": "stream",
          "name": "stdout",
          "text": [
            "Confusion Matrix: \n",
            "\n",
            " [[1279    4   14    6   15   18   29    4   10    8]\n",
            " [   0 1515   12   17    8    3    2    9   13    1]\n",
            " [  19   19 1221   36   18    7   22   31   50   20]\n",
            " [   7   15   51 1180   12   56   10   28   48   28]\n",
            " [   6    3   13   10 1182    7   19   10   27   73]\n",
            " [  22   16   22   56   12  997   25   19   41   21]\n",
            " [  26    5   18    6   22   27 1235    6   27   15]\n",
            " [  12   10   32   16   22    9    2 1307   10   38]\n",
            " [  20   26   43   46   25   34   31    9 1081   53]\n",
            " [   9    6   11   13   63   27   13   40   28 1151]]\n"
          ]
        }
      ]
    },
    {
      "cell_type": "code",
      "source": [
        "cr = classification_report(y_test, y_pred)\n",
        "print('Classification Report: \\n\\n', cr)"
      ],
      "metadata": {
        "colab": {
          "base_uri": "https://localhost:8080/"
        },
        "outputId": "20387e38-596b-45b1-dbde-3e633c8fb04d",
        "id": "tXwpc6844J4a"
      },
      "execution_count": null,
      "outputs": [
        {
          "output_type": "stream",
          "name": "stdout",
          "text": [
            "Classification Report: \n",
            "\n",
            "               precision    recall  f1-score   support\n",
            "\n",
            "           0       0.91      0.92      0.92      1387\n",
            "           1       0.94      0.96      0.95      1580\n",
            "           2       0.85      0.85      0.85      1443\n",
            "           3       0.85      0.82      0.84      1435\n",
            "           4       0.86      0.88      0.87      1350\n",
            "           5       0.84      0.81      0.83      1231\n",
            "           6       0.89      0.89      0.89      1387\n",
            "           7       0.89      0.90      0.89      1458\n",
            "           8       0.81      0.79      0.80      1368\n",
            "           9       0.82      0.85      0.83      1361\n",
            "\n",
            "    accuracy                           0.87     14000\n",
            "   macro avg       0.87      0.87      0.87     14000\n",
            "weighted avg       0.87      0.87      0.87     14000\n",
            "\n"
          ]
        }
      ]
    },
    {
      "cell_type": "markdown",
      "metadata": {
        "id": "tokT_xuLq608"
      },
      "source": [
        "### 20NG"
      ]
    },
    {
      "cell_type": "code",
      "execution_count": 2,
      "metadata": {
        "id": "HReU_ibXUWDS"
      },
      "outputs": [],
      "source": [
        "train_data = fetch_20newsgroups(subset='train')\n",
        "train_df = pd.DataFrame({\n",
        "    'Data': train_data.data,\n",
        "    'Group': train_data.target\n",
        "})\n",
        "\n",
        "test_data = fetch_20newsgroups(subset='test')\n",
        "test_df = pd.DataFrame({\n",
        "    'Data': test_data.data,\n",
        "    'Group': test_data.target\n",
        "})\n",
        "\n",
        "# Taking a sample of 100 articles for each group for train\n",
        "train_df = train_df.groupby('Group', group_keys=False).apply(pd.DataFrame.sample, n=50)\n",
        "\n",
        "# Taking a sample of 50 articles for each group for train\n",
        "test_df = test_df.groupby('Group', group_keys=False).apply(pd.DataFrame.sample, n=25)\n",
        "\n",
        "# Random shuffling dataframe\n",
        "train_df = train_df.sample(frac=1)\n",
        "test_df = test_df.sample(frac=1)\n",
        "\n",
        "# Vectorizing the articles\n",
        "vectorizer = TfidfVectorizer()\n",
        "vectors_train = vectorizer.fit_transform(train_df.Data)\n",
        "vectors_test = vectorizer.transform(test_df.Data)\n",
        "n = vectors_train.shape[1]\n",
        "\n",
        "vec_train = vectors_train.toarray()\n",
        "vec_test = vectors_test.toarray()\n",
        "\n",
        "vec_train = vec_train.tolist()\n",
        "X_train = pd.DataFrame(vec_train, columns=np.arange(0,n,1))\n",
        "y_train = train_df['Group']\n",
        "\n",
        "vec_test = vec_test.tolist()\n",
        "X_test = pd.DataFrame(vec_test, columns=np.arange(0,n,1))\n",
        "y_test = test_df['Group']"
      ]
    },
    {
      "cell_type": "markdown",
      "source": [
        "#### Logistic Regression"
      ],
      "metadata": {
        "id": "Rj4xFiFdq609"
      }
    },
    {
      "cell_type": "code",
      "source": [
        "lr = LogisticRegression(penalty='l2').fit(X_train, y_train)\n",
        "y_pred = lr.predict(X_test)"
      ],
      "metadata": {
        "id": "hJ1DFP-nq609"
      },
      "execution_count": 6,
      "outputs": []
    },
    {
      "cell_type": "code",
      "source": [
        "cm = confusion_matrix(y_test, y_pred)\n",
        "print('Confusion Matrix: \\n\\n', cm) "
      ],
      "metadata": {
        "colab": {
          "base_uri": "https://localhost:8080/"
        },
        "outputId": "13dab49f-cf76-4eba-a0da-41fe304a06a2",
        "id": "oCh6vE5Lq60-"
      },
      "execution_count": 7,
      "outputs": [
        {
          "output_type": "stream",
          "name": "stdout",
          "text": [
            "Confusion Matrix: \n",
            "\n",
            " [[18  0  0  0  0  0  0  0  0  0  0  0  0  0  0  1  0  0  1  5]\n",
            " [ 3 16  1  1  1  0  1  0  0  0  0  2  0  0  0  0  0  0  0  0]\n",
            " [ 0  1 18  2  1  0  1  0  1  1  0  0  0  0  0  0  0  0  0  0]\n",
            " [ 0  2  2 13  2  1  3  1  0  0  1  0  0  0  0  0  0  0  0  0]\n",
            " [ 0  0  0  3 16  1  3  1  0  0  0  0  0  0  0  0  1  0  0  0]\n",
            " [ 0  3  4  1  0 15  1  0  0  0  0  0  0  0  0  0  1  0  0  0]\n",
            " [ 0  0  1  1  0  0 21  1  0  0  1  0  0  0  0  0  0  0  0  0]\n",
            " [ 0  0  0  1  0  0  0 20  0  0  0  0  0  1  3  0  0  0  0  0]\n",
            " [ 0  0  0  0  0  0  1  3 19  0  0  0  0  1  0  0  1  0  0  0]\n",
            " [ 3  0  0  0  1  0  1  0  0 13  6  0  0  0  0  0  0  1  0  0]\n",
            " [ 0  0  0  0  0  0  1  0  1  1 20  0  0  0  2  0  0  0  0  0]\n",
            " [ 0  0  0  0  0  0  0  0  0  0  0 23  0  0  0  0  2  0  0  0]\n",
            " [ 0  1  0  1  2  0  1  2  0  0  0  0 14  0  3  0  1  0  0  0]\n",
            " [ 0  4  0  0  0  1  3  2  1  1  0  0  0  9  0  1  0  0  1  2]\n",
            " [ 0  1  0  0  0  1  0  0  0  0  0  0  0  0 19  2  0  0  1  1]\n",
            " [ 1  0  0  0  0  0  0  0  0  0  0  0  0  0  0 18  0  1  1  4]\n",
            " [ 0  0  0  0  0  0  0  0  0  1  0  0  0  0  0  0 22  2  0  0]\n",
            " [ 1  0  0  0  0  0  0  0  0  0  0  0  0  0  0  0  1 20  2  1]\n",
            " [ 1  1  0  0  0  0  0  0  0  1  0  1  0  0  0  1  5  0 14  1]\n",
            " [ 5  0  0  0  0  0  0  0  1  0  0  0  1  1  0  5  3  0  0  9]]\n"
          ]
        }
      ]
    },
    {
      "cell_type": "code",
      "source": [
        "cr = classification_report(y_test, y_pred)\n",
        "print('Classification Report: \\n\\n', cr)"
      ],
      "metadata": {
        "colab": {
          "base_uri": "https://localhost:8080/"
        },
        "outputId": "b1458193-4991-4ed3-ada6-049ff92c2d18",
        "id": "GtXHoD-Nq60-"
      },
      "execution_count": 8,
      "outputs": [
        {
          "output_type": "stream",
          "name": "stdout",
          "text": [
            "Classification Report: \n",
            "\n",
            "               precision    recall  f1-score   support\n",
            "\n",
            "           0       0.56      0.72      0.63        25\n",
            "           1       0.55      0.64      0.59        25\n",
            "           2       0.69      0.72      0.71        25\n",
            "           3       0.57      0.52      0.54        25\n",
            "           4       0.70      0.64      0.67        25\n",
            "           5       0.79      0.60      0.68        25\n",
            "           6       0.57      0.84      0.68        25\n",
            "           7       0.67      0.80      0.73        25\n",
            "           8       0.83      0.76      0.79        25\n",
            "           9       0.72      0.52      0.60        25\n",
            "          10       0.71      0.80      0.75        25\n",
            "          11       0.88      0.92      0.90        25\n",
            "          12       0.93      0.56      0.70        25\n",
            "          13       0.75      0.36      0.49        25\n",
            "          14       0.70      0.76      0.73        25\n",
            "          15       0.64      0.72      0.68        25\n",
            "          16       0.59      0.88      0.71        25\n",
            "          17       0.83      0.80      0.82        25\n",
            "          18       0.70      0.56      0.62        25\n",
            "          19       0.39      0.36      0.37        25\n",
            "\n",
            "    accuracy                           0.67       500\n",
            "   macro avg       0.69      0.67      0.67       500\n",
            "weighted avg       0.69      0.67      0.67       500\n",
            "\n"
          ]
        }
      ]
    },
    {
      "cell_type": "code",
      "source": [
        "importances = pd.DataFrame(data={\n",
        "    'Attribute': np.arange(0,n,1),\n",
        "    'Importance': lr.coef_[0]\n",
        "})\n",
        "\n",
        "importances = importances.sort_values(by='Importance', ascending=False)"
      ],
      "metadata": {
        "id": "rDtcuK9kq60-"
      },
      "execution_count": 10,
      "outputs": []
    },
    {
      "cell_type": "code",
      "source": [
        "importances.head(30).reset_index().drop('index', axis=1)"
      ],
      "metadata": {
        "colab": {
          "base_uri": "https://localhost:8080/",
          "height": 989
        },
        "outputId": "9ff485de-ad51-4a65-9fcf-a3c1585c99ba",
        "id": "N74DsiiTq60-"
      },
      "execution_count": 11,
      "outputs": [
        {
          "output_type": "execute_result",
          "data": {
            "text/plain": [
              "    Attribute  Importance\n",
              "0        5602    1.158345\n",
              "1       14578    1.114523\n",
              "2       13738    1.093198\n",
              "3       13181    1.052489\n",
              "4       11168    1.049761\n",
              "5       20847    0.978029\n",
              "6       22864    0.902438\n",
              "7       16891    0.873379\n",
              "8       13199    0.860602\n",
              "9        3977    0.839118\n",
              "10       3975    0.809959\n",
              "11      13497    0.774843\n",
              "12      21462    0.758648\n",
              "13      25135    0.758648\n",
              "14      24189    0.729402\n",
              "15       4886    0.701740\n",
              "16      23483    0.677088\n",
              "17       4549    0.657563\n",
              "18       7417    0.648372\n",
              "19       4053    0.629006\n",
              "20       4408    0.604878\n",
              "21      11177    0.597639\n",
              "22      18978    0.587255\n",
              "23      25401    0.584498\n",
              "24      18753    0.578095\n",
              "25      15819    0.573472\n",
              "26      14998    0.555869\n",
              "27       5861    0.547120\n",
              "28      20332    0.544676\n",
              "29      22947    0.539150"
            ],
            "text/html": [
              "\n",
              "  <div id=\"df-d584d87f-4b9c-4a22-aeae-8f956572af88\">\n",
              "    <div class=\"colab-df-container\">\n",
              "      <div>\n",
              "<style scoped>\n",
              "    .dataframe tbody tr th:only-of-type {\n",
              "        vertical-align: middle;\n",
              "    }\n",
              "\n",
              "    .dataframe tbody tr th {\n",
              "        vertical-align: top;\n",
              "    }\n",
              "\n",
              "    .dataframe thead th {\n",
              "        text-align: right;\n",
              "    }\n",
              "</style>\n",
              "<table border=\"1\" class=\"dataframe\">\n",
              "  <thead>\n",
              "    <tr style=\"text-align: right;\">\n",
              "      <th></th>\n",
              "      <th>Attribute</th>\n",
              "      <th>Importance</th>\n",
              "    </tr>\n",
              "  </thead>\n",
              "  <tbody>\n",
              "    <tr>\n",
              "      <th>0</th>\n",
              "      <td>5602</td>\n",
              "      <td>1.158345</td>\n",
              "    </tr>\n",
              "    <tr>\n",
              "      <th>1</th>\n",
              "      <td>14578</td>\n",
              "      <td>1.114523</td>\n",
              "    </tr>\n",
              "    <tr>\n",
              "      <th>2</th>\n",
              "      <td>13738</td>\n",
              "      <td>1.093198</td>\n",
              "    </tr>\n",
              "    <tr>\n",
              "      <th>3</th>\n",
              "      <td>13181</td>\n",
              "      <td>1.052489</td>\n",
              "    </tr>\n",
              "    <tr>\n",
              "      <th>4</th>\n",
              "      <td>11168</td>\n",
              "      <td>1.049761</td>\n",
              "    </tr>\n",
              "    <tr>\n",
              "      <th>5</th>\n",
              "      <td>20847</td>\n",
              "      <td>0.978029</td>\n",
              "    </tr>\n",
              "    <tr>\n",
              "      <th>6</th>\n",
              "      <td>22864</td>\n",
              "      <td>0.902438</td>\n",
              "    </tr>\n",
              "    <tr>\n",
              "      <th>7</th>\n",
              "      <td>16891</td>\n",
              "      <td>0.873379</td>\n",
              "    </tr>\n",
              "    <tr>\n",
              "      <th>8</th>\n",
              "      <td>13199</td>\n",
              "      <td>0.860602</td>\n",
              "    </tr>\n",
              "    <tr>\n",
              "      <th>9</th>\n",
              "      <td>3977</td>\n",
              "      <td>0.839118</td>\n",
              "    </tr>\n",
              "    <tr>\n",
              "      <th>10</th>\n",
              "      <td>3975</td>\n",
              "      <td>0.809959</td>\n",
              "    </tr>\n",
              "    <tr>\n",
              "      <th>11</th>\n",
              "      <td>13497</td>\n",
              "      <td>0.774843</td>\n",
              "    </tr>\n",
              "    <tr>\n",
              "      <th>12</th>\n",
              "      <td>21462</td>\n",
              "      <td>0.758648</td>\n",
              "    </tr>\n",
              "    <tr>\n",
              "      <th>13</th>\n",
              "      <td>25135</td>\n",
              "      <td>0.758648</td>\n",
              "    </tr>\n",
              "    <tr>\n",
              "      <th>14</th>\n",
              "      <td>24189</td>\n",
              "      <td>0.729402</td>\n",
              "    </tr>\n",
              "    <tr>\n",
              "      <th>15</th>\n",
              "      <td>4886</td>\n",
              "      <td>0.701740</td>\n",
              "    </tr>\n",
              "    <tr>\n",
              "      <th>16</th>\n",
              "      <td>23483</td>\n",
              "      <td>0.677088</td>\n",
              "    </tr>\n",
              "    <tr>\n",
              "      <th>17</th>\n",
              "      <td>4549</td>\n",
              "      <td>0.657563</td>\n",
              "    </tr>\n",
              "    <tr>\n",
              "      <th>18</th>\n",
              "      <td>7417</td>\n",
              "      <td>0.648372</td>\n",
              "    </tr>\n",
              "    <tr>\n",
              "      <th>19</th>\n",
              "      <td>4053</td>\n",
              "      <td>0.629006</td>\n",
              "    </tr>\n",
              "    <tr>\n",
              "      <th>20</th>\n",
              "      <td>4408</td>\n",
              "      <td>0.604878</td>\n",
              "    </tr>\n",
              "    <tr>\n",
              "      <th>21</th>\n",
              "      <td>11177</td>\n",
              "      <td>0.597639</td>\n",
              "    </tr>\n",
              "    <tr>\n",
              "      <th>22</th>\n",
              "      <td>18978</td>\n",
              "      <td>0.587255</td>\n",
              "    </tr>\n",
              "    <tr>\n",
              "      <th>23</th>\n",
              "      <td>25401</td>\n",
              "      <td>0.584498</td>\n",
              "    </tr>\n",
              "    <tr>\n",
              "      <th>24</th>\n",
              "      <td>18753</td>\n",
              "      <td>0.578095</td>\n",
              "    </tr>\n",
              "    <tr>\n",
              "      <th>25</th>\n",
              "      <td>15819</td>\n",
              "      <td>0.573472</td>\n",
              "    </tr>\n",
              "    <tr>\n",
              "      <th>26</th>\n",
              "      <td>14998</td>\n",
              "      <td>0.555869</td>\n",
              "    </tr>\n",
              "    <tr>\n",
              "      <th>27</th>\n",
              "      <td>5861</td>\n",
              "      <td>0.547120</td>\n",
              "    </tr>\n",
              "    <tr>\n",
              "      <th>28</th>\n",
              "      <td>20332</td>\n",
              "      <td>0.544676</td>\n",
              "    </tr>\n",
              "    <tr>\n",
              "      <th>29</th>\n",
              "      <td>22947</td>\n",
              "      <td>0.539150</td>\n",
              "    </tr>\n",
              "  </tbody>\n",
              "</table>\n",
              "</div>\n",
              "      <button class=\"colab-df-convert\" onclick=\"convertToInteractive('df-d584d87f-4b9c-4a22-aeae-8f956572af88')\"\n",
              "              title=\"Convert this dataframe to an interactive table.\"\n",
              "              style=\"display:none;\">\n",
              "        \n",
              "  <svg xmlns=\"http://www.w3.org/2000/svg\" height=\"24px\"viewBox=\"0 0 24 24\"\n",
              "       width=\"24px\">\n",
              "    <path d=\"M0 0h24v24H0V0z\" fill=\"none\"/>\n",
              "    <path d=\"M18.56 5.44l.94 2.06.94-2.06 2.06-.94-2.06-.94-.94-2.06-.94 2.06-2.06.94zm-11 1L8.5 8.5l.94-2.06 2.06-.94-2.06-.94L8.5 2.5l-.94 2.06-2.06.94zm10 10l.94 2.06.94-2.06 2.06-.94-2.06-.94-.94-2.06-.94 2.06-2.06.94z\"/><path d=\"M17.41 7.96l-1.37-1.37c-.4-.4-.92-.59-1.43-.59-.52 0-1.04.2-1.43.59L10.3 9.45l-7.72 7.72c-.78.78-.78 2.05 0 2.83L4 21.41c.39.39.9.59 1.41.59.51 0 1.02-.2 1.41-.59l7.78-7.78 2.81-2.81c.8-.78.8-2.07 0-2.86zM5.41 20L4 18.59l7.72-7.72 1.47 1.35L5.41 20z\"/>\n",
              "  </svg>\n",
              "      </button>\n",
              "      \n",
              "  <style>\n",
              "    .colab-df-container {\n",
              "      display:flex;\n",
              "      flex-wrap:wrap;\n",
              "      gap: 12px;\n",
              "    }\n",
              "\n",
              "    .colab-df-convert {\n",
              "      background-color: #E8F0FE;\n",
              "      border: none;\n",
              "      border-radius: 50%;\n",
              "      cursor: pointer;\n",
              "      display: none;\n",
              "      fill: #1967D2;\n",
              "      height: 32px;\n",
              "      padding: 0 0 0 0;\n",
              "      width: 32px;\n",
              "    }\n",
              "\n",
              "    .colab-df-convert:hover {\n",
              "      background-color: #E2EBFA;\n",
              "      box-shadow: 0px 1px 2px rgba(60, 64, 67, 0.3), 0px 1px 3px 1px rgba(60, 64, 67, 0.15);\n",
              "      fill: #174EA6;\n",
              "    }\n",
              "\n",
              "    [theme=dark] .colab-df-convert {\n",
              "      background-color: #3B4455;\n",
              "      fill: #D2E3FC;\n",
              "    }\n",
              "\n",
              "    [theme=dark] .colab-df-convert:hover {\n",
              "      background-color: #434B5C;\n",
              "      box-shadow: 0px 1px 3px 1px rgba(0, 0, 0, 0.15);\n",
              "      filter: drop-shadow(0px 1px 2px rgba(0, 0, 0, 0.3));\n",
              "      fill: #FFFFFF;\n",
              "    }\n",
              "  </style>\n",
              "\n",
              "      <script>\n",
              "        const buttonEl =\n",
              "          document.querySelector('#df-d584d87f-4b9c-4a22-aeae-8f956572af88 button.colab-df-convert');\n",
              "        buttonEl.style.display =\n",
              "          google.colab.kernel.accessAllowed ? 'block' : 'none';\n",
              "\n",
              "        async function convertToInteractive(key) {\n",
              "          const element = document.querySelector('#df-d584d87f-4b9c-4a22-aeae-8f956572af88');\n",
              "          const dataTable =\n",
              "            await google.colab.kernel.invokeFunction('convertToInteractive',\n",
              "                                                     [key], {});\n",
              "          if (!dataTable) return;\n",
              "\n",
              "          const docLinkHtml = 'Like what you see? Visit the ' +\n",
              "            '<a target=\"_blank\" href=https://colab.research.google.com/notebooks/data_table.ipynb>data table notebook</a>'\n",
              "            + ' to learn more about interactive tables.';\n",
              "          element.innerHTML = '';\n",
              "          dataTable['output_type'] = 'display_data';\n",
              "          await google.colab.output.renderOutput(dataTable, element);\n",
              "          const docLink = document.createElement('div');\n",
              "          docLink.innerHTML = docLinkHtml;\n",
              "          element.appendChild(docLink);\n",
              "        }\n",
              "      </script>\n",
              "    </div>\n",
              "  </div>\n",
              "  "
            ]
          },
          "metadata": {},
          "execution_count": 11
        }
      ]
    },
    {
      "cell_type": "markdown",
      "source": [
        "#### Decision Tree"
      ],
      "metadata": {
        "id": "QPJOPexfq60-"
      }
    },
    {
      "cell_type": "code",
      "source": [
        "dtc = DecisionTreeClassifier().fit(X_train, y_train)\n",
        "y_pred = dtc.predict(X_test)"
      ],
      "metadata": {
        "id": "otN1Beaeq60-"
      },
      "execution_count": 12,
      "outputs": []
    },
    {
      "cell_type": "code",
      "source": [
        "cm = confusion_matrix(y_test, y_pred)\n",
        "print('Confusion Matrix: \\n\\n', cm) "
      ],
      "metadata": {
        "colab": {
          "base_uri": "https://localhost:8080/"
        },
        "outputId": "4553983d-892b-4915-e260-f5427fe7b944",
        "id": "ctlXWBVUq60-"
      },
      "execution_count": 13,
      "outputs": [
        {
          "output_type": "stream",
          "name": "stdout",
          "text": [
            "Confusion Matrix: \n",
            "\n",
            " [[ 9  3  0  0  6  0  0  0  1  0  1  0  0  1  0  0  0  1  2  1]\n",
            " [ 0  3  2  6  1  1  0  0  2  0  1  2  2  2  0  0  1  0  1  1]\n",
            " [ 0  1 11  2  1  3  0  0  0  0  0  2  2  1  0  0  1  1  0  0]\n",
            " [ 0  1  4  9  2  1  0  0  0  0  2  1  1  0  0  1  1  0  2  0]\n",
            " [ 0  1  1  1 17  3  0  0  1  0  0  0  0  0  0  0  1  0  0  0]\n",
            " [ 0  1  9  6  1  3  0  0  0  0  1  0  3  0  1  0  0  0  0  0]\n",
            " [ 1  2  0  0  2  0 15  0  0  2  0  2  0  0  0  0  0  0  1  0]\n",
            " [ 0  0  0  3  1  0  0 16  1  0  0  1  1  0  0  0  0  0  2  0]\n",
            " [ 0  0  0  1  2  0  1  2  9  0  1  0  2  0  1  0  1  1  0  4]\n",
            " [ 2  0  0  0  1  0  2  0  0 11  5  0  0  1  0  0  0  0  2  1]\n",
            " [ 3  1  2  3  0  0  1  0  1  3  8  0  0  1  0  0  1  0  1  0]\n",
            " [ 0  1  0  1  0  1  0  0  1  0  0 10  2  0  0  2  2  0  4  1]\n",
            " [ 0  4  0  7  1  1  1  3  1  0  0  1  2  0  2  0  0  0  1  1]\n",
            " [ 1  3  1  3  2  2  0  1  0  0  0  1  5  1  1  1  0  0  1  2]\n",
            " [ 0  2  1  1  2  0  0  0  1  0  2  1  1  0  9  0  0  1  2  2]\n",
            " [ 4  0  0  0  1  1  0  0  0  2  0  0  0  0  0 11  0  1  3  2]\n",
            " [ 0  1  0  1  1  0  1  1  0  0  0  0  1  1  0  1 14  0  2  1]\n",
            " [ 2  3  0  0  0  0  0  1  0  0  1  0  1  1  0  2  1 12  1  0]\n",
            " [ 3  2  0  0  2  0  0  1  1  0  0  1  1  2  0  1  5  0  4  2]\n",
            " [ 5  2  1  0  0  0  0  0  1  0  0  1  2  2  0  2  1  1  1  6]]\n"
          ]
        }
      ]
    },
    {
      "cell_type": "code",
      "source": [
        "cr = classification_report(y_test, y_pred)\n",
        "print('Classification Report: \\n\\n', cr)"
      ],
      "metadata": {
        "colab": {
          "base_uri": "https://localhost:8080/"
        },
        "outputId": "55ba49af-826f-4586-faa7-40858311e1d2",
        "id": "PGatlAVoq60-"
      },
      "execution_count": 14,
      "outputs": [
        {
          "output_type": "stream",
          "name": "stdout",
          "text": [
            "Classification Report: \n",
            "\n",
            "               precision    recall  f1-score   support\n",
            "\n",
            "           0       0.30      0.36      0.33        25\n",
            "           1       0.10      0.12      0.11        25\n",
            "           2       0.34      0.44      0.39        25\n",
            "           3       0.20      0.36      0.26        25\n",
            "           4       0.40      0.68      0.50        25\n",
            "           5       0.19      0.12      0.15        25\n",
            "           6       0.71      0.60      0.65        25\n",
            "           7       0.64      0.64      0.64        25\n",
            "           8       0.45      0.36      0.40        25\n",
            "           9       0.61      0.44      0.51        25\n",
            "          10       0.36      0.32      0.34        25\n",
            "          11       0.43      0.40      0.42        25\n",
            "          12       0.08      0.08      0.08        25\n",
            "          13       0.08      0.04      0.05        25\n",
            "          14       0.64      0.36      0.46        25\n",
            "          15       0.52      0.44      0.48        25\n",
            "          16       0.48      0.56      0.52        25\n",
            "          17       0.67      0.48      0.56        25\n",
            "          18       0.13      0.16      0.15        25\n",
            "          19       0.25      0.24      0.24        25\n",
            "\n",
            "    accuracy                           0.36       500\n",
            "   macro avg       0.38      0.36      0.36       500\n",
            "weighted avg       0.38      0.36      0.36       500\n",
            "\n"
          ]
        }
      ]
    },
    {
      "cell_type": "markdown",
      "source": [
        "### Spambase"
      ],
      "metadata": {
        "id": "rR8Rc4sx01ax"
      }
    },
    {
      "cell_type": "code",
      "source": [
        "cols = [\n",
        "    'word_freq_make',\n",
        "    'word_freq_address',\n",
        "    'word_freq_all', \n",
        "    'word_freq_3d',  \n",
        "    'word_freq_our', \n",
        "    'word_freq_over',\n",
        "    'word_freq_remove', \n",
        "    'word_freq_internet',\n",
        "    'word_freq_order',  \n",
        "    'word_freq_mail',\n",
        "    'word_freq_receive',\n",
        "    'word_freq_will',\n",
        "    'word_freq_people', \n",
        "    'word_freq_report', \n",
        "    'word_freq_addresses',\n",
        "    'word_freq_free',\n",
        "    'word_freq_business',\n",
        "    'word_freq_email',  \n",
        "    'word_freq_you', \n",
        "    'word_freq_credit', \n",
        "    'word_freq_your',\n",
        "    'word_freq_font',\n",
        "    'word_freq_000', \n",
        "    'word_freq_money',  \n",
        "    'word_freq_hp',  \n",
        "    'word_freq_hpl', \n",
        "    'word_freq_george', \n",
        "    'word_freq_650', \n",
        "    'word_freq_lab', \n",
        "    'word_freq_labs',\n",
        "    'word_freq_telnet', \n",
        "    'word_freq_857', \n",
        "    'word_freq_data',\n",
        "    'word_freq_415', \n",
        "    'word_freq_85',  \n",
        "    'word_freq_technology',\n",
        "    'word_freq_1999',\n",
        "    'word_freq_parts',  \n",
        "    'word_freq_pm',  \n",
        "    'word_freq_direct', \n",
        "    'word_freq_cs',  \n",
        "    'word_freq_meeting',\n",
        "    'word_freq_original',\n",
        "    'word_freq_project',\n",
        "    'word_freq_re',  \n",
        "    'word_freq_edu', \n",
        "    'word_freq_table',  \n",
        "    'word_freq_conference',\n",
        "    'char_freq_;',   \n",
        "    'char_freq_(',   \n",
        "    'char_freq_[',   \n",
        "    'char_freq_!',   \n",
        "    'char_freq_$',   \n",
        "    'char_freq_#',   \n",
        "    'capital_run_length_average',\n",
        "    'capital_run_length_longest',\n",
        "    'capital_run_length_total',\n",
        "    'type'\n",
        "]\n",
        "\n",
        "spam_df = pd.read_csv('/content/drive/MyDrive/UML/HW3/spambase.csv', names=cols)\n",
        "\n",
        "# Stratified sampling\n",
        "\n",
        "# Taking 80% data for training\n",
        "spam_train = spam_df.groupby('type', group_keys=False).apply(lambda x: x.sample(frac=0.8))\n",
        "\n",
        "# Taking remaining 20% for testing\n",
        "spam_test = spam_df.drop(spam_train.index)\n",
        "\n",
        "# Random shuffling dataframe\n",
        "spam_train = spam_train.sample(frac=1)\n",
        "spam_test = spam_test.sample(frac=1)\n",
        "\n",
        "X_train = spam_train.loc[:, spam_train.columns != 'type']\n",
        "y_train = spam_train.loc[:, spam_train.columns == 'type']\n",
        "\n",
        "X_test = spam_test.loc[:, spam_test.columns != 'type']\n",
        "y_test = spam_test.loc[:, spam_test.columns == 'type']\n",
        "\n",
        "std = StandardScaler()\n",
        "X_train_std = std.fit_transform(X_train)\n",
        "X_test_std = std.transform(X_test)"
      ],
      "metadata": {
        "id": "uZmPfO2R2JjX"
      },
      "execution_count": 18,
      "outputs": []
    },
    {
      "cell_type": "markdown",
      "source": [
        "#### Logistic Regression"
      ],
      "metadata": {
        "id": "H8kW-3zg0zI-"
      }
    },
    {
      "cell_type": "code",
      "source": [
        "lr = LogisticRegression(penalty='l2').fit(X_train, y_train)\n",
        "y_pred = lr.predict(X_test)"
      ],
      "metadata": {
        "colab": {
          "base_uri": "https://localhost:8080/"
        },
        "id": "S4ScHmrK0zI_",
        "outputId": "7b12f479-04ec-4619-dd4e-4558f3a599f7"
      },
      "execution_count": 19,
      "outputs": [
        {
          "output_type": "stream",
          "name": "stderr",
          "text": [
            "/usr/local/lib/python3.8/dist-packages/sklearn/utils/validation.py:993: DataConversionWarning: A column-vector y was passed when a 1d array was expected. Please change the shape of y to (n_samples, ), for example using ravel().\n",
            "  y = column_or_1d(y, warn=True)\n",
            "/usr/local/lib/python3.8/dist-packages/sklearn/linear_model/_logistic.py:814: ConvergenceWarning: lbfgs failed to converge (status=1):\n",
            "STOP: TOTAL NO. of ITERATIONS REACHED LIMIT.\n",
            "\n",
            "Increase the number of iterations (max_iter) or scale the data as shown in:\n",
            "    https://scikit-learn.org/stable/modules/preprocessing.html\n",
            "Please also refer to the documentation for alternative solver options:\n",
            "    https://scikit-learn.org/stable/modules/linear_model.html#logistic-regression\n",
            "  n_iter_i = _check_optimize_result(\n"
          ]
        }
      ]
    },
    {
      "cell_type": "code",
      "source": [
        "cm = confusion_matrix(y_test, y_pred)\n",
        "print('Confusion Matrix: \\n\\n', cm) "
      ],
      "metadata": {
        "colab": {
          "base_uri": "https://localhost:8080/"
        },
        "outputId": "7f0fbfe8-76b2-4a49-8449-d714e477f423",
        "id": "Ti8bOUmd0zJB"
      },
      "execution_count": 20,
      "outputs": [
        {
          "output_type": "stream",
          "name": "stdout",
          "text": [
            "Confusion Matrix: \n",
            "\n",
            " [[525  33]\n",
            " [ 38 325]]\n"
          ]
        }
      ]
    },
    {
      "cell_type": "code",
      "source": [
        "cr = classification_report(y_test, y_pred)\n",
        "print('Classification Report: \\n\\n', cr)"
      ],
      "metadata": {
        "colab": {
          "base_uri": "https://localhost:8080/"
        },
        "outputId": "0eca509f-9933-4934-bb83-fcec2402cda1",
        "id": "5jvmVJMd0zJD"
      },
      "execution_count": 21,
      "outputs": [
        {
          "output_type": "stream",
          "name": "stdout",
          "text": [
            "Classification Report: \n",
            "\n",
            "               precision    recall  f1-score   support\n",
            "\n",
            "           0       0.93      0.94      0.94       558\n",
            "           1       0.91      0.90      0.90       363\n",
            "\n",
            "    accuracy                           0.92       921\n",
            "   macro avg       0.92      0.92      0.92       921\n",
            "weighted avg       0.92      0.92      0.92       921\n",
            "\n"
          ]
        }
      ]
    },
    {
      "cell_type": "code",
      "source": [
        "importances = pd.DataFrame(data={\n",
        "    'Attribute': np.arange(0,57,1),\n",
        "    'Importance': lr.coef_[0]\n",
        "})\n",
        "\n",
        "importances = importances.sort_values(by='Importance', ascending=False)"
      ],
      "metadata": {
        "id": "TJ9niL5y0zJE"
      },
      "execution_count": 24,
      "outputs": []
    },
    {
      "cell_type": "code",
      "source": [
        "importances.head(30).reset_index().drop('index', axis=1)"
      ],
      "metadata": {
        "colab": {
          "base_uri": "https://localhost:8080/",
          "height": 989
        },
        "outputId": "c5e16a2b-04d2-4c02-bee7-346947bd97fd",
        "id": "rDCiJzK20zJE"
      },
      "execution_count": 25,
      "outputs": [
        {
          "output_type": "execute_result",
          "data": {
            "text/plain": [
              "    Attribute  Importance\n",
              "0          15    1.117107\n",
              "1           6    1.028335\n",
              "2          22    0.872694\n",
              "3           4    0.860798\n",
              "4          16    0.686596\n",
              "5           7    0.642088\n",
              "6          52    0.620654\n",
              "7          23    0.589563\n",
              "8           5    0.436109\n",
              "9          19    0.425914\n",
              "10         51    0.423979\n",
              "11         17    0.333693\n",
              "12          8    0.323999\n",
              "13         54    0.262359\n",
              "14          3    0.256925\n",
              "15         14    0.200718\n",
              "16          2    0.179943\n",
              "17         53    0.179049\n",
              "18          9    0.154770\n",
              "19         12    0.113902\n",
              "20         10    0.090822\n",
              "21         20    0.085787\n",
              "22         21    0.054589\n",
              "23         55    0.003804\n",
              "24         56    0.000192\n",
              "25         13    0.000124\n",
              "26         18   -0.012922\n",
              "27         46   -0.076335\n",
              "28          0   -0.114417\n",
              "29         11   -0.119777"
            ],
            "text/html": [
              "\n",
              "  <div id=\"df-9788d970-a915-4914-b5fb-a47b9e59a135\">\n",
              "    <div class=\"colab-df-container\">\n",
              "      <div>\n",
              "<style scoped>\n",
              "    .dataframe tbody tr th:only-of-type {\n",
              "        vertical-align: middle;\n",
              "    }\n",
              "\n",
              "    .dataframe tbody tr th {\n",
              "        vertical-align: top;\n",
              "    }\n",
              "\n",
              "    .dataframe thead th {\n",
              "        text-align: right;\n",
              "    }\n",
              "</style>\n",
              "<table border=\"1\" class=\"dataframe\">\n",
              "  <thead>\n",
              "    <tr style=\"text-align: right;\">\n",
              "      <th></th>\n",
              "      <th>Attribute</th>\n",
              "      <th>Importance</th>\n",
              "    </tr>\n",
              "  </thead>\n",
              "  <tbody>\n",
              "    <tr>\n",
              "      <th>0</th>\n",
              "      <td>15</td>\n",
              "      <td>1.117107</td>\n",
              "    </tr>\n",
              "    <tr>\n",
              "      <th>1</th>\n",
              "      <td>6</td>\n",
              "      <td>1.028335</td>\n",
              "    </tr>\n",
              "    <tr>\n",
              "      <th>2</th>\n",
              "      <td>22</td>\n",
              "      <td>0.872694</td>\n",
              "    </tr>\n",
              "    <tr>\n",
              "      <th>3</th>\n",
              "      <td>4</td>\n",
              "      <td>0.860798</td>\n",
              "    </tr>\n",
              "    <tr>\n",
              "      <th>4</th>\n",
              "      <td>16</td>\n",
              "      <td>0.686596</td>\n",
              "    </tr>\n",
              "    <tr>\n",
              "      <th>5</th>\n",
              "      <td>7</td>\n",
              "      <td>0.642088</td>\n",
              "    </tr>\n",
              "    <tr>\n",
              "      <th>6</th>\n",
              "      <td>52</td>\n",
              "      <td>0.620654</td>\n",
              "    </tr>\n",
              "    <tr>\n",
              "      <th>7</th>\n",
              "      <td>23</td>\n",
              "      <td>0.589563</td>\n",
              "    </tr>\n",
              "    <tr>\n",
              "      <th>8</th>\n",
              "      <td>5</td>\n",
              "      <td>0.436109</td>\n",
              "    </tr>\n",
              "    <tr>\n",
              "      <th>9</th>\n",
              "      <td>19</td>\n",
              "      <td>0.425914</td>\n",
              "    </tr>\n",
              "    <tr>\n",
              "      <th>10</th>\n",
              "      <td>51</td>\n",
              "      <td>0.423979</td>\n",
              "    </tr>\n",
              "    <tr>\n",
              "      <th>11</th>\n",
              "      <td>17</td>\n",
              "      <td>0.333693</td>\n",
              "    </tr>\n",
              "    <tr>\n",
              "      <th>12</th>\n",
              "      <td>8</td>\n",
              "      <td>0.323999</td>\n",
              "    </tr>\n",
              "    <tr>\n",
              "      <th>13</th>\n",
              "      <td>54</td>\n",
              "      <td>0.262359</td>\n",
              "    </tr>\n",
              "    <tr>\n",
              "      <th>14</th>\n",
              "      <td>3</td>\n",
              "      <td>0.256925</td>\n",
              "    </tr>\n",
              "    <tr>\n",
              "      <th>15</th>\n",
              "      <td>14</td>\n",
              "      <td>0.200718</td>\n",
              "    </tr>\n",
              "    <tr>\n",
              "      <th>16</th>\n",
              "      <td>2</td>\n",
              "      <td>0.179943</td>\n",
              "    </tr>\n",
              "    <tr>\n",
              "      <th>17</th>\n",
              "      <td>53</td>\n",
              "      <td>0.179049</td>\n",
              "    </tr>\n",
              "    <tr>\n",
              "      <th>18</th>\n",
              "      <td>9</td>\n",
              "      <td>0.154770</td>\n",
              "    </tr>\n",
              "    <tr>\n",
              "      <th>19</th>\n",
              "      <td>12</td>\n",
              "      <td>0.113902</td>\n",
              "    </tr>\n",
              "    <tr>\n",
              "      <th>20</th>\n",
              "      <td>10</td>\n",
              "      <td>0.090822</td>\n",
              "    </tr>\n",
              "    <tr>\n",
              "      <th>21</th>\n",
              "      <td>20</td>\n",
              "      <td>0.085787</td>\n",
              "    </tr>\n",
              "    <tr>\n",
              "      <th>22</th>\n",
              "      <td>21</td>\n",
              "      <td>0.054589</td>\n",
              "    </tr>\n",
              "    <tr>\n",
              "      <th>23</th>\n",
              "      <td>55</td>\n",
              "      <td>0.003804</td>\n",
              "    </tr>\n",
              "    <tr>\n",
              "      <th>24</th>\n",
              "      <td>56</td>\n",
              "      <td>0.000192</td>\n",
              "    </tr>\n",
              "    <tr>\n",
              "      <th>25</th>\n",
              "      <td>13</td>\n",
              "      <td>0.000124</td>\n",
              "    </tr>\n",
              "    <tr>\n",
              "      <th>26</th>\n",
              "      <td>18</td>\n",
              "      <td>-0.012922</td>\n",
              "    </tr>\n",
              "    <tr>\n",
              "      <th>27</th>\n",
              "      <td>46</td>\n",
              "      <td>-0.076335</td>\n",
              "    </tr>\n",
              "    <tr>\n",
              "      <th>28</th>\n",
              "      <td>0</td>\n",
              "      <td>-0.114417</td>\n",
              "    </tr>\n",
              "    <tr>\n",
              "      <th>29</th>\n",
              "      <td>11</td>\n",
              "      <td>-0.119777</td>\n",
              "    </tr>\n",
              "  </tbody>\n",
              "</table>\n",
              "</div>\n",
              "      <button class=\"colab-df-convert\" onclick=\"convertToInteractive('df-9788d970-a915-4914-b5fb-a47b9e59a135')\"\n",
              "              title=\"Convert this dataframe to an interactive table.\"\n",
              "              style=\"display:none;\">\n",
              "        \n",
              "  <svg xmlns=\"http://www.w3.org/2000/svg\" height=\"24px\"viewBox=\"0 0 24 24\"\n",
              "       width=\"24px\">\n",
              "    <path d=\"M0 0h24v24H0V0z\" fill=\"none\"/>\n",
              "    <path d=\"M18.56 5.44l.94 2.06.94-2.06 2.06-.94-2.06-.94-.94-2.06-.94 2.06-2.06.94zm-11 1L8.5 8.5l.94-2.06 2.06-.94-2.06-.94L8.5 2.5l-.94 2.06-2.06.94zm10 10l.94 2.06.94-2.06 2.06-.94-2.06-.94-.94-2.06-.94 2.06-2.06.94z\"/><path d=\"M17.41 7.96l-1.37-1.37c-.4-.4-.92-.59-1.43-.59-.52 0-1.04.2-1.43.59L10.3 9.45l-7.72 7.72c-.78.78-.78 2.05 0 2.83L4 21.41c.39.39.9.59 1.41.59.51 0 1.02-.2 1.41-.59l7.78-7.78 2.81-2.81c.8-.78.8-2.07 0-2.86zM5.41 20L4 18.59l7.72-7.72 1.47 1.35L5.41 20z\"/>\n",
              "  </svg>\n",
              "      </button>\n",
              "      \n",
              "  <style>\n",
              "    .colab-df-container {\n",
              "      display:flex;\n",
              "      flex-wrap:wrap;\n",
              "      gap: 12px;\n",
              "    }\n",
              "\n",
              "    .colab-df-convert {\n",
              "      background-color: #E8F0FE;\n",
              "      border: none;\n",
              "      border-radius: 50%;\n",
              "      cursor: pointer;\n",
              "      display: none;\n",
              "      fill: #1967D2;\n",
              "      height: 32px;\n",
              "      padding: 0 0 0 0;\n",
              "      width: 32px;\n",
              "    }\n",
              "\n",
              "    .colab-df-convert:hover {\n",
              "      background-color: #E2EBFA;\n",
              "      box-shadow: 0px 1px 2px rgba(60, 64, 67, 0.3), 0px 1px 3px 1px rgba(60, 64, 67, 0.15);\n",
              "      fill: #174EA6;\n",
              "    }\n",
              "\n",
              "    [theme=dark] .colab-df-convert {\n",
              "      background-color: #3B4455;\n",
              "      fill: #D2E3FC;\n",
              "    }\n",
              "\n",
              "    [theme=dark] .colab-df-convert:hover {\n",
              "      background-color: #434B5C;\n",
              "      box-shadow: 0px 1px 3px 1px rgba(0, 0, 0, 0.15);\n",
              "      filter: drop-shadow(0px 1px 2px rgba(0, 0, 0, 0.3));\n",
              "      fill: #FFFFFF;\n",
              "    }\n",
              "  </style>\n",
              "\n",
              "      <script>\n",
              "        const buttonEl =\n",
              "          document.querySelector('#df-9788d970-a915-4914-b5fb-a47b9e59a135 button.colab-df-convert');\n",
              "        buttonEl.style.display =\n",
              "          google.colab.kernel.accessAllowed ? 'block' : 'none';\n",
              "\n",
              "        async function convertToInteractive(key) {\n",
              "          const element = document.querySelector('#df-9788d970-a915-4914-b5fb-a47b9e59a135');\n",
              "          const dataTable =\n",
              "            await google.colab.kernel.invokeFunction('convertToInteractive',\n",
              "                                                     [key], {});\n",
              "          if (!dataTable) return;\n",
              "\n",
              "          const docLinkHtml = 'Like what you see? Visit the ' +\n",
              "            '<a target=\"_blank\" href=https://colab.research.google.com/notebooks/data_table.ipynb>data table notebook</a>'\n",
              "            + ' to learn more about interactive tables.';\n",
              "          element.innerHTML = '';\n",
              "          dataTable['output_type'] = 'display_data';\n",
              "          await google.colab.output.renderOutput(dataTable, element);\n",
              "          const docLink = document.createElement('div');\n",
              "          docLink.innerHTML = docLinkHtml;\n",
              "          element.appendChild(docLink);\n",
              "        }\n",
              "      </script>\n",
              "    </div>\n",
              "  </div>\n",
              "  "
            ]
          },
          "metadata": {},
          "execution_count": 25
        }
      ]
    },
    {
      "cell_type": "markdown",
      "source": [
        "#### Decision Tree"
      ],
      "metadata": {
        "id": "fbICVndV0zJF"
      }
    },
    {
      "cell_type": "code",
      "source": [
        "dtc = DecisionTreeClassifier().fit(X_train, y_train)\n",
        "y_pred = dtc.predict(X_test)"
      ],
      "metadata": {
        "id": "U7vSJqlX0zJG"
      },
      "execution_count": 26,
      "outputs": []
    },
    {
      "cell_type": "code",
      "source": [
        "cm = confusion_matrix(y_test, y_pred)\n",
        "print('Confusion Matrix: \\n\\n', cm) "
      ],
      "metadata": {
        "colab": {
          "base_uri": "https://localhost:8080/"
        },
        "outputId": "1dba8fee-42b2-490f-8da8-872735bc1196",
        "id": "kXOPoPIe0zJG"
      },
      "execution_count": 27,
      "outputs": [
        {
          "output_type": "stream",
          "name": "stdout",
          "text": [
            "Confusion Matrix: \n",
            "\n",
            " [[521  37]\n",
            " [ 48 315]]\n"
          ]
        }
      ]
    },
    {
      "cell_type": "code",
      "source": [
        "cr = classification_report(y_test, y_pred)\n",
        "print('Classification Report: \\n\\n', cr)"
      ],
      "metadata": {
        "colab": {
          "base_uri": "https://localhost:8080/"
        },
        "outputId": "4113d861-19f5-4fd7-d069-1bf0255bc9da",
        "id": "zaYhcgjO0zJH"
      },
      "execution_count": 28,
      "outputs": [
        {
          "output_type": "stream",
          "name": "stdout",
          "text": [
            "Classification Report: \n",
            "\n",
            "               precision    recall  f1-score   support\n",
            "\n",
            "           0       0.92      0.93      0.92       558\n",
            "           1       0.89      0.87      0.88       363\n",
            "\n",
            "    accuracy                           0.91       921\n",
            "   macro avg       0.91      0.90      0.90       921\n",
            "weighted avg       0.91      0.91      0.91       921\n",
            "\n"
          ]
        }
      ]
    }
  ]
}