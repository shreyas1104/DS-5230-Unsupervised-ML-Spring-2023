{
  "nbformat": 4,
  "nbformat_minor": 0,
  "metadata": {
    "colab": {
      "provenance": []
    },
    "kernelspec": {
      "name": "python3",
      "display_name": "Python 3"
    },
    "language_info": {
      "name": "python"
    }
  },
  "cells": [
    {
      "cell_type": "code",
      "execution_count": 1,
      "metadata": {
        "id": "TT1fxrHcs9F5"
      },
      "outputs": [],
      "source": [
        "import numpy as np\n",
        "import pandas as pd\n",
        "from numpy.linalg import norm\n",
        "import seaborn as sns\n",
        "import matplotlib.pyplot as plt"
      ]
    },
    {
      "cell_type": "code",
      "source": [
        "from google.colab import drive\n",
        "drive.mount('/content/drive')"
      ],
      "metadata": {
        "colab": {
          "base_uri": "https://localhost:8080/"
        },
        "id": "d8xxbopKICGe",
        "outputId": "7b33dd92-bf2c-4049-dab8-bfb1832ea6d1"
      },
      "execution_count": 2,
      "outputs": [
        {
          "output_type": "stream",
          "name": "stdout",
          "text": [
            "Mounted at /content/drive\n"
          ]
        }
      ]
    },
    {
      "cell_type": "code",
      "source": [
        "df = pd.read_csv('/content/drive/MyDrive/UML/HW3/dbscan.csv')\n",
        "\n",
        "eps = 7.5\n",
        "min_samples = 3\n",
        "visited_samples = [False for i in range(len(df))]\n",
        "cluster_labels = [-1 for i in range(len(df))]\n",
        "\n",
        "core = []\n",
        "non_core = []\n",
        "\n",
        "\n",
        "# Neighborhood Creation\n",
        "# Assigning points as core and non-core\n",
        "\n",
        "neighbors = {}\n",
        "\n",
        "for i in range(len(df)):\n",
        "\n",
        "    n = df.iloc[i,5]\n",
        "    l = [(lambda x: int(x))(x) for x in n.split(',')]\n",
        "    neighbors[i] = l\n",
        "\n",
        "for i in range(len(df)):\n",
        "    if len(neighbors[i]) >= min_samples:\n",
        "        core.append(i)\n",
        "    else:\n",
        "        non_core.append(i)\n",
        "        \n",
        "\n",
        "# Iterate through samples and expand clusters from them if they have more neighbors than min_samples\n",
        "\n",
        "cn = 'A'\n",
        "\n",
        "for i in core:\n",
        "\n",
        "    if visited_samples[i]:\n",
        "        continue\n",
        "\n",
        "    stack = [i]\n",
        "    cluster_labels[i] = cn\n",
        "\n",
        "    while stack:\n",
        "\n",
        "        n = stack.pop()\n",
        "\n",
        "        if visited_samples[n]:\n",
        "            continue\n",
        "\n",
        "        visited_samples[n] = True\n",
        "\n",
        "        # stack.extend(neighbors[n])\n",
        "\n",
        "        if n in core:\n",
        "            for nn in neighbors[n]:\n",
        "                cluster_labels[nn] = cn\n",
        "            stack.extend(neighbors[n])\n",
        "\n",
        "        else:\n",
        "            cluster_labels[n] = cn\n",
        "\n",
        "    cn = chr(ord(cn) + 1)\n",
        "\n",
        "\n",
        "# Get the resulting cluster labels\n",
        "\n",
        "df['cluster'] = cluster_labels\n",
        "\n",
        "\n",
        "# Plot clusters\n",
        "\n",
        "plt.figure(figsize=(10,6))\n",
        "sns.scatterplot(data=df, x='x', y='y', hue='cluster')\n",
        "plt.legend(bbox_to_anchor=(1.15, 1.0), loc='upper right', title='Cluster')"
      ],
      "metadata": {
        "colab": {
          "base_uri": "https://localhost:8080/",
          "height": 405
        },
        "id": "L_mfmTWux4ho",
        "outputId": "1c8b6096-afc3-475c-eecf-7856bd8ab33d"
      },
      "execution_count": 3,
      "outputs": [
        {
          "output_type": "execute_result",
          "data": {
            "text/plain": [
              "<matplotlib.legend.Legend at 0x7fbd639e0160>"
            ]
          },
          "metadata": {},
          "execution_count": 3
        },
        {
          "output_type": "display_data",
          "data": {
            "text/plain": [
              "<Figure size 720x432 with 1 Axes>"
            ],
            "image/png": "[encoded data removed]"
          },
          "metadata": {
            "needs_background": "light"
          }
        }
      ]
    }
  ]
}