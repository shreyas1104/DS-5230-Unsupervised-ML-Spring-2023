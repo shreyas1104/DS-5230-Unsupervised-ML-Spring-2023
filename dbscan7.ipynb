{
  "nbformat": 4,
  "nbformat_minor": 0,
  "metadata": {
    "colab": {
      "provenance": []
    },
    "kernelspec": {
      "name": "python3",
      "display_name": "Python 3"
    },
    "language_info": {
      "name": "python"
    }
  },
  "cells": [
    {
      "cell_type": "code",
      "source": [
        "import numpy as np\n",
        "import pandas as pd\n",
        "from keras.datasets import fashion_mnist\n",
        "from sklearn.datasets import fetch_20newsgroups\n",
        "import seaborn as sns\n",
        "import matplotlib.pyplot as plt\n",
        "from sklearn.metrics.pairwise import euclidean_distances\n",
        "from scipy.spatial.distance import squareform, pdist\n",
        "from sklearn.feature_extraction.text import TfidfVectorizer\n",
        "from math import sqrt\n",
        "from sklearn import metrics\n",
        "from sklearn.metrics import silhouette_score"
      ],
      "metadata": {
        "id": "4nNAuhGsmpSh"
      },
      "execution_count": 17,
      "outputs": []
    },
    {
      "cell_type": "code",
      "source": [
        "from google.colab import drive\n",
        "drive.mount('/content/drive')"
      ],
      "metadata": {
        "colab": {
          "base_uri": "https://localhost:8080/"
        },
        "id": "wDadoe2rmuSm",
        "outputId": "73f1f1a9-5b0b-41a4-f87a-245b9a09b386"
      },
      "execution_count": 3,
      "outputs": [
        {
          "output_type": "stream",
          "name": "stdout",
          "text": [
            "Drive already mounted at /content/drive; to attempt to forcibly remount, call drive.mount(\"/content/drive\", force_remount=True).\n"
          ]
        }
      ]
    },
    {
      "cell_type": "markdown",
      "source": [
        "### Functions for DBSCAN"
      ],
      "metadata": {
        "id": "aJtnk80Mq_9h"
      }
    },
    {
      "cell_type": "code",
      "source": [
        "def get_neighbors(i, df, euc_dist, eps):\n",
        "\n",
        "    neighbors = []\n",
        "\n",
        "    for j in range(len(df)):\n",
        "        if i != j:\n",
        "            d = euc_dist[i][j]\n",
        "            if d > 0 and d <= eps:\n",
        "                neighbors.append(j)\n",
        "\n",
        "    return neighbors\n",
        "  "
      ],
      "metadata": {
        "id": "JVuw4jEdDTO_"
      },
      "execution_count": 12,
      "outputs": []
    },
    {
      "cell_type": "code",
      "source": [
        "def get_cluster_num(df, clusters):\n",
        "\n",
        "    num = np.full(len(df), fill_value=-1)\n",
        "\n",
        "    for i, cluster in enumerate(clusters):\n",
        "        for c in cluster:\n",
        "            num[c] = i+1\n",
        "  \n",
        "    return num"
      ],
      "metadata": {
        "id": "R6Qqn8o0L_QK"
      },
      "execution_count": 13,
      "outputs": []
    },
    {
      "cell_type": "code",
      "source": [
        "def get_purity(actual, cluster_lb, n):\n",
        "\n",
        "    purity_df = pd.DataFrame({'actual':actual, 'cluster_lb':cluster_lb})\n",
        "    purity_df = purity_df.groupby(['actual','cluster_lb'],as_index=False)['cluster_lb'].count().rename(columns={'cluster_lb':'count_cluster_lb'})\n",
        "    purity_df = purity_df.sort_values(['actual','count_cluster_lb'],ascending=[True,False]).drop_duplicates(['actual'],keep='first')\n",
        "\n",
        "    return round(purity_df['count_cluster_lb'].sum()/n, 2)"
      ],
      "metadata": {
        "id": "ZLXeUz4Tbe9M"
      },
      "execution_count": 14,
      "outputs": []
    },
    {
      "cell_type": "code",
      "source": [
        "def get_gini(actual, cluster_lb, n):\n",
        "\n",
        "    cluster_lb = np.array(cluster_lb).astype(int)\n",
        "    actual = np.array(actual).astype(int)\n",
        "\n",
        "    gini = 0\n",
        "\n",
        "    for label in np.unique(actual):\n",
        "\n",
        "        index = np.where(actual == label)[0]\n",
        "\n",
        "        if len(index) > 0:\n",
        "            p = (np.bincount(np.abs(cluster_lb[index]).astype(int))) / len(index)\n",
        "            gini += len(index) / len(actual) * (1 - np.sum(p ** 2))\n",
        "            \n",
        "    return round(gini,2)"
      ],
      "metadata": {
        "id": "TFzr6E7geE2Y"
      },
      "execution_count": 15,
      "outputs": []
    },
    {
      "cell_type": "markdown",
      "source": [
        "### Fashion MNIST"
      ],
      "metadata": {
        "id": "PnatgIEWmZYD"
      }
    },
    {
      "cell_type": "code",
      "execution_count": 19,
      "metadata": {
        "id": "G_Qe6AXYBJi_",
        "colab": {
          "base_uri": "https://localhost:8080/"
        },
        "outputId": "3e560d11-5b15-41ca-82c5-696cdc76fbbb"
      },
      "outputs": [
        {
          "output_type": "stream",
          "name": "stdout",
          "text": [
            "Downloading data from https://storage.googleapis.com/tensorflow/tf-keras-datasets/train-labels-idx1-ubyte.gz\n",
            "29515/29515 [==============================] - 0s 0us/step\n",
            "Downloading data from https://storage.googleapis.com/tensorflow/tf-keras-datasets/train-images-idx3-ubyte.gz\n",
            "26421880/26421880 [==============================] - 0s 0us/step\n",
            "Downloading data from https://storage.googleapis.com/tensorflow/tf-keras-datasets/t10k-labels-idx1-ubyte.gz\n",
            "5148/5148 [==============================] - 0s 0us/step\n",
            "Downloading data from https://storage.googleapis.com/tensorflow/tf-keras-datasets/t10k-images-idx3-ubyte.gz\n",
            "4422102/4422102 [==============================] - 0s 0us/step\n"
          ]
        }
      ],
      "source": [
        "data = fashion_mnist.load_data()\n",
        "(x_train, y_train), (x_test, y_test) = data\n",
        "x_train = x_train.reshape((x_train.shape[0], 28*28)).astype('float32')\n",
        "\n",
        "# Normalization: Scaling pixel values between 0 and 1\n",
        "\n",
        "x_train = x_train / 255\n",
        "x_test = x_test / 255\n",
        "\n",
        "\n",
        "# Converting image pixels and label into train and test dataframe\n",
        "\n",
        "xtrain = list()\n",
        "ytrain = list()\n",
        "\n",
        "for i in range(len(x_train)):\n",
        "  xtrain.append(x_train[i])\n",
        "  ytrain.append(y_train[i])\n",
        "\n",
        "xtrain_df = pd.DataFrame({\n",
        "    'Data': xtrain,\n",
        "    'Label': ytrain\n",
        "})\n",
        "\n",
        "\n",
        "# Taking a sample of 500 images for each digit from train\n",
        "\n",
        "fashion_df = xtrain_df.groupby('Label', group_keys=False).apply(pd.DataFrame.sample, n=100)\n",
        "\n",
        "\n",
        "# Random shuffling dataframe\n",
        "\n",
        "fashion_df = fashion_df.sample(frac=1)"
      ]
    },
    {
      "cell_type": "code",
      "source": [
        "# Pre-compute euclidean distances\n",
        "\n",
        "fashion_ed = [[0 for x in range(1000)] for y in range(1000)] \n",
        "\n",
        "for i in range(1000):\n",
        "  for j in range(i//2):\n",
        "    fashion_ed[i][j] = sqrt( np.dot(fashion_df.iloc[i,0], fashion_df.iloc[i,0]) - 2 * np.dot(fashion_df.iloc[i,0], fashion_df.iloc[j,0]) + np.dot(fashion_df.iloc[j,0], fashion_df.iloc[j,0]) )\n",
        "    fashion_ed[j][i] = fashion_ed[i][j]\n"
      ],
      "metadata": {
        "id": "qNvjpzZYoA6B"
      },
      "execution_count": 20,
      "outputs": []
    },
    {
      "cell_type": "code",
      "source": [
        "dbscan = []\n",
        "min_eps = round(np.mean(fashion_ed),2) - 1\n",
        "max_eps = round(np.mean(fashion_ed),2) + 0.1\n",
        "\n",
        "for e in np.arange(min_eps, max_eps, 0.1, dtype=float):\n",
        "\n",
        "    eps = e\n",
        "\n",
        "    for ms in np.arange(3,11,1):\n",
        "        \n",
        "        min_samples = ms\n",
        "        visited_samples = [False for i in range(len(fashion_df))]\n",
        "        cluster_lb = [-1 for i in range(len(fashion_df))]\n",
        "        neighbors = {}\n",
        "\n",
        "        core = []\n",
        "        non_core = []\n",
        "\n",
        "\n",
        "        # Neighborhood Creation\n",
        "        # Assigning points as core and non-core\n",
        "\n",
        "        for i in range(len(fashion_df)):\n",
        "            neighbors[i] = get_neighbors(i, fashion_df, fashion_ed, eps)\n",
        "            if len(neighbors[i]) >= min_samples:\n",
        "                core.append(i)\n",
        "            else:\n",
        "                non_core.append(i)\n",
        "\n",
        "\n",
        "        # Iterate through samples and expand clusters from them if they have more neighbors than min_samples\n",
        "\n",
        "        cn = 1\n",
        "\n",
        "        for i in core:\n",
        "\n",
        "            if visited_samples[i]:\n",
        "                continue\n",
        "\n",
        "            stack = [i]\n",
        "            cluster_lb[i] = cn\n",
        "\n",
        "            while stack:\n",
        "\n",
        "                n = stack.pop()\n",
        "\n",
        "                if visited_samples[n]:\n",
        "                    continue\n",
        "\n",
        "                visited_samples[n] = True\n",
        "\n",
        "                if n in core:\n",
        "                    for nn in neighbors[n]:\n",
        "                        if cluster_lb[nn] == -1:\n",
        "                            cluster_lb[nn] = cn\n",
        "                    stack.extend(neighbors[n])\n",
        "                else:\n",
        "                    cluster_lb[n] = cn\n",
        "\n",
        "            cn += 1\n",
        "\n",
        "        res = {}\n",
        "        res['eps'] = e\n",
        "        res['min_samples'] = ms\n",
        "        res['num_clusters'] = len(set(cluster_lb))\n",
        "        res['cluster_lb'] = cluster_lb\n",
        "        res['purity'] = get_purity(fashion_df['Label'], cluster_lb, 1000)\n",
        "        res['gini'] = get_gini(fashion_df['Label'], cluster_lb, 1000)\n",
        "\n",
        "        dbscan.append(res)\n"
      ],
      "metadata": {
        "id": "CiUxxR6auJYU"
      },
      "execution_count": 21,
      "outputs": []
    },
    {
      "cell_type": "code",
      "source": [
        "max_purity = 0\n",
        "cst = 0\n",
        "\n",
        "for i in range(len(dbscan)):\n",
        "    if (dbscan[i]['purity'] > max_purity) and (dbscan[i]['num_clusters'] >= 8 and dbscan[i]['num_clusters'] <= 12):\n",
        "        max_purity = dbscan[i]['purity']\n",
        "        cst = i"
      ],
      "metadata": {
        "id": "BiK2WIipB7bS"
      },
      "execution_count": 22,
      "outputs": []
    },
    {
      "cell_type": "code",
      "source": [
        "print('Best Purity:', dbscan[cst]['purity'])\n",
        "print('Best Gini:', dbscan[cst]['gini'])\n",
        "print('No. of Clusters:', dbscan[cst]['num_clusters'])\n",
        "print('Epsilon:', round(dbscan[cst]['eps'],2))\n",
        "print('Min. no. of neighbors:', dbscan[cst]['min_samples'])"
      ],
      "metadata": {
        "id": "bqnig969B7Xn",
        "colab": {
          "base_uri": "https://localhost:8080/"
        },
        "outputId": "6032a5d1-dab6-445a-b5f4-7b06bd98b9dc"
      },
      "execution_count": 23,
      "outputs": [
        {
          "output_type": "stream",
          "name": "stdout",
          "text": [
            "Max. Purity: 0.82\n",
            "Max. Gini: 0.23\n",
            "No. of Clusters: 8\n",
            "Epsilon: 4.7\n",
            "Min. no. of neighbors: 8\n"
          ]
        }
      ]
    },
    {
      "cell_type": "markdown",
      "source": [
        "### 20NG"
      ],
      "metadata": {
        "id": "I8qAzTV1PiN7"
      }
    },
    {
      "cell_type": "code",
      "source": [
        "train_data = fetch_20newsgroups(subset='train')\n",
        "xtrain_df = pd.DataFrame({\n",
        "    'Data': train_data.data,\n",
        "    'Label': train_data.target\n",
        "})\n",
        "\n",
        "# Taking a sample of 100 articles for each group for train\n",
        "\n",
        "news_df = xtrain_df.groupby('Label', group_keys=False).apply(pd.DataFrame.sample, n=100)\n",
        "\n",
        "\n",
        "# Random shuffling dataframe\n",
        "\n",
        "news_df = news_df.sample(frac=1)\n",
        "\n",
        "categories = train_data.target_names\n",
        "\n",
        "\n",
        "# Vectorizing the articles\n",
        "\n",
        "vectorizer = TfidfVectorizer()\n",
        "\n",
        "vectors = vectorizer.fit_transform(news_df.Data)\n",
        "vectors.shape"
      ],
      "metadata": {
        "id": "OVqoDWs5B7S1",
        "colab": {
          "base_uri": "https://localhost:8080/"
        },
        "outputId": "e609e75f-aac9-4260-b5d6-87c37b877bd3"
      },
      "execution_count": 25,
      "outputs": [
        {
          "output_type": "execute_result",
          "data": {
            "text/plain": [
              "(2000, 47022)"
            ]
          },
          "metadata": {},
          "execution_count": 25
        }
      ]
    },
    {
      "cell_type": "code",
      "source": [
        "# Pre-compute euclidean distances\n",
        "\n",
        "news_eucd = metrics.pairwise.euclidean_distances(vectors)"
      ],
      "metadata": {
        "id": "p0RT6yT4eqqU"
      },
      "execution_count": 26,
      "outputs": []
    },
    {
      "cell_type": "code",
      "source": [
        "dbscan = []\n",
        "min_eps = round(np.mean(news_eucd),2) - 1\n",
        "max_eps = round(np.mean(news_eucd),2) + 0.1\n",
        "\n",
        "for e in np.arange(min_eps, max_eps, 0.1, dtype=float):\n",
        "\n",
        "    eps = e\n",
        "\n",
        "    for ms in np.arange(2,11,1):\n",
        "        \n",
        "        min_samples = ms\n",
        "        visited_samples = [False for i in range(len(news_df))]\n",
        "        cluster_lb = [-1 for i in range(len(news_df))]\n",
        "        neighbors = {}\n",
        "\n",
        "        core = []\n",
        "        non_core = []\n",
        "\n",
        "\n",
        "        # Neighborhood Creation\n",
        "        # Assigning points as core and non-core\n",
        "\n",
        "        for i in range(len(news_df)):\n",
        "            neighbors[i] = get_neighbors(i, news_df, news_eucd, eps)\n",
        "            if len(neighbors[i]) > min_samples:\n",
        "                core.append(i)\n",
        "            else:\n",
        "                non_core.append(i)\n",
        "\n",
        "\n",
        "        # Iterate through samples and expand clusters from them if they have more neighbors than min_samples\n",
        "\n",
        "        cn = 1\n",
        "\n",
        "        for i in core:\n",
        "\n",
        "            if visited_samples[i]:\n",
        "                continue\n",
        "\n",
        "            stack = [i]\n",
        "            cluster_lb[i] = cn\n",
        "\n",
        "            while stack:\n",
        "\n",
        "                n = stack.pop()\n",
        "\n",
        "                if visited_samples[n]:\n",
        "                    continue\n",
        "\n",
        "                visited_samples[n] = True\n",
        "\n",
        "                if n in core:\n",
        "                    for nn in neighbors[n]:\n",
        "                        if cluster_lb[nn] == -1:\n",
        "                            cluster_lb[nn] = cn\n",
        "                    stack.extend(neighbors[n])\n",
        "                else:\n",
        "                    cluster_lb[n] = cn\n",
        "\n",
        "            cn += 1\n",
        "\n",
        "        res = {}\n",
        "        res['eps'] = e\n",
        "        res['min_samples'] = ms\n",
        "        res['num_clusters'] = len(set(cluster_lb))\n",
        "        res['cluster_lb'] = cluster_lb\n",
        "        res['purity'] = get_purity(news_df['Label'], cluster_lb, 2000)\n",
        "        res['gini'] = get_gini(news_df['Label'], cluster_lb, 2000)\n",
        "\n",
        "        dbscan.append(res)\n"
      ],
      "metadata": {
        "id": "2ejhylj-e86v"
      },
      "execution_count": 35,
      "outputs": []
    },
    {
      "cell_type": "code",
      "source": [
        "max_purity = 0\n",
        "cst = 0\n",
        "\n",
        "for i in range(len(dbscan)):\n",
        "    if (dbscan[i]['purity'] > max_purity) and (dbscan[i]['num_clusters'] >= 15 and dbscan[i]['num_clusters'] <= 20):\n",
        "        max_purity = dbscan[i]['purity']\n",
        "        cst = i"
      ],
      "metadata": {
        "id": "rjlsOVYEfMrw"
      },
      "execution_count": 38,
      "outputs": []
    },
    {
      "cell_type": "code",
      "source": [
        "print('Best Purity:', dbscan[cst]['purity'])\n",
        "print('Best Gini:', dbscan[cst]['gini'])\n",
        "print('No. of Clusters:', dbscan[cst]['num_clusters'])\n",
        "print('Epsilon:', round(dbscan[cst]['eps'],2))\n",
        "print('Min. no. of neighbors:', dbscan[cst]['min_samples'])"
      ],
      "metadata": {
        "colab": {
          "base_uri": "https://localhost:8080/"
        },
        "outputId": "4992d549-c2c4-468d-9d99-017e3f67a50f",
        "id": "G43m8djCfMrx"
      },
      "execution_count": 39,
      "outputs": [
        {
          "output_type": "stream",
          "name": "stdout",
          "text": [
            "Best Purity: 0.92\n",
            "Best Gini: 0.08\n",
            "No. of Clusters: 20\n",
            "Epsilon: 1.08\n",
            "Min. no. of neighbors: 2\n"
          ]
        }
      ]
    },
    {
      "cell_type": "markdown",
      "source": [
        "### Household \n"
      ],
      "metadata": {
        "id": "UUMGgqV1bc4H"
      }
    },
    {
      "cell_type": "code",
      "source": [
        "with open('/content/drive/MyDrive/UML/HW3/household_power_consumption.txt') as f:\n",
        "    lines = f.readlines()\n",
        "\n",
        "household_df = [line.strip().split(\";\") for line in lines]\n",
        "household_df = pd.DataFrame(household_df[1:2001], columns=household_df[0])\n",
        "household_df = household_df.drop(['Date', 'Time'], axis=1)\n",
        "household_df = household_df.replace('?', np.nan).replace('', np.nan)\n",
        "household_df = household_df.dropna().reset_index(drop=True)\n",
        "household_df = household_df.astype(float)\n",
        "\n",
        "household_df"
      ],
      "metadata": {
        "colab": {
          "base_uri": "https://localhost:8080/",
          "height": 424
        },
        "id": "yniwWKYNbcHb",
        "outputId": "3a3cda74-b715-4266-89fb-e992c66e764d"
      },
      "execution_count": 20,
      "outputs": [
        {
          "output_type": "execute_result",
          "data": {
            "text/plain": [
              "      Global_active_power  Global_reactive_power  Voltage  Global_intensity  \\\n",
              "0                   4.216                  0.418   234.84              18.4   \n",
              "1                   5.360                  0.436   233.63              23.0   \n",
              "2                   5.374                  0.498   233.29              23.0   \n",
              "3                   5.388                  0.502   233.74              23.0   \n",
              "4                   3.666                  0.528   235.68              15.8   \n",
              "...                   ...                    ...      ...               ...   \n",
              "1995                0.318                  0.140   246.58               1.4   \n",
              "1996                0.312                  0.138   245.93               1.4   \n",
              "1997                0.310                  0.138   246.03               1.4   \n",
              "1998                0.308                  0.138   245.98               1.4   \n",
              "1999                0.308                  0.142   246.78               1.4   \n",
              "\n",
              "      Sub_metering_1  Sub_metering_2  Sub_metering_3  \n",
              "0                0.0             1.0            17.0  \n",
              "1                0.0             1.0            16.0  \n",
              "2                0.0             2.0            17.0  \n",
              "3                0.0             1.0            17.0  \n",
              "4                0.0             1.0            17.0  \n",
              "...              ...             ...             ...  \n",
              "1995             0.0             0.0             0.0  \n",
              "1996             0.0             0.0             0.0  \n",
              "1997             0.0             0.0             0.0  \n",
              "1998             0.0             0.0             0.0  \n",
              "1999             0.0             0.0             0.0  \n",
              "\n",
              "[2000 rows x 7 columns]"
            ],
            "text/html": [
              "\n",
              "  <div id=\"df-be74a68f-3dfa-484a-8ba4-1c695c4ac9d3\">\n",
              "    <div class=\"colab-df-container\">\n",
              "      <div>\n",
              "<style scoped>\n",
              "    .dataframe tbody tr th:only-of-type {\n",
              "        vertical-align: middle;\n",
              "    }\n",
              "\n",
              "    .dataframe tbody tr th {\n",
              "        vertical-align: top;\n",
              "    }\n",
              "\n",
              "    .dataframe thead th {\n",
              "        text-align: right;\n",
              "    }\n",
              "</style>\n",
              "<table border=\"1\" class=\"dataframe\">\n",
              "  <thead>\n",
              "    <tr style=\"text-align: right;\">\n",
              "      <th></th>\n",
              "      <th>Global_active_power</th>\n",
              "      <th>Global_reactive_power</th>\n",
              "      <th>Voltage</th>\n",
              "      <th>Global_intensity</th>\n",
              "      <th>Sub_metering_1</th>\n",
              "      <th>Sub_metering_2</th>\n",
              "      <th>Sub_metering_3</th>\n",
              "    </tr>\n",
              "  </thead>\n",
              "  <tbody>\n",
              "    <tr>\n",
              "      <th>0</th>\n",
              "      <td>4.216</td>\n",
              "      <td>0.418</td>\n",
              "      <td>234.84</td>\n",
              "      <td>18.4</td>\n",
              "      <td>0.0</td>\n",
              "      <td>1.0</td>\n",
              "      <td>17.0</td>\n",
              "    </tr>\n",
              "    <tr>\n",
              "      <th>1</th>\n",
              "      <td>5.360</td>\n",
              "      <td>0.436</td>\n",
              "      <td>233.63</td>\n",
              "      <td>23.0</td>\n",
              "      <td>0.0</td>\n",
              "      <td>1.0</td>\n",
              "      <td>16.0</td>\n",
              "    </tr>\n",
              "    <tr>\n",
              "      <th>2</th>\n",
              "      <td>5.374</td>\n",
              "      <td>0.498</td>\n",
              "      <td>233.29</td>\n",
              "      <td>23.0</td>\n",
              "      <td>0.0</td>\n",
              "      <td>2.0</td>\n",
              "      <td>17.0</td>\n",
              "    </tr>\n",
              "    <tr>\n",
              "      <th>3</th>\n",
              "      <td>5.388</td>\n",
              "      <td>0.502</td>\n",
              "      <td>233.74</td>\n",
              "      <td>23.0</td>\n",
              "      <td>0.0</td>\n",
              "      <td>1.0</td>\n",
              "      <td>17.0</td>\n",
              "    </tr>\n",
              "    <tr>\n",
              "      <th>4</th>\n",
              "      <td>3.666</td>\n",
              "      <td>0.528</td>\n",
              "      <td>235.68</td>\n",
              "      <td>15.8</td>\n",
              "      <td>0.0</td>\n",
              "      <td>1.0</td>\n",
              "      <td>17.0</td>\n",
              "    </tr>\n",
              "    <tr>\n",
              "      <th>...</th>\n",
              "      <td>...</td>\n",
              "      <td>...</td>\n",
              "      <td>...</td>\n",
              "      <td>...</td>\n",
              "      <td>...</td>\n",
              "      <td>...</td>\n",
              "      <td>...</td>\n",
              "    </tr>\n",
              "    <tr>\n",
              "      <th>1995</th>\n",
              "      <td>0.318</td>\n",
              "      <td>0.140</td>\n",
              "      <td>246.58</td>\n",
              "      <td>1.4</td>\n",
              "      <td>0.0</td>\n",
              "      <td>0.0</td>\n",
              "      <td>0.0</td>\n",
              "    </tr>\n",
              "    <tr>\n",
              "      <th>1996</th>\n",
              "      <td>0.312</td>\n",
              "      <td>0.138</td>\n",
              "      <td>245.93</td>\n",
              "      <td>1.4</td>\n",
              "      <td>0.0</td>\n",
              "      <td>0.0</td>\n",
              "      <td>0.0</td>\n",
              "    </tr>\n",
              "    <tr>\n",
              "      <th>1997</th>\n",
              "      <td>0.310</td>\n",
              "      <td>0.138</td>\n",
              "      <td>246.03</td>\n",
              "      <td>1.4</td>\n",
              "      <td>0.0</td>\n",
              "      <td>0.0</td>\n",
              "      <td>0.0</td>\n",
              "    </tr>\n",
              "    <tr>\n",
              "      <th>1998</th>\n",
              "      <td>0.308</td>\n",
              "      <td>0.138</td>\n",
              "      <td>245.98</td>\n",
              "      <td>1.4</td>\n",
              "      <td>0.0</td>\n",
              "      <td>0.0</td>\n",
              "      <td>0.0</td>\n",
              "    </tr>\n",
              "    <tr>\n",
              "      <th>1999</th>\n",
              "      <td>0.308</td>\n",
              "      <td>0.142</td>\n",
              "      <td>246.78</td>\n",
              "      <td>1.4</td>\n",
              "      <td>0.0</td>\n",
              "      <td>0.0</td>\n",
              "      <td>0.0</td>\n",
              "    </tr>\n",
              "  </tbody>\n",
              "</table>\n",
              "<p>2000 rows × 7 columns</p>\n",
              "</div>\n",
              "      <button class=\"colab-df-convert\" onclick=\"convertToInteractive('df-be74a68f-3dfa-484a-8ba4-1c695c4ac9d3')\"\n",
              "              title=\"Convert this dataframe to an interactive table.\"\n",
              "              style=\"display:none;\">\n",
              "        \n",
              "  <svg xmlns=\"http://www.w3.org/2000/svg\" height=\"24px\"viewBox=\"0 0 24 24\"\n",
              "       width=\"24px\">\n",
              "    <path d=\"M0 0h24v24H0V0z\" fill=\"none\"/>\n",
              "    <path d=\"M18.56 5.44l.94 2.06.94-2.06 2.06-.94-2.06-.94-.94-2.06-.94 2.06-2.06.94zm-11 1L8.5 8.5l.94-2.06 2.06-.94-2.06-.94L8.5 2.5l-.94 2.06-2.06.94zm10 10l.94 2.06.94-2.06 2.06-.94-2.06-.94-.94-2.06-.94 2.06-2.06.94z\"/><path d=\"M17.41 7.96l-1.37-1.37c-.4-.4-.92-.59-1.43-.59-.52 0-1.04.2-1.43.59L10.3 9.45l-7.72 7.72c-.78.78-.78 2.05 0 2.83L4 21.41c.39.39.9.59 1.41.59.51 0 1.02-.2 1.41-.59l7.78-7.78 2.81-2.81c.8-.78.8-2.07 0-2.86zM5.41 20L4 18.59l7.72-7.72 1.47 1.35L5.41 20z\"/>\n",
              "  </svg>\n",
              "      </button>\n",
              "      \n",
              "  <style>\n",
              "    .colab-df-container {\n",
              "      display:flex;\n",
              "      flex-wrap:wrap;\n",
              "      gap: 12px;\n",
              "    }\n",
              "\n",
              "    .colab-df-convert {\n",
              "      background-color: #E8F0FE;\n",
              "      border: none;\n",
              "      border-radius: 50%;\n",
              "      cursor: pointer;\n",
              "      display: none;\n",
              "      fill: #1967D2;\n",
              "      height: 32px;\n",
              "      padding: 0 0 0 0;\n",
              "      width: 32px;\n",
              "    }\n",
              "\n",
              "    .colab-df-convert:hover {\n",
              "      background-color: #E2EBFA;\n",
              "      box-shadow: 0px 1px 2px rgba(60, 64, 67, 0.3), 0px 1px 3px 1px rgba(60, 64, 67, 0.15);\n",
              "      fill: #174EA6;\n",
              "    }\n",
              "\n",
              "    [theme=dark] .colab-df-convert {\n",
              "      background-color: #3B4455;\n",
              "      fill: #D2E3FC;\n",
              "    }\n",
              "\n",
              "    [theme=dark] .colab-df-convert:hover {\n",
              "      background-color: #434B5C;\n",
              "      box-shadow: 0px 1px 3px 1px rgba(0, 0, 0, 0.15);\n",
              "      filter: drop-shadow(0px 1px 2px rgba(0, 0, 0, 0.3));\n",
              "      fill: #FFFFFF;\n",
              "    }\n",
              "  </style>\n",
              "\n",
              "      <script>\n",
              "        const buttonEl =\n",
              "          document.querySelector('#df-be74a68f-3dfa-484a-8ba4-1c695c4ac9d3 button.colab-df-convert');\n",
              "        buttonEl.style.display =\n",
              "          google.colab.kernel.accessAllowed ? 'block' : 'none';\n",
              "\n",
              "        async function convertToInteractive(key) {\n",
              "          const element = document.querySelector('#df-be74a68f-3dfa-484a-8ba4-1c695c4ac9d3');\n",
              "          const dataTable =\n",
              "            await google.colab.kernel.invokeFunction('convertToInteractive',\n",
              "                                                     [key], {});\n",
              "          if (!dataTable) return;\n",
              "\n",
              "          const docLinkHtml = 'Like what you see? Visit the ' +\n",
              "            '<a target=\"_blank\" href=https://colab.research.google.com/notebooks/data_table.ipynb>data table notebook</a>'\n",
              "            + ' to learn more about interactive tables.';\n",
              "          element.innerHTML = '';\n",
              "          dataTable['output_type'] = 'display_data';\n",
              "          await google.colab.output.renderOutput(dataTable, element);\n",
              "          const docLink = document.createElement('div');\n",
              "          docLink.innerHTML = docLinkHtml;\n",
              "          element.appendChild(docLink);\n",
              "        }\n",
              "      </script>\n",
              "    </div>\n",
              "  </div>\n",
              "  "
            ]
          },
          "metadata": {},
          "execution_count": 20
        }
      ]
    },
    {
      "cell_type": "code",
      "source": [
        "# Pre-compute euclidean distances\n",
        "\n",
        "house_eucd = metrics.pairwise.euclidean_distances(household_df)"
      ],
      "metadata": {
        "id": "CjIVjmwHnQCU"
      },
      "execution_count": 21,
      "outputs": []
    },
    {
      "cell_type": "code",
      "source": [
        "dbscan = []\n",
        "min_eps = round(np.mean(house_eucd),2) - 2\n",
        "max_eps = round(np.mean(house_eucd),2) + 0.1\n",
        "\n",
        "for e in np.arange(min_eps, max_eps, 0.2, dtype=float):\n",
        "\n",
        "    eps = e\n",
        "\n",
        "    for ms in np.arange(2,11,1):\n",
        "        \n",
        "        min_samples = ms\n",
        "        visited_samples = [False for i in range(len(household_df))]\n",
        "        cluster_lb = [-1 for i in range(len(household_df))]\n",
        "        neighbors = {}\n",
        "\n",
        "        core = []\n",
        "        non_core = []\n",
        "\n",
        "\n",
        "        # Neighborhood Creation\n",
        "        # Assigning points as core and non-core\n",
        "\n",
        "        for i in range(len(household_df)):\n",
        "            neighbors[i] = get_neighbors(i, household_df, house_eucd, eps)\n",
        "            if len(neighbors[i]) > min_samples:\n",
        "                core.append(i)\n",
        "            else:\n",
        "                non_core.append(i)\n",
        "\n",
        "\n",
        "        # Iterate through samples and expand clusters from them if they have more neighbors than min_samples\n",
        "\n",
        "        cn = 1\n",
        "\n",
        "        for i in core:\n",
        "\n",
        "            if visited_samples[i]:\n",
        "                continue\n",
        "\n",
        "            stack = [i]\n",
        "            cluster_lb[i] = cn\n",
        "\n",
        "            while stack:\n",
        "\n",
        "                n = stack.pop()\n",
        "\n",
        "                if visited_samples[n]:\n",
        "                    continue\n",
        "\n",
        "                visited_samples[n] = True\n",
        "\n",
        "                if n in core:\n",
        "                    for nn in neighbors[n]:\n",
        "                        if cluster_lb[nn] == -1:\n",
        "                            cluster_lb[nn] = cn\n",
        "                    stack.extend(neighbors[n])\n",
        "                else:\n",
        "                    cluster_lb[n] = cn\n",
        "\n",
        "            cn += 1\n",
        "\n",
        "        res = {}\n",
        "        res['eps'] = e\n",
        "        res['min_samples'] = ms\n",
        "        res['num_clusters'] = len(set(cluster_lb))\n",
        "        res['cluster_lb'] = cluster_lb\n",
        "        res['silhouette_score'] = silhouette_score(house_eucd, cluster_lb)\n",
        "\n",
        "        dbscan.append(res)\n"
      ],
      "metadata": {
        "id": "yj-vVtr2zd5e"
      },
      "execution_count": 23,
      "outputs": []
    },
    {
      "cell_type": "code",
      "source": [
        "max_silhouette = 0\n",
        "cst = 0\n",
        "\n",
        "for i in range(len(dbscan)):\n",
        "    if (dbscan[i]['silhouette_score'] > max_silhouette):\n",
        "        max_silhouette = dbscan[i]['silhouette_score']\n",
        "        cst = i"
      ],
      "metadata": {
        "id": "CzY253HczwTg"
      },
      "execution_count": 24,
      "outputs": []
    },
    {
      "cell_type": "code",
      "source": [
        "print('Best Silhouette Score:', round(dbscan[cst]['silhouette_score'],2))\n",
        "print('No. of Clusters:', dbscan[cst]['num_clusters'])\n",
        "print('Epsilon:', round(dbscan[cst]['eps'],2))\n",
        "print('Min. no. of neighbors:', dbscan[cst]['min_samples'])"
      ],
      "metadata": {
        "colab": {
          "base_uri": "https://localhost:8080/"
        },
        "outputId": "f30aa17a-c493-4db3-f884-c7d6e1d652a0",
        "id": "Zsfm-Z9DzwTh"
      },
      "execution_count": 26,
      "outputs": [
        {
          "output_type": "stream",
          "name": "stdout",
          "text": [
            "Best Silhouette Score: 0.62\n",
            "No. of Clusters: 4\n",
            "Epsilon: 15.08\n",
            "Min. no. of neighbors: 4\n"
          ]
        }
      ]
    }
  ]
}